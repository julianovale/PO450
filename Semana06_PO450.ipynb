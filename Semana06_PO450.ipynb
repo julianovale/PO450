{
  "nbformat": 4,
  "nbformat_minor": 0,
  "metadata": {
    "colab": {
      "name": "Semana06_PO450.ipynb",
      "provenance": [],
      "collapsed_sections": [],
      "authorship_tag": "ABX9TyNiZMbGhpVDJgVNuSETwy0y",
      "include_colab_link": true
    },
    "kernelspec": {
      "name": "python3",
      "display_name": "Python 3"
    },
    "language_info": {
      "name": "python"
    }
  },
  "cells": [
    {
      "cell_type": "markdown",
      "metadata": {
        "id": "view-in-github",
        "colab_type": "text"
      },
      "source": [
        "<a href=\"https://colab.research.google.com/github/julianovale/PO450/blob/main/Semana06_PO450.ipynb\" target=\"_parent\"><img src=\"https://colab.research.google.com/assets/colab-badge.svg\" alt=\"Open In Colab\"/></a>"
      ]
    },
    {
      "cell_type": "code",
      "metadata": {
        "id": "ZNY70mi0wXpu"
      },
      "source": [
        "import matplotlib.pyplot as plt\n",
        "import numpy as np\n",
        "from sklearn.model_selection import train_test_split\n",
        "from sklearn.linear_model import LinearRegression"
      ],
      "execution_count": 1,
      "outputs": []
    },
    {
      "cell_type": "code",
      "metadata": {
        "id": "rlBTxpAF0hOh"
      },
      "source": [
        "# Geracao de dados\n",
        "N = 500 # Numero de amostras\n",
        "mean_C1 = [0, 0]\n",
        "cov_C1 = [[3, 0], [0, 3]]  # diagonal covariance\n",
        "X_C1 = np.random.multivariate_normal(mean_C1, cov_C1,int(N/2))\n",
        "d_C1 = -np.ones((int(N/2),1))\n",
        "\n",
        "mean_C2 = [3, 3]\n",
        "cov_C2 = [[3, 0], [0, 3]]  # diagonal covariance\n",
        "X_C2 = np.random.multivariate_normal(mean_C2, cov_C2,int(N/2))\n",
        "d_C2 = np.ones((int(N/2),1))"
      ],
      "execution_count": 2,
      "outputs": []
    },
    {
      "cell_type": "code",
      "metadata": {
        "id": "jrFM5-gs1YHO"
      },
      "source": [
        "X_aux = np.concatenate((X_C1,X_C2), axis=0)\n",
        "d_aux = np.concatenate((d_C1,d_C2), axis=0)"
      ],
      "execution_count": 3,
      "outputs": []
    },
    {
      "cell_type": "code",
      "metadata": {
        "id": "2CGCviUN2DiG"
      },
      "source": [
        "indx = np.arange(len(X_aux))\n",
        "np.random.shuffle(indx)\n",
        "\n",
        "X = X_aux[indx]\n",
        "d = d_aux[indx]"
      ],
      "execution_count": 4,
      "outputs": []
    },
    {
      "cell_type": "code",
      "metadata": {
        "id": "xIwCgz212f3d"
      },
      "source": [
        "prop_test = 0.3\n",
        "X_train, X_test, d_train, d_test = train_test_split(X, d, test_size = prop_test)"
      ],
      "execution_count": 5,
      "outputs": []
    },
    {
      "cell_type": "code",
      "metadata": {
        "colab": {
          "base_uri": "https://localhost:8080/"
        },
        "id": "WItEAQrd3U35",
        "outputId": "cd59e85f-b92d-42ca-8258-9df55e7e9c4b"
      },
      "source": [
        "model_reg_linear = LinearRegression()\n",
        "model_reg_linear.fit(X_train, d_train)"
      ],
      "execution_count": 6,
      "outputs": [
        {
          "output_type": "execute_result",
          "data": {
            "text/plain": [
              "LinearRegression(copy_X=True, fit_intercept=True, n_jobs=None, normalize=False)"
            ]
          },
          "metadata": {
            "tags": []
          },
          "execution_count": 6
        }
      ]
    },
    {
      "cell_type": "code",
      "metadata": {
        "colab": {
          "base_uri": "https://localhost:8080/"
        },
        "id": "HjYmVuJd3pWH",
        "outputId": "77b91e3d-07b4-4f9a-b62f-1ee7dd21e096"
      },
      "source": [
        "y_hat_train = model_reg_linear.predict(X_train)\n",
        "d_hat_train = np.sign(y_hat_train)\n",
        "error_train = np.abs(d_hat_train - d_train)/2 # 0 é acerto; 1 é erro.\n",
        "acc_train = 1 - (np.sum(error_train)/error_train.size)\n",
        "print('Acurácia do treinamento: ', acc_train)"
      ],
      "execution_count": 7,
      "outputs": [
        {
          "output_type": "stream",
          "text": [
            "Acurácia do treinamento:  0.8857142857142857\n"
          ],
          "name": "stdout"
        }
      ]
    },
    {
      "cell_type": "code",
      "metadata": {
        "colab": {
          "base_uri": "https://localhost:8080/"
        },
        "id": "KVcgiZPe3zq4",
        "outputId": "d1f34ab1-59b8-43a9-fc03-00aef97f5204"
      },
      "source": [
        "y_hat_test = model_reg_linear.predict(X_test)\n",
        "d_hat_test = np.sign(y_hat_test)\n",
        "error_test = np.abs(d_hat_test - d_test)/2 # 0 é acerto; 1 é erro.\n",
        "acc_test = 1 - (np.sum(error_test)/error_test.size)\n",
        "print('Acurácia do teste: ', acc_test)"
      ],
      "execution_count": 8,
      "outputs": [
        {
          "output_type": "stream",
          "text": [
            "Acurácia do teste:  0.8733333333333333\n"
          ],
          "name": "stdout"
        }
      ]
    },
    {
      "cell_type": "code",
      "metadata": {
        "colab": {
          "base_uri": "https://localhost:8080/",
          "height": 265
        },
        "id": "zdavPbNx8-g4",
        "outputId": "119b5e87-3df4-489b-b852-d7fac8783a9e"
      },
      "source": [
        "w_LS = np.zeros(3)\n",
        "w_LS[0] = model_reg_linear.intercept_\n",
        "w_LS[1] = model_reg_linear.coef_[0,0]\n",
        "w_LS[2] = model_reg_linear.coef_[0,1]\n",
        "x1aux = np.linspace(X.min(), X.max(), 2000)\n",
        "x2aux = -(w_LS[1]/w_LS[2])*x1aux-(w_LS[0]/w_LS[2])\n",
        "plt.plot(X_C1[:,0], X_C1[:,1],'o')\n",
        "plt.plot(X_C2[:,0], X_C2[:,1], 'ro')\n",
        "plt.plot(x1aux,x2aux,'k')\n",
        "plt.show()"
      ],
      "execution_count": 9,
      "outputs": [
        {
          "output_type": "display_data",
          "data": {
            "image/png": "[encoded data removed]",
            "text/plain": [
              "<Figure size 432x288 with 1 Axes>"
            ]
          },
          "metadata": {
            "tags": [],
            "needs_background": "light"
          }
        }
      ]
    }
  ]
}