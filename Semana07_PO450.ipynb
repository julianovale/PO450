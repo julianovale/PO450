{
  "nbformat": 4,
  "nbformat_minor": 0,
  "metadata": {
    "colab": {
      "name": "Semana07_PO450.ipynb",
      "provenance": [],
      "collapsed_sections": [],
      "authorship_tag": "ABX9TyNF9Yg51ey7yvw9up9R7/bI",
      "include_colab_link": true
    },
    "kernelspec": {
      "name": "python3",
      "display_name": "Python 3"
    },
    "language_info": {
      "name": "python"
    }
  },
  "cells": [
    {
      "cell_type": "markdown",
      "metadata": {
        "id": "view-in-github",
        "colab_type": "text"
      },
      "source": [
        "<a href=\"https://colab.research.google.com/github/julianovale/PO450/blob/main/Semana07_PO450.ipynb\" target=\"_parent\"><img src=\"https://colab.research.google.com/assets/colab-badge.svg\" alt=\"Open In Colab\"/></a>"
      ]
    },
    {
      "cell_type": "code",
      "metadata": {
        "id": "ZNY70mi0wXpu"
      },
      "source": [
        "import matplotlib.pyplot as plt\n",
        "import numpy as np\n",
        "from sklearn.model_selection import train_test_split\n",
        "from sklearn.linear_model import LinearRegression\n",
        "from sklearn.metrics import mean_squared_error\n",
        "from sklearn.metrics import roc_curve\n",
        "from sklearn.metrics import confusion_matrix, ConfusionMatrixDisplay"
      ],
      "execution_count": 128,
      "outputs": []
    },
    {
      "cell_type": "code",
      "metadata": {
        "id": "rlBTxpAF0hOh"
      },
      "source": [
        "# Geracao de dados\n",
        "N = 5000 # Numero de amostras\n",
        "mean_C1 = [0, 0]\n",
        "cov_C1 = [[3, 0], [0, 3]]  # diagonal covariance\n",
        "X_C1 = np.random.multivariate_normal(mean_C1, cov_C1,int(N/2))\n",
        "d_C1 = -np.ones((int(N/2),1))\n",
        "\n",
        "mean_C2 = [3, 3]\n",
        "cov_C2 = [[3, 0], [0, 3]]  # diagonal covariance\n",
        "X_C2 = np.random.multivariate_normal(mean_C2, cov_C2,int(N/2))\n",
        "d_C2 = np.ones((int(N/2),1))"
      ],
      "execution_count": 129,
      "outputs": []
    },
    {
      "cell_type": "code",
      "metadata": {
        "id": "jrFM5-gs1YHO"
      },
      "source": [
        "X_aux = np.concatenate((X_C1,X_C2), axis=0)\n",
        "d_aux = np.concatenate((d_C1,d_C2), axis=0)"
      ],
      "execution_count": 130,
      "outputs": []
    },
    {
      "cell_type": "code",
      "metadata": {
        "id": "2CGCviUN2DiG"
      },
      "source": [
        "indx = np.arange(len(X_aux))\n",
        "np.random.shuffle(indx)\n",
        "\n",
        "X = X_aux[indx]\n",
        "d = d_aux[indx]"
      ],
      "execution_count": 131,
      "outputs": []
    },
    {
      "cell_type": "code",
      "metadata": {
        "id": "xIwCgz212f3d"
      },
      "source": [
        "prop_test = 0.3\n",
        "X_train, X_test, d_train, d_test = train_test_split(X, d, test_size = prop_test)"
      ],
      "execution_count": 132,
      "outputs": []
    },
    {
      "cell_type": "code",
      "metadata": {
        "colab": {
          "base_uri": "https://localhost:8080/"
        },
        "id": "WItEAQrd3U35",
        "outputId": "b53894eb-d7f4-4d83-e6ba-a1f55ce04308"
      },
      "source": [
        "model_reg_linear = LinearRegression()\n",
        "model_reg_linear.fit(X_train, d_train)"
      ],
      "execution_count": 133,
      "outputs": [
        {
          "output_type": "execute_result",
          "data": {
            "text/plain": [
              "LinearRegression(copy_X=True, fit_intercept=True, n_jobs=None, normalize=False)"
            ]
          },
          "metadata": {
            "tags": []
          },
          "execution_count": 133
        }
      ]
    },
    {
      "cell_type": "code",
      "metadata": {
        "colab": {
          "base_uri": "https://localhost:8080/"
        },
        "id": "HjYmVuJd3pWH",
        "outputId": "f460b52e-af16-4243-b0c5-145d297cde7e"
      },
      "source": [
        "y_hat_train = model_reg_linear.predict(X_train)\n",
        "d_hat_train = np.sign(y_hat_train)\n",
        "error_train = np.abs(d_hat_train - d_train)/2 # 0 é acerto; 1 é erro.\n",
        "acc_train = 1 - (np.sum(error_train)/error_train.size)\n",
        "print('Acurácia do treinamento: ', acc_train)"
      ],
      "execution_count": 134,
      "outputs": [
        {
          "output_type": "stream",
          "text": [
            "Acurácia do treinamento:  0.8851428571428571\n"
          ],
          "name": "stdout"
        }
      ]
    },
    {
      "cell_type": "code",
      "metadata": {
        "colab": {
          "base_uri": "https://localhost:8080/"
        },
        "id": "KVcgiZPe3zq4",
        "outputId": "a67162e4-f524-4b7c-d159-179b79c21343"
      },
      "source": [
        "y_hat_test = model_reg_linear.predict(X_test)\n",
        "d_hat_test = np.sign(y_hat_test)\n",
        "error_test = np.abs(d_hat_test - d_test)/2 # 0 é acerto; 1 é erro.\n",
        "acc_test = 1 - (np.sum(error_test)/error_test.size)\n",
        "print('Acurácia do teste: ', acc_test)"
      ],
      "execution_count": 135,
      "outputs": [
        {
          "output_type": "stream",
          "text": [
            "Acurácia do teste:  0.8926666666666667\n"
          ],
          "name": "stdout"
        }
      ]
    },
    {
      "cell_type": "code",
      "metadata": {
        "colab": {
          "base_uri": "https://localhost:8080/",
          "height": 264
        },
        "id": "zdavPbNx8-g4",
        "outputId": "b75c516b-9e02-4447-b7d8-780023995174"
      },
      "source": [
        "w_LS = np.zeros(3)\n",
        "w_LS[0] = model_reg_linear.intercept_\n",
        "w_LS[1] = model_reg_linear.coef_[0,0]\n",
        "w_LS[2] = model_reg_linear.coef_[0,1]\n",
        "x1aux = np.linspace(X.min(), X.max(), 2000)\n",
        "x2aux = -(w_LS[1]/w_LS[2])*x1aux-(w_LS[0]/w_LS[2])\n",
        "plt.plot(X_C1[:,0], X_C1[:,1],'o')\n",
        "plt.plot(X_C2[:,0], X_C2[:,1], 'ro')\n",
        "plt.plot(x1aux,x2aux,'k')\n",
        "plt.show()"
      ],
      "execution_count": 136,
      "outputs": [
        {
          "output_type": "display_data",
          "data": {
            "image/png": "[encoded data removed]",
            "text/plain": [
              "<Figure size 432x288 with 1 Axes>"
            ]
          },
          "metadata": {
            "tags": [],
            "needs_background": "light"
          }
        }
      ]
    },
    {
      "cell_type": "code",
      "metadata": {
        "colab": {
          "base_uri": "https://localhost:8080/",
          "height": 278
        },
        "id": "6sC6nNrL74bL",
        "outputId": "2f2b2891-a0b9-431a-eca8-9e3f2d5c942f"
      },
      "source": [
        "# Curva ROC\n",
        "\n",
        "fpr, tpr, thresholds = roc_curve(d_train, y_hat_train)\n",
        "\n",
        "plt.plot(fpr, tpr)\n",
        "plt.xlabel(\"FPR\")\n",
        "plt.ylabel(\"TPR\");"
      ],
      "execution_count": 137,
      "outputs": [
        {
          "output_type": "display_data",
          "data": {
            "image/png": "[encoded data removed]",
            "text/plain": [
              "<Figure size 432x288 with 1 Axes>"
            ]
          },
          "metadata": {
            "tags": [],
            "needs_background": "light"
          }
        }
      ]
    },
    {
      "cell_type": "code",
      "metadata": {
        "colab": {
          "base_uri": "https://localhost:8080/",
          "height": 278
        },
        "id": "xwxPyTm-8bVx",
        "outputId": "baeb2557-4674-403b-eeee-90e3af43d17c"
      },
      "source": [
        "# Curva ROC\n",
        "\n",
        "fpr, tpr, thresholds = roc_curve(d_test, y_hat_test)\n",
        "\n",
        "plt.plot(fpr, tpr)\n",
        "plt.xlabel(\"FPR\")\n",
        "plt.ylabel(\"TPR\");"
      ],
      "execution_count": 138,
      "outputs": [
        {
          "output_type": "display_data",
          "data": {
            "image/png": "[encoded data removed]",
            "text/plain": [
              "<Figure size 432x288 with 1 Axes>"
            ]
          },
          "metadata": {
            "tags": [],
            "needs_background": "light"
          }
        }
      ]
    },
    {
      "cell_type": "code",
      "metadata": {
        "colab": {
          "base_uri": "https://localhost:8080/",
          "height": 278
        },
        "id": "OuBmta519YQi",
        "outputId": "18990d1c-c1b7-4376-df3e-8d4521fe68af"
      },
      "source": [
        "Conf_Matrix = confusion_matrix(d_train, d_hat_train)\n",
        "disp = ConfusionMatrixDisplay(confusion_matrix=Conf_Matrix,display_labels=(0,1))\n",
        "disp.plot();"
      ],
      "execution_count": 139,
      "outputs": [
        {
          "output_type": "display_data",
          "data": {
            "image/png": "[encoded data removed]",
            "text/plain": [
              "<Figure size 432x288 with 2 Axes>"
            ]
          },
          "metadata": {
            "tags": [],
            "needs_background": "light"
          }
        }
      ]
    },
    {
      "cell_type": "code",
      "metadata": {
        "colab": {
          "base_uri": "https://localhost:8080/",
          "height": 278
        },
        "id": "kRmJCmKr_gt0",
        "outputId": "ca95b986-ba45-4a08-c44f-86cbf2045c69"
      },
      "source": [
        "Conf_Matrix = confusion_matrix(d_test, d_hat_test)\n",
        "disp = ConfusionMatrixDisplay(confusion_matrix=Conf_Matrix, display_labels=(0,1))\n",
        "disp.plot();"
      ],
      "execution_count": 140,
      "outputs": [
        {
          "output_type": "display_data",
          "data": {
            "image/png": "[encoded data removed]",
            "text/plain": [
              "<Figure size 432x288 with 2 Axes>"
            ]
          },
          "metadata": {
            "tags": [],
            "needs_background": "light"
          }
        }
      ]
    }
  ]
}