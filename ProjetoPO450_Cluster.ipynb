{
  "nbformat": 4,
  "nbformat_minor": 0,
  "metadata": {
    "colab": {
      "name": "ProjetoPO450_Cluster.ipynb",
      "provenance": [],
      "collapsed_sections": [],
      "authorship_tag": "ABX9TyOFdxC9Qq2RsrnQtIY7eajo",
      "include_colab_link": true
    },
    "kernelspec": {
      "name": "python3",
      "display_name": "Python 3"
    },
    "language_info": {
      "name": "python"
    }
  },
  "cells": [
    {
      "cell_type": "markdown",
      "metadata": {
        "id": "view-in-github",
        "colab_type": "text"
      },
      "source": [
        "<a href=\"https://colab.research.google.com/github/julianovale/PO450/blob/main/ProjetoPO450_Cluster.ipynb\" target=\"_parent\"><img src=\"https://colab.research.google.com/assets/colab-badge.svg\" alt=\"Open In Colab\"/></a>"
      ]
    },
    {
      "cell_type": "markdown",
      "metadata": {
        "id": "NmCf145AfzPd"
      },
      "source": [
        "# Importações de bibliotecas"
      ]
    },
    {
      "cell_type": "code",
      "metadata": {
        "id": "Y_0NcnnTVO9g"
      },
      "source": [
        "import pandas as pd\n",
        "import numpy as np\n",
        "import matplotlib.pyplot as plt\n",
        "from sklearn.preprocessing import MinMaxScaler\n",
        "import seaborn as sns\n",
        "from sklearn.cluster import KMeans\n",
        "import plotly.graph_objects as go\n",
        "from sklearn.decomposition import PCA\n",
        "from sklearn.metrics import silhouette_score"
      ],
      "execution_count": null,
      "outputs": []
    },
    {
      "cell_type": "markdown",
      "metadata": {
        "id": "eczYeL5tgISI"
      },
      "source": [
        "# Importando dados"
      ]
    },
    {
      "cell_type": "code",
      "metadata": {
        "id": "rZjIhxrSVK5W"
      },
      "source": [
        "url = 'https://raw.githubusercontent.com/julianovale/PO450/main/seade/dados.csv'\n",
        "\n",
        "df = pd.read_csv(url, delimiter = ';', decimal=',', encoding= 'Windows-1252')"
      ],
      "execution_count": null,
      "outputs": []
    },
    {
      "cell_type": "markdown",
      "metadata": {
        "id": "u4jziQb1gOQO"
      },
      "source": [
        "# Separando atributos e atributos-alvo"
      ]
    },
    {
      "cell_type": "code",
      "metadata": {
        "id": "R-G7e96ldqPd"
      },
      "source": [
        "X = df[df.columns[3:-5]]\n",
        "Y = df[['IncidCovid%','LetalidCovid%','MortalidCovid%']]"
      ],
      "execution_count": null,
      "outputs": []
    },
    {
      "cell_type": "code",
      "metadata": {
        "colab": {
          "base_uri": "https://localhost:8080/"
        },
        "id": "BNkNymneXX8t",
        "outputId": "dd6c5e73-4d97-454a-95d1-f5d3cbef444b"
      },
      "source": [
        "ColumnsX = X.columns.ravel()\n",
        "ColumnsX"
      ],
      "execution_count": null,
      "outputs": [
        {
          "output_type": "execute_result",
          "data": {
            "text/plain": [
              "array(['Pop60mais%', 'DensDem', 'RazaoSexos', 'GrauUrb', 'TxMortalidade',\n",
              "       'PIBPerCapita', 'VlAdTPop', 'VlAdAPPop', 'VlAdIndPop',\n",
              "       'VlAdSrvPop', 'VlAdAgrPop', 'ImpostosPop', 'ConsEElTPop',\n",
              "       'ConsEEIndPop', 'ConsEECSPop', 'ConsEERurPop', 'ConsEEResPop',\n",
              "       'ConsEEIlPubPop', 'FrotaVeículosPop', 'AutomóveisPop',\n",
              "       'LeitosMilHab', 'LeitosSUSMilHab', 'AuxEnfMilHab', 'EnfMilHab',\n",
              "       'MedMilHab', 'TecEnfMilHab', 'EmpFormPop', 'RazaoEmpSexo',\n",
              "       'RendMedEmpregos', 'IDH-M', 'IDH-Long', 'IDH-Educ', 'IDH-Renda',\n",
              "       'RendaPCapita', 'DomMeioSMPC%', 'DomQuarSMPC%', 'Agua%', 'Lixo%',\n",
              "       'Esgoto%'], dtype=object)"
            ]
          },
          "metadata": {
            "tags": []
          },
          "execution_count": 15
        }
      ]
    },
    {
      "cell_type": "code",
      "metadata": {
        "colab": {
          "base_uri": "https://localhost:8080/"
        },
        "id": "Li-EnPCfXmhV",
        "outputId": "e2a1f25b-fb13-4e64-cb3f-712814669498"
      },
      "source": [
        "ColumnsY = Y.columns.ravel()\n",
        "ColumnsY"
      ],
      "execution_count": null,
      "outputs": [
        {
          "output_type": "execute_result",
          "data": {
            "text/plain": [
              "array(['IncidCovid%', 'LetalidCovid%', 'MortalidCovid%'], dtype=object)"
            ]
          },
          "metadata": {
            "tags": []
          },
          "execution_count": 16
        }
      ]
    },
    {
      "cell_type": "markdown",
      "metadata": {
        "id": "22nz9SKpgiSM"
      },
      "source": [
        "# Normalizando dados e separando Ys"
      ]
    },
    {
      "cell_type": "code",
      "metadata": {
        "id": "X2dcbg_Yglmq"
      },
      "source": [
        "scaler = MinMaxScaler()\n",
        "X_Normal = scaler.fit_transform(X)\n",
        "Y_Normal = scaler.fit_transform(Y)"
      ],
      "execution_count": null,
      "outputs": []
    },
    {
      "cell_type": "code",
      "metadata": {
        "id": "RUlMzZ6ijAgM"
      },
      "source": [
        "dfY = pd.DataFrame(Y_Normal)\n",
        "Y_I = dfY[0].to_numpy()\n",
        "Y_L = dfY[1].to_numpy()\n",
        "Y_M = dfY[2].to_numpy()"
      ],
      "execution_count": null,
      "outputs": []
    },
    {
      "cell_type": "markdown",
      "metadata": {
        "id": "jTdnBI3dX-z_"
      },
      "source": [
        "# Convertendo novamente em DataFrame"
      ]
    },
    {
      "cell_type": "code",
      "metadata": {
        "id": "EL-O5G0FYB24"
      },
      "source": [
        "X_Normal_df = pd.DataFrame(X_Normal, columns=ColumnsX)\n",
        "Y_Normal_df = pd.DataFrame(Y_Normal, columns=ColumnsY)"
      ],
      "execution_count": null,
      "outputs": []
    },
    {
      "cell_type": "code",
      "metadata": {
        "colab": {
          "base_uri": "https://localhost:8080/",
          "height": 314
        },
        "id": "igfLH-MNYZw6",
        "outputId": "73d11bac-a628-4638-a173-842e7d364b1c"
      },
      "source": [
        "X_Normal_df.describe()"
      ],
      "execution_count": null,
      "outputs": [
        {
          "output_type": "execute_result",
          "data": {
            "text/html": [
              "<div>\n",
              "<style scoped>\n",
              "    .dataframe tbody tr th:only-of-type {\n",
              "        vertical-align: middle;\n",
              "    }\n",
              "\n",
              "    .dataframe tbody tr th {\n",
              "        vertical-align: top;\n",
              "    }\n",
              "\n",
              "    .dataframe thead th {\n",
              "        text-align: right;\n",
              "    }\n",
              "</style>\n",
              "<table border=\"1\" class=\"dataframe\">\n",
              "  <thead>\n",
              "    <tr style=\"text-align: right;\">\n",
              "      <th></th>\n",
              "      <th>Pop60mais%</th>\n",
              "      <th>DensDem</th>\n",
              "      <th>RazaoSexos</th>\n",
              "      <th>GrauUrb</th>\n",
              "      <th>TxMortalidade</th>\n",
              "      <th>PIBPerCapita</th>\n",
              "      <th>VlAdTPop</th>\n",
              "      <th>VlAdAPPop</th>\n",
              "      <th>VlAdIndPop</th>\n",
              "      <th>VlAdSrvPop</th>\n",
              "      <th>VlAdAgrPop</th>\n",
              "      <th>ImpostosPop</th>\n",
              "      <th>ConsEElTPop</th>\n",
              "      <th>ConsEEIndPop</th>\n",
              "      <th>ConsEECSPop</th>\n",
              "      <th>ConsEERurPop</th>\n",
              "      <th>ConsEEResPop</th>\n",
              "      <th>ConsEEIlPubPop</th>\n",
              "      <th>FrotaVeículosPop</th>\n",
              "      <th>AutomóveisPop</th>\n",
              "      <th>LeitosMilHab</th>\n",
              "      <th>LeitosSUSMilHab</th>\n",
              "      <th>AuxEnfMilHab</th>\n",
              "      <th>EnfMilHab</th>\n",
              "      <th>MedMilHab</th>\n",
              "      <th>TecEnfMilHab</th>\n",
              "      <th>EmpFormPop</th>\n",
              "      <th>RazaoEmpSexo</th>\n",
              "      <th>RendMedEmpregos</th>\n",
              "      <th>IDH-M</th>\n",
              "      <th>IDH-Long</th>\n",
              "      <th>IDH-Educ</th>\n",
              "      <th>IDH-Renda</th>\n",
              "      <th>RendaPCapita</th>\n",
              "      <th>DomMeioSMPC%</th>\n",
              "      <th>DomQuarSMPC%</th>\n",
              "      <th>Agua%</th>\n",
              "      <th>Lixo%</th>\n",
              "      <th>Esgoto%</th>\n",
              "    </tr>\n",
              "  </thead>\n",
              "  <tbody>\n",
              "    <tr>\n",
              "      <th>count</th>\n",
              "      <td>645.000000</td>\n",
              "      <td>645.000000</td>\n",
              "      <td>645.000000</td>\n",
              "      <td>645.000000</td>\n",
              "      <td>645.000000</td>\n",
              "      <td>645.000000</td>\n",
              "      <td>645.000000</td>\n",
              "      <td>645.000000</td>\n",
              "      <td>645.000000</td>\n",
              "      <td>645.000000</td>\n",
              "      <td>645.000000</td>\n",
              "      <td>645.000000</td>\n",
              "      <td>645.000000</td>\n",
              "      <td>645.000000</td>\n",
              "      <td>645.000000</td>\n",
              "      <td>645.000000</td>\n",
              "      <td>645.000000</td>\n",
              "      <td>645.000000</td>\n",
              "      <td>645.000000</td>\n",
              "      <td>645.000000</td>\n",
              "      <td>645.000000</td>\n",
              "      <td>645.000000</td>\n",
              "      <td>645.000000</td>\n",
              "      <td>645.000000</td>\n",
              "      <td>645.000000</td>\n",
              "      <td>645.000000</td>\n",
              "      <td>645.000000</td>\n",
              "      <td>645.000000</td>\n",
              "      <td>645.000000</td>\n",
              "      <td>645.000000</td>\n",
              "      <td>645.000000</td>\n",
              "      <td>645.000000</td>\n",
              "      <td>645.000000</td>\n",
              "      <td>645.000000</td>\n",
              "      <td>645.000000</td>\n",
              "      <td>645.000000</td>\n",
              "      <td>645.000000</td>\n",
              "      <td>645.000000</td>\n",
              "      <td>645.000000</td>\n",
              "    </tr>\n",
              "    <tr>\n",
              "      <th>mean</th>\n",
              "      <td>0.393308</td>\n",
              "      <td>0.003470</td>\n",
              "      <td>0.047954</td>\n",
              "      <td>0.825974</td>\n",
              "      <td>0.365873</td>\n",
              "      <td>0.058490</td>\n",
              "      <td>0.053099</td>\n",
              "      <td>0.227762</td>\n",
              "      <td>0.024517</td>\n",
              "      <td>0.087374</td>\n",
              "      <td>0.098302</td>\n",
              "      <td>0.065079</td>\n",
              "      <td>0.010937</td>\n",
              "      <td>0.005657</td>\n",
              "      <td>0.105050</td>\n",
              "      <td>0.035612</td>\n",
              "      <td>0.302675</td>\n",
              "      <td>0.070107</td>\n",
              "      <td>0.515674</td>\n",
              "      <td>0.411048</td>\n",
              "      <td>0.043864</td>\n",
              "      <td>0.042511</td>\n",
              "      <td>0.201069</td>\n",
              "      <td>0.158294</td>\n",
              "      <td>0.120701</td>\n",
              "      <td>0.140998</td>\n",
              "      <td>0.127664</td>\n",
              "      <td>0.179320</td>\n",
              "      <td>0.264941</td>\n",
              "      <td>0.450794</td>\n",
              "      <td>0.530367</td>\n",
              "      <td>0.512578</td>\n",
              "      <td>0.416344</td>\n",
              "      <td>0.288270</td>\n",
              "      <td>0.304499</td>\n",
              "      <td>0.218248</td>\n",
              "      <td>0.941093</td>\n",
              "      <td>0.946208</td>\n",
              "      <td>0.898020</td>\n",
              "    </tr>\n",
              "    <tr>\n",
              "      <th>std</th>\n",
              "      <td>0.164171</td>\n",
              "      <td>0.040492</td>\n",
              "      <td>0.052058</td>\n",
              "      <td>0.179431</td>\n",
              "      <td>0.091742</td>\n",
              "      <td>0.073534</td>\n",
              "      <td>0.063819</td>\n",
              "      <td>0.131098</td>\n",
              "      <td>0.054336</td>\n",
              "      <td>0.100546</td>\n",
              "      <td>0.108457</td>\n",
              "      <td>0.107314</td>\n",
              "      <td>0.040078</td>\n",
              "      <td>0.040120</td>\n",
              "      <td>0.092024</td>\n",
              "      <td>0.057644</td>\n",
              "      <td>0.126317</td>\n",
              "      <td>0.054980</td>\n",
              "      <td>0.176386</td>\n",
              "      <td>0.139075</td>\n",
              "      <td>0.073441</td>\n",
              "      <td>0.077964</td>\n",
              "      <td>0.141316</td>\n",
              "      <td>0.084755</td>\n",
              "      <td>0.144908</td>\n",
              "      <td>0.080793</td>\n",
              "      <td>0.094377</td>\n",
              "      <td>0.105439</td>\n",
              "      <td>0.115122</td>\n",
              "      <td>0.145638</td>\n",
              "      <td>0.190854</td>\n",
              "      <td>0.158659</td>\n",
              "      <td>0.134684</td>\n",
              "      <td>0.111780</td>\n",
              "      <td>0.165713</td>\n",
              "      <td>0.144487</td>\n",
              "      <td>0.110126</td>\n",
              "      <td>0.087887</td>\n",
              "      <td>0.160499</td>\n",
              "    </tr>\n",
              "    <tr>\n",
              "      <th>min</th>\n",
              "      <td>0.000000</td>\n",
              "      <td>0.000000</td>\n",
              "      <td>0.000000</td>\n",
              "      <td>0.000000</td>\n",
              "      <td>0.000000</td>\n",
              "      <td>0.000000</td>\n",
              "      <td>0.000000</td>\n",
              "      <td>0.000000</td>\n",
              "      <td>0.000000</td>\n",
              "      <td>0.000000</td>\n",
              "      <td>0.000000</td>\n",
              "      <td>0.000000</td>\n",
              "      <td>0.000000</td>\n",
              "      <td>0.000000</td>\n",
              "      <td>0.000000</td>\n",
              "      <td>0.000000</td>\n",
              "      <td>0.000000</td>\n",
              "      <td>0.000000</td>\n",
              "      <td>0.000000</td>\n",
              "      <td>0.000000</td>\n",
              "      <td>0.000000</td>\n",
              "      <td>0.000000</td>\n",
              "      <td>0.000000</td>\n",
              "      <td>0.000000</td>\n",
              "      <td>0.000000</td>\n",
              "      <td>0.000000</td>\n",
              "      <td>0.000000</td>\n",
              "      <td>0.000000</td>\n",
              "      <td>0.000000</td>\n",
              "      <td>0.000000</td>\n",
              "      <td>0.000000</td>\n",
              "      <td>0.000000</td>\n",
              "      <td>0.000000</td>\n",
              "      <td>0.000000</td>\n",
              "      <td>0.000000</td>\n",
              "      <td>0.000000</td>\n",
              "      <td>0.000000</td>\n",
              "      <td>0.000000</td>\n",
              "      <td>0.000000</td>\n",
              "    </tr>\n",
              "    <tr>\n",
              "      <th>25%</th>\n",
              "      <td>0.279029</td>\n",
              "      <td>0.000056</td>\n",
              "      <td>0.033512</td>\n",
              "      <td>0.771567</td>\n",
              "      <td>0.308219</td>\n",
              "      <td>0.025144</td>\n",
              "      <td>0.024643</td>\n",
              "      <td>0.144869</td>\n",
              "      <td>0.003888</td>\n",
              "      <td>0.038771</td>\n",
              "      <td>0.024784</td>\n",
              "      <td>0.015987</td>\n",
              "      <td>0.004464</td>\n",
              "      <td>0.000220</td>\n",
              "      <td>0.045815</td>\n",
              "      <td>0.009435</td>\n",
              "      <td>0.225468</td>\n",
              "      <td>0.046534</td>\n",
              "      <td>0.394742</td>\n",
              "      <td>0.322288</td>\n",
              "      <td>0.000000</td>\n",
              "      <td>0.000000</td>\n",
              "      <td>0.096774</td>\n",
              "      <td>0.101010</td>\n",
              "      <td>0.027845</td>\n",
              "      <td>0.087209</td>\n",
              "      <td>0.066340</td>\n",
              "      <td>0.119516</td>\n",
              "      <td>0.184414</td>\n",
              "      <td>0.358744</td>\n",
              "      <td>0.373913</td>\n",
              "      <td>0.406557</td>\n",
              "      <td>0.331104</td>\n",
              "      <td>0.218843</td>\n",
              "      <td>0.193548</td>\n",
              "      <td>0.126364</td>\n",
              "      <td>0.943905</td>\n",
              "      <td>0.939567</td>\n",
              "      <td>0.889561</td>\n",
              "    </tr>\n",
              "    <tr>\n",
              "      <th>50%</th>\n",
              "      <td>0.386434</td>\n",
              "      <td>0.000126</td>\n",
              "      <td>0.041165</td>\n",
              "      <td>0.885649</td>\n",
              "      <td>0.363503</td>\n",
              "      <td>0.040964</td>\n",
              "      <td>0.039156</td>\n",
              "      <td>0.183276</td>\n",
              "      <td>0.010154</td>\n",
              "      <td>0.061958</td>\n",
              "      <td>0.066558</td>\n",
              "      <td>0.034845</td>\n",
              "      <td>0.007057</td>\n",
              "      <td>0.001237</td>\n",
              "      <td>0.082047</td>\n",
              "      <td>0.023395</td>\n",
              "      <td>0.288211</td>\n",
              "      <td>0.064658</td>\n",
              "      <td>0.518127</td>\n",
              "      <td>0.419710</td>\n",
              "      <td>0.022166</td>\n",
              "      <td>0.020193</td>\n",
              "      <td>0.168683</td>\n",
              "      <td>0.142191</td>\n",
              "      <td>0.070218</td>\n",
              "      <td>0.133037</td>\n",
              "      <td>0.108551</td>\n",
              "      <td>0.154852</td>\n",
              "      <td>0.239005</td>\n",
              "      <td>0.443946</td>\n",
              "      <td>0.539130</td>\n",
              "      <td>0.518033</td>\n",
              "      <td>0.414716</td>\n",
              "      <td>0.275927</td>\n",
              "      <td>0.276698</td>\n",
              "      <td>0.178458</td>\n",
              "      <td>0.978641</td>\n",
              "      <td>0.968073</td>\n",
              "      <td>0.966318</td>\n",
              "    </tr>\n",
              "    <tr>\n",
              "      <th>75%</th>\n",
              "      <td>0.489852</td>\n",
              "      <td>0.000461</td>\n",
              "      <td>0.049991</td>\n",
              "      <td>0.947077</td>\n",
              "      <td>0.417808</td>\n",
              "      <td>0.067453</td>\n",
              "      <td>0.060697</td>\n",
              "      <td>0.272785</td>\n",
              "      <td>0.027431</td>\n",
              "      <td>0.101020</td>\n",
              "      <td>0.142793</td>\n",
              "      <td>0.069594</td>\n",
              "      <td>0.010838</td>\n",
              "      <td>0.004073</td>\n",
              "      <td>0.128236</td>\n",
              "      <td>0.045062</td>\n",
              "      <td>0.360476</td>\n",
              "      <td>0.082992</td>\n",
              "      <td>0.647380</td>\n",
              "      <td>0.505842</td>\n",
              "      <td>0.067448</td>\n",
              "      <td>0.060578</td>\n",
              "      <td>0.268145</td>\n",
              "      <td>0.198912</td>\n",
              "      <td>0.165860</td>\n",
              "      <td>0.179891</td>\n",
              "      <td>0.162416</td>\n",
              "      <td>0.201788</td>\n",
              "      <td>0.323621</td>\n",
              "      <td>0.547085</td>\n",
              "      <td>0.678261</td>\n",
              "      <td>0.619672</td>\n",
              "      <td>0.494983</td>\n",
              "      <td>0.341634</td>\n",
              "      <td>0.380285</td>\n",
              "      <td>0.269623</td>\n",
              "      <td>0.991586</td>\n",
              "      <td>0.988597</td>\n",
              "      <td>0.986074</td>\n",
              "    </tr>\n",
              "    <tr>\n",
              "      <th>max</th>\n",
              "      <td>1.000000</td>\n",
              "      <td>1.000000</td>\n",
              "      <td>1.000000</td>\n",
              "      <td>1.000000</td>\n",
              "      <td>1.000000</td>\n",
              "      <td>1.000000</td>\n",
              "      <td>1.000000</td>\n",
              "      <td>1.000000</td>\n",
              "      <td>1.000000</td>\n",
              "      <td>1.000000</td>\n",
              "      <td>1.000000</td>\n",
              "      <td>1.000000</td>\n",
              "      <td>1.000000</td>\n",
              "      <td>1.000000</td>\n",
              "      <td>1.000000</td>\n",
              "      <td>1.000000</td>\n",
              "      <td>1.000000</td>\n",
              "      <td>1.000000</td>\n",
              "      <td>1.000000</td>\n",
              "      <td>1.000000</td>\n",
              "      <td>1.000000</td>\n",
              "      <td>1.000000</td>\n",
              "      <td>1.000000</td>\n",
              "      <td>1.000000</td>\n",
              "      <td>1.000000</td>\n",
              "      <td>1.000000</td>\n",
              "      <td>1.000000</td>\n",
              "      <td>1.000000</td>\n",
              "      <td>1.000000</td>\n",
              "      <td>1.000000</td>\n",
              "      <td>1.000000</td>\n",
              "      <td>1.000000</td>\n",
              "      <td>1.000000</td>\n",
              "      <td>1.000000</td>\n",
              "      <td>1.000000</td>\n",
              "      <td>1.000000</td>\n",
              "      <td>1.000000</td>\n",
              "      <td>1.000000</td>\n",
              "      <td>1.000000</td>\n",
              "    </tr>\n",
              "  </tbody>\n",
              "</table>\n",
              "</div>"
            ],
            "text/plain": [
              "       Pop60mais%     DensDem  RazaoSexos  ...       Agua%       Lixo%     Esgoto%\n",
              "count  645.000000  645.000000  645.000000  ...  645.000000  645.000000  645.000000\n",
              "mean     0.393308    0.003470    0.047954  ...    0.941093    0.946208    0.898020\n",
              "std      0.164171    0.040492    0.052058  ...    0.110126    0.087887    0.160499\n",
              "min      0.000000    0.000000    0.000000  ...    0.000000    0.000000    0.000000\n",
              "25%      0.279029    0.000056    0.033512  ...    0.943905    0.939567    0.889561\n",
              "50%      0.386434    0.000126    0.041165  ...    0.978641    0.968073    0.966318\n",
              "75%      0.489852    0.000461    0.049991  ...    0.991586    0.988597    0.986074\n",
              "max      1.000000    1.000000    1.000000  ...    1.000000    1.000000    1.000000\n",
              "\n",
              "[8 rows x 39 columns]"
            ]
          },
          "metadata": {
            "tags": []
          },
          "execution_count": 20
        }
      ]
    },
    {
      "cell_type": "code",
      "metadata": {
        "colab": {
          "base_uri": "https://localhost:8080/"
        },
        "id": "Wsx9yQGMDCid",
        "outputId": "9d2476c3-efd1-45f9-b915-cad72900edd5"
      },
      "source": [
        "X_Normal_df.shape"
      ],
      "execution_count": null,
      "outputs": [
        {
          "output_type": "execute_result",
          "data": {
            "text/plain": [
              "(645, 39)"
            ]
          },
          "metadata": {
            "tags": []
          },
          "execution_count": 21
        }
      ]
    },
    {
      "cell_type": "code",
      "metadata": {
        "colab": {
          "base_uri": "https://localhost:8080/",
          "height": 294
        },
        "id": "v0rflV3kYkzD",
        "outputId": "673489f3-df0b-4ee8-8d6d-ae64e5e8eacb"
      },
      "source": [
        "Y_Normal_df.describe()"
      ],
      "execution_count": null,
      "outputs": [
        {
          "output_type": "execute_result",
          "data": {
            "text/html": [
              "<div>\n",
              "<style scoped>\n",
              "    .dataframe tbody tr th:only-of-type {\n",
              "        vertical-align: middle;\n",
              "    }\n",
              "\n",
              "    .dataframe tbody tr th {\n",
              "        vertical-align: top;\n",
              "    }\n",
              "\n",
              "    .dataframe thead th {\n",
              "        text-align: right;\n",
              "    }\n",
              "</style>\n",
              "<table border=\"1\" class=\"dataframe\">\n",
              "  <thead>\n",
              "    <tr style=\"text-align: right;\">\n",
              "      <th></th>\n",
              "      <th>IncidCovid%</th>\n",
              "      <th>LetalidCovid%</th>\n",
              "      <th>MortalidCovid%</th>\n",
              "    </tr>\n",
              "  </thead>\n",
              "  <tbody>\n",
              "    <tr>\n",
              "      <th>count</th>\n",
              "      <td>645.000000</td>\n",
              "      <td>645.000000</td>\n",
              "      <td>645.000000</td>\n",
              "    </tr>\n",
              "    <tr>\n",
              "      <th>mean</th>\n",
              "      <td>0.321150</td>\n",
              "      <td>0.119016</td>\n",
              "      <td>0.300566</td>\n",
              "    </tr>\n",
              "    <tr>\n",
              "      <th>std</th>\n",
              "      <td>0.133564</td>\n",
              "      <td>0.067418</td>\n",
              "      <td>0.139863</td>\n",
              "    </tr>\n",
              "    <tr>\n",
              "      <th>min</th>\n",
              "      <td>0.000000</td>\n",
              "      <td>0.000000</td>\n",
              "      <td>0.000000</td>\n",
              "    </tr>\n",
              "    <tr>\n",
              "      <th>25%</th>\n",
              "      <td>0.229580</td>\n",
              "      <td>0.080283</td>\n",
              "      <td>0.208660</td>\n",
              "    </tr>\n",
              "    <tr>\n",
              "      <th>50%</th>\n",
              "      <td>0.312784</td>\n",
              "      <td>0.110542</td>\n",
              "      <td>0.291131</td>\n",
              "    </tr>\n",
              "    <tr>\n",
              "      <th>75%</th>\n",
              "      <td>0.400044</td>\n",
              "      <td>0.143161</td>\n",
              "      <td>0.381080</td>\n",
              "    </tr>\n",
              "    <tr>\n",
              "      <th>max</th>\n",
              "      <td>1.000000</td>\n",
              "      <td>1.000000</td>\n",
              "      <td>1.000000</td>\n",
              "    </tr>\n",
              "  </tbody>\n",
              "</table>\n",
              "</div>"
            ],
            "text/plain": [
              "       IncidCovid%  LetalidCovid%  MortalidCovid%\n",
              "count   645.000000     645.000000      645.000000\n",
              "mean      0.321150       0.119016        0.300566\n",
              "std       0.133564       0.067418        0.139863\n",
              "min       0.000000       0.000000        0.000000\n",
              "25%       0.229580       0.080283        0.208660\n",
              "50%       0.312784       0.110542        0.291131\n",
              "75%       0.400044       0.143161        0.381080\n",
              "max       1.000000       1.000000        1.000000"
            ]
          },
          "metadata": {
            "tags": []
          },
          "execution_count": 22
        }
      ]
    },
    {
      "cell_type": "markdown",
      "metadata": {
        "id": "6EFZkLXsZwoe"
      },
      "source": [
        "# Verificando correlações"
      ]
    },
    {
      "cell_type": "code",
      "metadata": {
        "colab": {
          "base_uri": "https://localhost:8080/",
          "height": 894
        },
        "id": "IFsBU9AIZyr7",
        "outputId": "f0d2b791-6d18-4840-dbd1-d6615c51e809"
      },
      "source": [
        "corr = X_Normal_df.corr()\n",
        "mask = np.zeros_like(corr)\n",
        "mask[np.triu_indices_from(mask)] = True\n",
        "with sns.axes_style(\"white\"):\n",
        "    f, ax = plt.subplots(figsize=(20, 14))\n",
        "    ax = sns.heatmap(corr, mask=mask, vmax=.3, square=True)"
      ],
      "execution_count": null,
      "outputs": [
        {
          "output_type": "display_data",
          "data": {
            "image/png": "[encoded data removed]",
            "text/plain": [
              "<Figure size 1440x1008 with 2 Axes>"
            ]
          },
          "metadata": {
            "tags": []
          }
        }
      ]
    },
    {
      "cell_type": "markdown",
      "metadata": {
        "id": "VOs1As7OhEsx"
      },
      "source": [
        "# Coeficiente de silhueta"
      ]
    },
    {
      "cell_type": "code",
      "metadata": {
        "colab": {
          "base_uri": "https://localhost:8080/",
          "height": 542
        },
        "id": "ly5HzQozhDtq",
        "outputId": "b4ac26cf-0fb7-4982-c574-f9511ee30ce0"
      },
      "source": [
        "faixa_n_clusteres = [i for i in range(2,11)]\n",
        "valores_silhueta = []\n",
        "for k in faixa_n_clusteres:\n",
        "  agrupador = KMeans(n_clusters=k)\n",
        "  labels = agrupador.fit_predict(X_Normal_df)\n",
        "  media_silhueta = silhouette_score(X_Normal_df, labels)\n",
        "  valores_silhueta.append(media_silhueta) \n",
        "\n",
        "\n",
        "fig = go.Figure()\n",
        "fig.add_trace(go.Scatter(x=faixa_n_clusteres, y=valores_silhueta))\n",
        "fig.update_layout(\n",
        "    title = 'Valores médios de silhueta',\n",
        "    xaxis_title = 'número de clusteres',\n",
        "    yaxis_title='valor médio de silhueta')"
      ],
      "execution_count": null,
      "outputs": [
        {
          "output_type": "display_data",
          "data": {
            "text/html": [
              "<html>\n",
              "<head><meta charset=\"utf-8\" /></head>\n",
              "<body>\n",
              "    <div>\n",
              "            <script src=\"https://cdnjs.cloudflare.com/ajax/libs/mathjax/2.7.5/MathJax.js?config=TeX-AMS-MML_SVG\"></script><script type=\"text/javascript\">if (window.MathJax) {MathJax.Hub.Config({SVG: {font: \"STIX-Web\"}});}</script>\n",
              "                <script type=\"text/javascript\">window.PlotlyConfig = {MathJaxConfig: 'local'};</script>\n",
              "        <script src=\"https://cdn.plot.ly/plotly-latest.min.js\"></script>    \n",
              "            <div id=\"becee3fc-3859-45b1-b0fd-7b97ada9d4b1\" class=\"plotly-graph-div\" style=\"height:525px; width:100%;\"></div>\n",
              "            <script type=\"text/javascript\">\n",
              "                \n",
              "                    window.PLOTLYENV=window.PLOTLYENV || {};\n",
              "                    \n",
              "                if (document.getElementById(\"becee3fc-3859-45b1-b0fd-7b97ada9d4b1\")) {\n",
              "                    Plotly.newPlot(\n",
              "                        'becee3fc-3859-45b1-b0fd-7b97ada9d4b1',\n",
              "                        [{\"type\": \"scatter\", \"x\": [2, 3, 4, 5, 6, 7, 8, 9, 10], \"y\": [0.18923189054671952, 0.15704613390490688, 0.11874416951929218, 0.11900095974083136, 0.12430999477555965, 0.13070292273409959, 0.12261169252521574, 0.12435078815602181, 0.09467462486863427]}],\n",
              "                        {\"template\": {\"data\": {\"bar\": [{\"error_x\": {\"color\": \"#2a3f5f\"}, \"error_y\": {\"color\": \"#2a3f5f\"}, \"marker\": {\"line\": {\"color\": \"#E5ECF6\", \"width\": 0.5}}, \"type\": \"bar\"}], \"barpolar\": [{\"marker\": {\"line\": {\"color\": \"#E5ECF6\", \"width\": 0.5}}, \"type\": \"barpolar\"}], \"carpet\": [{\"aaxis\": {\"endlinecolor\": \"#2a3f5f\", \"gridcolor\": \"white\", \"linecolor\": \"white\", \"minorgridcolor\": \"white\", \"startlinecolor\": \"#2a3f5f\"}, \"baxis\": {\"endlinecolor\": \"#2a3f5f\", \"gridcolor\": \"white\", \"linecolor\": \"white\", \"minorgridcolor\": \"white\", \"startlinecolor\": \"#2a3f5f\"}, \"type\": \"carpet\"}], \"choropleth\": [{\"colorbar\": {\"outlinewidth\": 0, \"ticks\": \"\"}, \"type\": \"choropleth\"}], \"contour\": [{\"colorbar\": {\"outlinewidth\": 0, \"ticks\": \"\"}, \"colorscale\": [[0.0, \"#0d0887\"], [0.1111111111111111, \"#46039f\"], [0.2222222222222222, \"#7201a8\"], [0.3333333333333333, \"#9c179e\"], [0.4444444444444444, \"#bd3786\"], [0.5555555555555556, \"#d8576b\"], [0.6666666666666666, \"#ed7953\"], [0.7777777777777778, \"#fb9f3a\"], [0.8888888888888888, \"#fdca26\"], [1.0, \"#f0f921\"]], \"type\": \"contour\"}], \"contourcarpet\": [{\"colorbar\": {\"outlinewidth\": 0, \"ticks\": \"\"}, \"type\": \"contourcarpet\"}], \"heatmap\": [{\"colorbar\": {\"outlinewidth\": 0, \"ticks\": \"\"}, \"colorscale\": [[0.0, \"#0d0887\"], [0.1111111111111111, \"#46039f\"], [0.2222222222222222, \"#7201a8\"], [0.3333333333333333, \"#9c179e\"], [0.4444444444444444, \"#bd3786\"], [0.5555555555555556, \"#d8576b\"], [0.6666666666666666, \"#ed7953\"], [0.7777777777777778, \"#fb9f3a\"], [0.8888888888888888, \"#fdca26\"], [1.0, \"#f0f921\"]], \"type\": \"heatmap\"}], \"heatmapgl\": [{\"colorbar\": {\"outlinewidth\": 0, \"ticks\": \"\"}, \"colorscale\": [[0.0, \"#0d0887\"], [0.1111111111111111, \"#46039f\"], [0.2222222222222222, \"#7201a8\"], [0.3333333333333333, \"#9c179e\"], [0.4444444444444444, \"#bd3786\"], [0.5555555555555556, \"#d8576b\"], [0.6666666666666666, \"#ed7953\"], [0.7777777777777778, \"#fb9f3a\"], [0.8888888888888888, \"#fdca26\"], [1.0, \"#f0f921\"]], \"type\": \"heatmapgl\"}], \"histogram\": [{\"marker\": {\"colorbar\": {\"outlinewidth\": 0, \"ticks\": \"\"}}, \"type\": \"histogram\"}], \"histogram2d\": [{\"colorbar\": {\"outlinewidth\": 0, \"ticks\": \"\"}, \"colorscale\": [[0.0, \"#0d0887\"], [0.1111111111111111, \"#46039f\"], [0.2222222222222222, \"#7201a8\"], [0.3333333333333333, \"#9c179e\"], [0.4444444444444444, \"#bd3786\"], [0.5555555555555556, \"#d8576b\"], [0.6666666666666666, \"#ed7953\"], [0.7777777777777778, \"#fb9f3a\"], [0.8888888888888888, \"#fdca26\"], [1.0, \"#f0f921\"]], \"type\": \"histogram2d\"}], \"histogram2dcontour\": [{\"colorbar\": {\"outlinewidth\": 0, \"ticks\": \"\"}, \"colorscale\": [[0.0, \"#0d0887\"], [0.1111111111111111, \"#46039f\"], [0.2222222222222222, \"#7201a8\"], [0.3333333333333333, \"#9c179e\"], [0.4444444444444444, \"#bd3786\"], [0.5555555555555556, \"#d8576b\"], [0.6666666666666666, \"#ed7953\"], [0.7777777777777778, \"#fb9f3a\"], [0.8888888888888888, \"#fdca26\"], [1.0, \"#f0f921\"]], \"type\": \"histogram2dcontour\"}], \"mesh3d\": [{\"colorbar\": {\"outlinewidth\": 0, \"ticks\": \"\"}, \"type\": \"mesh3d\"}], \"parcoords\": [{\"line\": {\"colorbar\": {\"outlinewidth\": 0, \"ticks\": \"\"}}, \"type\": \"parcoords\"}], \"pie\": [{\"automargin\": true, \"type\": \"pie\"}], \"scatter\": [{\"marker\": {\"colorbar\": {\"outlinewidth\": 0, \"ticks\": \"\"}}, \"type\": \"scatter\"}], \"scatter3d\": [{\"line\": {\"colorbar\": {\"outlinewidth\": 0, \"ticks\": \"\"}}, \"marker\": {\"colorbar\": {\"outlinewidth\": 0, \"ticks\": \"\"}}, \"type\": \"scatter3d\"}], \"scattercarpet\": [{\"marker\": {\"colorbar\": {\"outlinewidth\": 0, \"ticks\": \"\"}}, \"type\": \"scattercarpet\"}], \"scattergeo\": [{\"marker\": {\"colorbar\": {\"outlinewidth\": 0, \"ticks\": \"\"}}, \"type\": \"scattergeo\"}], \"scattergl\": [{\"marker\": {\"colorbar\": {\"outlinewidth\": 0, \"ticks\": \"\"}}, \"type\": \"scattergl\"}], \"scattermapbox\": [{\"marker\": {\"colorbar\": {\"outlinewidth\": 0, \"ticks\": \"\"}}, \"type\": \"scattermapbox\"}], \"scatterpolar\": [{\"marker\": {\"colorbar\": {\"outlinewidth\": 0, \"ticks\": \"\"}}, \"type\": \"scatterpolar\"}], \"scatterpolargl\": [{\"marker\": {\"colorbar\": {\"outlinewidth\": 0, \"ticks\": \"\"}}, \"type\": \"scatterpolargl\"}], \"scatterternary\": [{\"marker\": {\"colorbar\": {\"outlinewidth\": 0, \"ticks\": \"\"}}, \"type\": \"scatterternary\"}], \"surface\": [{\"colorbar\": {\"outlinewidth\": 0, \"ticks\": \"\"}, \"colorscale\": [[0.0, \"#0d0887\"], [0.1111111111111111, \"#46039f\"], [0.2222222222222222, \"#7201a8\"], [0.3333333333333333, \"#9c179e\"], [0.4444444444444444, \"#bd3786\"], [0.5555555555555556, \"#d8576b\"], [0.6666666666666666, \"#ed7953\"], [0.7777777777777778, \"#fb9f3a\"], [0.8888888888888888, \"#fdca26\"], [1.0, \"#f0f921\"]], \"type\": \"surface\"}], \"table\": [{\"cells\": {\"fill\": {\"color\": \"#EBF0F8\"}, \"line\": {\"color\": \"white\"}}, \"header\": {\"fill\": {\"color\": \"#C8D4E3\"}, \"line\": {\"color\": \"white\"}}, \"type\": \"table\"}]}, \"layout\": {\"annotationdefaults\": {\"arrowcolor\": \"#2a3f5f\", \"arrowhead\": 0, \"arrowwidth\": 1}, \"coloraxis\": {\"colorbar\": {\"outlinewidth\": 0, \"ticks\": \"\"}}, \"colorscale\": {\"diverging\": [[0, \"#8e0152\"], [0.1, \"#c51b7d\"], [0.2, \"#de77ae\"], [0.3, \"#f1b6da\"], [0.4, \"#fde0ef\"], [0.5, \"#f7f7f7\"], [0.6, \"#e6f5d0\"], [0.7, \"#b8e186\"], [0.8, \"#7fbc41\"], [0.9, \"#4d9221\"], [1, \"#276419\"]], \"sequential\": [[0.0, \"#0d0887\"], [0.1111111111111111, \"#46039f\"], [0.2222222222222222, \"#7201a8\"], [0.3333333333333333, \"#9c179e\"], [0.4444444444444444, \"#bd3786\"], [0.5555555555555556, \"#d8576b\"], [0.6666666666666666, \"#ed7953\"], [0.7777777777777778, \"#fb9f3a\"], [0.8888888888888888, \"#fdca26\"], [1.0, \"#f0f921\"]], \"sequentialminus\": [[0.0, \"#0d0887\"], [0.1111111111111111, \"#46039f\"], [0.2222222222222222, \"#7201a8\"], [0.3333333333333333, \"#9c179e\"], [0.4444444444444444, \"#bd3786\"], [0.5555555555555556, \"#d8576b\"], [0.6666666666666666, \"#ed7953\"], [0.7777777777777778, \"#fb9f3a\"], [0.8888888888888888, \"#fdca26\"], [1.0, \"#f0f921\"]]}, \"colorway\": [\"#636efa\", \"#EF553B\", \"#00cc96\", \"#ab63fa\", \"#FFA15A\", \"#19d3f3\", \"#FF6692\", \"#B6E880\", \"#FF97FF\", \"#FECB52\"], \"font\": {\"color\": \"#2a3f5f\"}, \"geo\": {\"bgcolor\": \"white\", \"lakecolor\": \"white\", \"landcolor\": \"#E5ECF6\", \"showlakes\": true, \"showland\": true, \"subunitcolor\": \"white\"}, \"hoverlabel\": {\"align\": \"left\"}, \"hovermode\": \"closest\", \"mapbox\": {\"style\": \"light\"}, \"paper_bgcolor\": \"white\", \"plot_bgcolor\": \"#E5ECF6\", \"polar\": {\"angularaxis\": {\"gridcolor\": \"white\", \"linecolor\": \"white\", \"ticks\": \"\"}, \"bgcolor\": \"#E5ECF6\", \"radialaxis\": {\"gridcolor\": \"white\", \"linecolor\": \"white\", \"ticks\": \"\"}}, \"scene\": {\"xaxis\": {\"backgroundcolor\": \"#E5ECF6\", \"gridcolor\": \"white\", \"gridwidth\": 2, \"linecolor\": \"white\", \"showbackground\": true, \"ticks\": \"\", \"zerolinecolor\": \"white\"}, \"yaxis\": {\"backgroundcolor\": \"#E5ECF6\", \"gridcolor\": \"white\", \"gridwidth\": 2, \"linecolor\": \"white\", \"showbackground\": true, \"ticks\": \"\", \"zerolinecolor\": \"white\"}, \"zaxis\": {\"backgroundcolor\": \"#E5ECF6\", \"gridcolor\": \"white\", \"gridwidth\": 2, \"linecolor\": \"white\", \"showbackground\": true, \"ticks\": \"\", \"zerolinecolor\": \"white\"}}, \"shapedefaults\": {\"line\": {\"color\": \"#2a3f5f\"}}, \"ternary\": {\"aaxis\": {\"gridcolor\": \"white\", \"linecolor\": \"white\", \"ticks\": \"\"}, \"baxis\": {\"gridcolor\": \"white\", \"linecolor\": \"white\", \"ticks\": \"\"}, \"bgcolor\": \"#E5ECF6\", \"caxis\": {\"gridcolor\": \"white\", \"linecolor\": \"white\", \"ticks\": \"\"}}, \"title\": {\"x\": 0.05}, \"xaxis\": {\"automargin\": true, \"gridcolor\": \"white\", \"linecolor\": \"white\", \"ticks\": \"\", \"title\": {\"standoff\": 15}, \"zerolinecolor\": \"white\", \"zerolinewidth\": 2}, \"yaxis\": {\"automargin\": true, \"gridcolor\": \"white\", \"linecolor\": \"white\", \"ticks\": \"\", \"title\": {\"standoff\": 15}, \"zerolinecolor\": \"white\", \"zerolinewidth\": 2}}}, \"title\": {\"text\": \"Valores m\\u00e9dios de silhueta\"}, \"xaxis\": {\"title\": {\"text\": \"n\\u00famero de clusteres\"}}, \"yaxis\": {\"title\": {\"text\": \"valor m\\u00e9dio de silhueta\"}}},\n",
              "                        {\"responsive\": true}\n",
              "                    ).then(function(){\n",
              "                            \n",
              "var gd = document.getElementById('becee3fc-3859-45b1-b0fd-7b97ada9d4b1');\n",
              "var x = new MutationObserver(function (mutations, observer) {{\n",
              "        var display = window.getComputedStyle(gd).display;\n",
              "        if (!display || display === 'none') {{\n",
              "            console.log([gd, 'removed!']);\n",
              "            Plotly.purge(gd);\n",
              "            observer.disconnect();\n",
              "        }}\n",
              "}});\n",
              "\n",
              "// Listen for the removal of the full notebook cells\n",
              "var notebookContainer = gd.closest('#notebook-container');\n",
              "if (notebookContainer) {{\n",
              "    x.observe(notebookContainer, {childList: true});\n",
              "}}\n",
              "\n",
              "// Listen for the clearing of the current output cell\n",
              "var outputEl = gd.closest('.output');\n",
              "if (outputEl) {{\n",
              "    x.observe(outputEl, {childList: true});\n",
              "}}\n",
              "\n",
              "                        })\n",
              "                };\n",
              "                \n",
              "            </script>\n",
              "        </div>\n",
              "</body>\n",
              "</html>"
            ]
          },
          "metadata": {
            "tags": []
          }
        }
      ]
    },
    {
      "cell_type": "markdown",
      "metadata": {
        "id": "ixdqitpucwOn"
      },
      "source": [
        "# Clusterizando"
      ]
    },
    {
      "cell_type": "code",
      "metadata": {
        "colab": {
          "base_uri": "https://localhost:8080/"
        },
        "id": "MqnXA3Cza9zC",
        "outputId": "b055f1eb-d00d-45b2-8759-8c1e50d2bdce"
      },
      "source": [
        "agrupador = KMeans(n_clusters = 2)\n",
        "agrupador.fit(X_Normal_df)\n",
        "labels = agrupador.labels_\n",
        "print(labels)\n",
        "type(labels)"
      ],
      "execution_count": null,
      "outputs": [
        {
          "output_type": "stream",
          "text": [
            "[1 1 0 1 1 1 1 1 0 1 0 1 0 1 0 1 0 0 1 1 1 1 1 1 0 0 0 1 1 0 1 0 0 1 1 0 1\n",
            " 1 0 0 0 0 1 1 1 0 1 1 1 0 0 1 1 0 1 0 0 0 1 1 0 0 1 0 1 1 1 1 1 0 1 0 1 1\n",
            " 0 0 1 0 1 0 0 1 1 1 0 1 1 1 0 1 1 0 1 1 0 1 1 0 1 0 1 0 1 0 1 0 0 1 1 1 0\n",
            " 0 0 1 1 0 0 0 1 1 0 1 1 0 0 1 1 1 1 1 1 0 0 0 1 1 0 0 0 1 0 0 1 1 1 1 1 0\n",
            " 1 1 0 0 1 1 0 1 0 1 1 1 1 1 1 0 0 0 1 1 0 0 0 0 1 0 0 1 0 0 1 1 1 0 0 0 1\n",
            " 0 0 1 0 0 1 0 1 0 1 1 0 0 0 1 0 0 1 0 0 0 0 1 0 1 0 0 0 0 1 0 0 0 1 1 1 0\n",
            " 0 0 1 0 1 0 0 0 1 0 0 0 0 1 1 1 1 1 1 0 0 1 0 0 0 1 0 0 0 0 1 0 0 0 0 1 0\n",
            " 0 1 0 1 0 0 0 0 0 0 1 0 0 0 0 1 1 1 0 1 1 1 0 1 1 0 1 1 1 1 0 0 0 1 0 0 1\n",
            " 1 0 0 0 1 0 0 1 1 1 1 1 1 0 1 1 0 0 0 0 0 1 1 1 1 1 1 1 0 1 1 0 1 0 0 1 1\n",
            " 1 1 0 1 0 0 0 1 0 1 0 1 1 1 1 0 0 1 1 1 1 0 0 0 1 0 1 0 0 0 0 0 0 1 1 0 1\n",
            " 0 0 1 1 1 0 1 0 1 0 1 1 0 0 1 1 1 1 1 1 0 1 1 0 1 0 1 0 1 1 0 1 0 1 0 1 0\n",
            " 1 0 1 0 0 1 0 0 1 0 1 0 1 1 0 1 1 0 1 0 0 0 1 1 0 0 0 1 1 1 1 1 0 1 1 1 0\n",
            " 0 0 1 1 1 1 0 0 1 0 0 1 1 0 1 0 0 1 0 0 1 1 1 1 1 0 0 0 0 0 1 1 0 1 0 1 0\n",
            " 0 0 0 0 1 0 0 1 1 1 0 0 1 1 0 0 0 1 0 0 1 0 0 1 1 0 0 1 1 0 0 0 1 1 1 0 1\n",
            " 1 0 0 1 0 1 1 0 0 0 0 1 1 1 1 1 1 1 1 0 0 1 0 0 0 0 1 0 1 1 1 0 1 0 0 1 1\n",
            " 0 0 1 1 1 0 0 1 0 1 1 0 1 1 0 1 1 0 0 1 0 1 0 1 0 0 0 1 1 0 1 0 1 1 0 1 0\n",
            " 0 0 1 1 1 0 1 1 1 0 0 0 1 1 1 0 0 1 1 0 0 1 0 1 1 0 1 1 1 1 0 1 0 1 1 1 0\n",
            " 1 1 1 0 0 1 1 1 1 1 1 1 0 1 1 1]\n"
          ],
          "name": "stdout"
        },
        {
          "output_type": "execute_result",
          "data": {
            "text/plain": [
              "numpy.ndarray"
            ]
          },
          "metadata": {
            "tags": []
          },
          "execution_count": 25
        }
      ]
    },
    {
      "cell_type": "markdown",
      "metadata": {
        "id": "__IcQ6LHdYu4"
      },
      "source": [
        "# Componentes principais - 2 Componentes"
      ]
    },
    {
      "cell_type": "code",
      "metadata": {
        "colab": {
          "base_uri": "https://localhost:8080/",
          "height": 414
        },
        "id": "j9FUUP8aday1",
        "outputId": "30d762ed-367f-4a4b-c397-3aa3a621eb3d"
      },
      "source": [
        "# duas componentes\n",
        "pca_model = PCA(n_components=2)\n",
        "pcaZ = pca_model.fit_transform(X_Normal_df)\n",
        "pcaZ = pd.DataFrame(pcaZ, columns=['Componente_1', 'Componente_2'])\n",
        "pcaZ"
      ],
      "execution_count": null,
      "outputs": [
        {
          "output_type": "execute_result",
          "data": {
            "text/html": [
              "<div>\n",
              "<style scoped>\n",
              "    .dataframe tbody tr th:only-of-type {\n",
              "        vertical-align: middle;\n",
              "    }\n",
              "\n",
              "    .dataframe tbody tr th {\n",
              "        vertical-align: top;\n",
              "    }\n",
              "\n",
              "    .dataframe thead th {\n",
              "        text-align: right;\n",
              "    }\n",
              "</style>\n",
              "<table border=\"1\" class=\"dataframe\">\n",
              "  <thead>\n",
              "    <tr style=\"text-align: right;\">\n",
              "      <th></th>\n",
              "      <th>Componente_1</th>\n",
              "      <th>Componente_2</th>\n",
              "    </tr>\n",
              "  </thead>\n",
              "  <tbody>\n",
              "    <tr>\n",
              "      <th>0</th>\n",
              "      <td>0.696401</td>\n",
              "      <td>-0.223432</td>\n",
              "    </tr>\n",
              "    <tr>\n",
              "      <th>1</th>\n",
              "      <td>0.188479</td>\n",
              "      <td>-0.316557</td>\n",
              "    </tr>\n",
              "    <tr>\n",
              "      <th>2</th>\n",
              "      <td>-0.113061</td>\n",
              "      <td>0.040064</td>\n",
              "    </tr>\n",
              "    <tr>\n",
              "      <th>3</th>\n",
              "      <td>0.340203</td>\n",
              "      <td>-0.082698</td>\n",
              "    </tr>\n",
              "    <tr>\n",
              "      <th>4</th>\n",
              "      <td>0.308541</td>\n",
              "      <td>-0.017357</td>\n",
              "    </tr>\n",
              "    <tr>\n",
              "      <th>...</th>\n",
              "      <td>...</td>\n",
              "      <td>...</td>\n",
              "    </tr>\n",
              "    <tr>\n",
              "      <th>640</th>\n",
              "      <td>0.200052</td>\n",
              "      <td>0.035568</td>\n",
              "    </tr>\n",
              "    <tr>\n",
              "      <th>641</th>\n",
              "      <td>-0.125462</td>\n",
              "      <td>-0.256391</td>\n",
              "    </tr>\n",
              "    <tr>\n",
              "      <th>642</th>\n",
              "      <td>0.232251</td>\n",
              "      <td>0.118773</td>\n",
              "    </tr>\n",
              "    <tr>\n",
              "      <th>643</th>\n",
              "      <td>0.735484</td>\n",
              "      <td>-0.097498</td>\n",
              "    </tr>\n",
              "    <tr>\n",
              "      <th>644</th>\n",
              "      <td>0.002109</td>\n",
              "      <td>-0.324228</td>\n",
              "    </tr>\n",
              "  </tbody>\n",
              "</table>\n",
              "<p>645 rows × 2 columns</p>\n",
              "</div>"
            ],
            "text/plain": [
              "     Componente_1  Componente_2\n",
              "0        0.696401     -0.223432\n",
              "1        0.188479     -0.316557\n",
              "2       -0.113061      0.040064\n",
              "3        0.340203     -0.082698\n",
              "4        0.308541     -0.017357\n",
              "..            ...           ...\n",
              "640      0.200052      0.035568\n",
              "641     -0.125462     -0.256391\n",
              "642      0.232251      0.118773\n",
              "643      0.735484     -0.097498\n",
              "644      0.002109     -0.324228\n",
              "\n",
              "[645 rows x 2 columns]"
            ]
          },
          "metadata": {
            "tags": []
          },
          "execution_count": 26
        }
      ]
    },
    {
      "cell_type": "code",
      "metadata": {
        "colab": {
          "base_uri": "https://localhost:8080/",
          "height": 373
        },
        "id": "_w7wqL5VeBOK",
        "outputId": "ebb73b43-4074-444a-82c0-009e9c8d7a3f"
      },
      "source": [
        "perfil_autovalores = pca_model.explained_variance_ratio_\n",
        "plt.stem(perfil_autovalores)\n",
        "plt.ylabel(\"Explicação (%)\")"
      ],
      "execution_count": null,
      "outputs": [
        {
          "output_type": "stream",
          "text": [
            "/usr/local/lib/python3.7/dist-packages/ipykernel_launcher.py:2: UserWarning:\n",
            "\n",
            "In Matplotlib 3.3 individual lines on a stem plot will be added as a LineCollection instead of individual lines. This significantly improves the performance of a stem plot. To remove this warning and switch to the new behaviour, set the \"use_line_collection\" keyword argument to True.\n",
            "\n"
          ],
          "name": "stderr"
        },
        {
          "output_type": "execute_result",
          "data": {
            "text/plain": [
              "Text(0, 0.5, 'Explicação (%)')"
            ]
          },
          "metadata": {
            "tags": []
          },
          "execution_count": 27
        },
        {
          "output_type": "display_data",
          "data": {
            "image/png": "[encoded data removed]",
            "text/plain": [
              "<Figure size 432x288 with 1 Axes>"
            ]
          },
          "metadata": {
            "tags": [],
            "needs_background": "light"
          }
        }
      ]
    },
    {
      "cell_type": "code",
      "metadata": {
        "colab": {
          "base_uri": "https://localhost:8080/"
        },
        "id": "IbZ0tqWSgRG8",
        "outputId": "37e76b26-a52e-4e10-8aec-e04c53feca85"
      },
      "source": [
        "localidades = df['Localidade']\n",
        "localidades"
      ],
      "execution_count": null,
      "outputs": [
        {
          "output_type": "execute_result",
          "data": {
            "text/plain": [
              "0                Adamantina\n",
              "1                    Adolfo\n",
              "2                     Aguaí\n",
              "3            Águas da Prata\n",
              "4          Águas de Lindóia\n",
              "               ...         \n",
              "640    Vista Alegre do Alto\n",
              "641          Vitória Brasil\n",
              "642              Votorantim\n",
              "643             Votuporanga\n",
              "644                Zacarias\n",
              "Name: Localidade, Length: 645, dtype: object"
            ]
          },
          "metadata": {
            "tags": []
          },
          "execution_count": 28
        }
      ]
    },
    {
      "cell_type": "markdown",
      "metadata": {
        "id": "uc63edediVoW"
      },
      "source": [
        "# Plotando Clusters X PCA"
      ]
    },
    {
      "cell_type": "code",
      "metadata": {
        "colab": {
          "base_uri": "https://localhost:8080/",
          "height": 542
        },
        "id": "aaekrR5Sd_F3",
        "outputId": "10be5078-2f1a-4f33-d163-a36850a7d344"
      },
      "source": [
        "fig = go.Figure()\n",
        "fig.add_trace(go.Scatter(x = pcaZ['Componente_1'], y = pcaZ['Componente_2'],\n",
        "                         mode='markers', \n",
        "                         marker=dict(color=agrupador.labels_.astype(np.float)), \n",
        "                         text = localidades))\n",
        "fig.update_layout(xaxis_title='Componente 1', yaxis_title='Componente 2')\n",
        "fig.show()"
      ],
      "execution_count": null,
      "outputs": [
        {
          "output_type": "display_data",
          "data": {
            "text/html": [
              "<html>\n",
              "<head><meta charset=\"utf-8\" /></head>\n",
              "<body>\n",
              "    <div>\n",
              "            <script src=\"https://cdnjs.cloudflare.com/ajax/libs/mathjax/2.7.5/MathJax.js?config=TeX-AMS-MML_SVG\"></script><script type=\"text/javascript\">if (window.MathJax) {MathJax.Hub.Config({SVG: {font: \"STIX-Web\"}});}</script>\n",
              "                <script type=\"text/javascript\">window.PlotlyConfig = {MathJaxConfig: 'local'};</script>\n",
              "        <script src=\"https://cdn.plot.ly/plotly-latest.min.js\"></script>    \n",
              "            <div id=\"3790a8db-7a41-4635-abde-5dfad68afbd7\" class=\"plotly-graph-div\" style=\"height:525px; width:100%;\"></div>\n",
              "            <script type=\"text/javascript\">\n",
              "                \n",
              "                    window.PLOTLYENV=window.PLOTLYENV || {};\n",
              "                    \n",
              "                if (document.getElementById(\"3790a8db-7a41-4635-abde-5dfad68afbd7\")) {\n",
              "                    Plotly.newPlot(\n",
              "                        '3790a8db-7a41-4635-abde-5dfad68afbd7',\n",
              "                        [{\"marker\": {\"color\": [1.0, 1.0, 0.0, 1.0, 1.0, 1.0, 1.0, 1.0, 0.0, 1.0, 0.0, 1.0, 0.0, 1.0, 0.0, 1.0, 0.0, 0.0, 1.0, 1.0, 1.0, 1.0, 1.0, 1.0, 0.0, 0.0, 0.0, 1.0, 1.0, 0.0, 1.0, 0.0, 0.0, 1.0, 1.0, 0.0, 1.0, 1.0, 0.0, 0.0, 0.0, 0.0, 1.0, 1.0, 1.0, 0.0, 1.0, 1.0, 1.0, 0.0, 0.0, 1.0, 1.0, 0.0, 1.0, 0.0, 0.0, 0.0, 1.0, 1.0, 0.0, 0.0, 1.0, 0.0, 1.0, 1.0, 1.0, 1.0, 1.0, 0.0, 1.0, 0.0, 1.0, 1.0, 0.0, 0.0, 1.0, 0.0, 1.0, 0.0, 0.0, 1.0, 1.0, 1.0, 0.0, 1.0, 1.0, 1.0, 0.0, 1.0, 1.0, 0.0, 1.0, 1.0, 0.0, 1.0, 1.0, 0.0, 1.0, 0.0, 1.0, 0.0, 1.0, 0.0, 1.0, 0.0, 0.0, 1.0, 1.0, 1.0, 0.0, 0.0, 0.0, 1.0, 1.0, 0.0, 0.0, 0.0, 1.0, 1.0, 0.0, 1.0, 1.0, 0.0, 0.0, 1.0, 1.0, 1.0, 1.0, 1.0, 1.0, 0.0, 0.0, 0.0, 1.0, 1.0, 0.0, 0.0, 0.0, 1.0, 0.0, 0.0, 1.0, 1.0, 1.0, 1.0, 1.0, 0.0, 1.0, 1.0, 0.0, 0.0, 1.0, 1.0, 0.0, 1.0, 0.0, 1.0, 1.0, 1.0, 1.0, 1.0, 1.0, 0.0, 0.0, 0.0, 1.0, 1.0, 0.0, 0.0, 0.0, 0.0, 1.0, 0.0, 0.0, 1.0, 0.0, 0.0, 1.0, 1.0, 1.0, 0.0, 0.0, 0.0, 1.0, 0.0, 0.0, 1.0, 0.0, 0.0, 1.0, 0.0, 1.0, 0.0, 1.0, 1.0, 0.0, 0.0, 0.0, 1.0, 0.0, 0.0, 1.0, 0.0, 0.0, 0.0, 0.0, 1.0, 0.0, 1.0, 0.0, 0.0, 0.0, 0.0, 1.0, 0.0, 0.0, 0.0, 1.0, 1.0, 1.0, 0.0, 0.0, 0.0, 1.0, 0.0, 1.0, 0.0, 0.0, 0.0, 1.0, 0.0, 0.0, 0.0, 0.0, 1.0, 1.0, 1.0, 1.0, 1.0, 1.0, 0.0, 0.0, 1.0, 0.0, 0.0, 0.0, 1.0, 0.0, 0.0, 0.0, 0.0, 1.0, 0.0, 0.0, 0.0, 0.0, 1.0, 0.0, 0.0, 1.0, 0.0, 1.0, 0.0, 0.0, 0.0, 0.0, 0.0, 0.0, 1.0, 0.0, 0.0, 0.0, 0.0, 1.0, 1.0, 1.0, 0.0, 1.0, 1.0, 1.0, 0.0, 1.0, 1.0, 0.0, 1.0, 1.0, 1.0, 1.0, 0.0, 0.0, 0.0, 1.0, 0.0, 0.0, 1.0, 1.0, 0.0, 0.0, 0.0, 1.0, 0.0, 0.0, 1.0, 1.0, 1.0, 1.0, 1.0, 1.0, 0.0, 1.0, 1.0, 0.0, 0.0, 0.0, 0.0, 0.0, 1.0, 1.0, 1.0, 1.0, 1.0, 1.0, 1.0, 0.0, 1.0, 1.0, 0.0, 1.0, 0.0, 0.0, 1.0, 1.0, 1.0, 1.0, 0.0, 1.0, 0.0, 0.0, 0.0, 1.0, 0.0, 1.0, 0.0, 1.0, 1.0, 1.0, 1.0, 0.0, 0.0, 1.0, 1.0, 1.0, 1.0, 0.0, 0.0, 0.0, 1.0, 0.0, 1.0, 0.0, 0.0, 0.0, 0.0, 0.0, 0.0, 1.0, 1.0, 0.0, 1.0, 0.0, 0.0, 1.0, 1.0, 1.0, 0.0, 1.0, 0.0, 1.0, 0.0, 1.0, 1.0, 0.0, 0.0, 1.0, 1.0, 1.0, 1.0, 1.0, 1.0, 0.0, 1.0, 1.0, 0.0, 1.0, 0.0, 1.0, 0.0, 1.0, 1.0, 0.0, 1.0, 0.0, 1.0, 0.0, 1.0, 0.0, 1.0, 0.0, 1.0, 0.0, 0.0, 1.0, 0.0, 0.0, 1.0, 0.0, 1.0, 0.0, 1.0, 1.0, 0.0, 1.0, 1.0, 0.0, 1.0, 0.0, 0.0, 0.0, 1.0, 1.0, 0.0, 0.0, 0.0, 1.0, 1.0, 1.0, 1.0, 1.0, 0.0, 1.0, 1.0, 1.0, 0.0, 0.0, 0.0, 1.0, 1.0, 1.0, 1.0, 0.0, 0.0, 1.0, 0.0, 0.0, 1.0, 1.0, 0.0, 1.0, 0.0, 0.0, 1.0, 0.0, 0.0, 1.0, 1.0, 1.0, 1.0, 1.0, 0.0, 0.0, 0.0, 0.0, 0.0, 1.0, 1.0, 0.0, 1.0, 0.0, 1.0, 0.0, 0.0, 0.0, 0.0, 0.0, 1.0, 0.0, 0.0, 1.0, 1.0, 1.0, 0.0, 0.0, 1.0, 1.0, 0.0, 0.0, 0.0, 1.0, 0.0, 0.0, 1.0, 0.0, 0.0, 1.0, 1.0, 0.0, 0.0, 1.0, 1.0, 0.0, 0.0, 0.0, 1.0, 1.0, 1.0, 0.0, 1.0, 1.0, 0.0, 0.0, 1.0, 0.0, 1.0, 1.0, 0.0, 0.0, 0.0, 0.0, 1.0, 1.0, 1.0, 1.0, 1.0, 1.0, 1.0, 1.0, 0.0, 0.0, 1.0, 0.0, 0.0, 0.0, 0.0, 1.0, 0.0, 1.0, 1.0, 1.0, 0.0, 1.0, 0.0, 0.0, 1.0, 1.0, 0.0, 0.0, 1.0, 1.0, 1.0, 0.0, 0.0, 1.0, 0.0, 1.0, 1.0, 0.0, 1.0, 1.0, 0.0, 1.0, 1.0, 0.0, 0.0, 1.0, 0.0, 1.0, 0.0, 1.0, 0.0, 0.0, 0.0, 1.0, 1.0, 0.0, 1.0, 0.0, 1.0, 1.0, 0.0, 1.0, 0.0, 0.0, 0.0, 1.0, 1.0, 1.0, 0.0, 1.0, 1.0, 1.0, 0.0, 0.0, 0.0, 1.0, 1.0, 1.0, 0.0, 0.0, 1.0, 1.0, 0.0, 0.0, 1.0, 0.0, 1.0, 1.0, 0.0, 1.0, 1.0, 1.0, 1.0, 0.0, 1.0, 0.0, 1.0, 1.0, 1.0, 0.0, 1.0, 1.0, 1.0, 0.0, 0.0, 1.0, 1.0, 1.0, 1.0, 1.0, 1.0, 1.0, 0.0, 1.0, 1.0, 1.0]}, \"mode\": \"markers\", \"text\": [\"Adamantina\", \"Adolfo\", \"Agua\\u00ed\", \"\\u00c1guas da Prata\", \"\\u00c1guas de Lind\\u00f3ia\", \"\\u00c1guas de Santa B\\u00e1rbara\", \"\\u00c1guas de S\\u00e3o Pedro\", \"Agudos\", \"Alambari\", \"Alfredo Marcondes\", \"Altair\", \"Altin\\u00f3polis\", \"Alto Alegre\", \"Alum\\u00ednio\", \"\\u00c1lvares Florence\", \"\\u00c1lvares Machado\", \"\\u00c1lvaro de Carvalho\", \"Alvinl\\u00e2ndia\", \"Americana\", \"Am\\u00e9rico Brasiliense\", \"Am\\u00e9rico de Campos\", \"Amparo\", \"Anal\\u00e2ndia\", \"Andradina\", \"Angatuba\", \"Anhembi\", \"Anhumas\", \"Aparecida\", \"Aparecida d'Oeste\", \"Apia\\u00ed\", \"Aramina\", \"Arandu\", \"Arape\\u00ed\", \"Araraquara\", \"Araras\", \"Ara\\u00e7ariguama\", \"Ara\\u00e7atuba\", \"Ara\\u00e7oiaba da Serra\", \"Arco\\u00cdris\", \"Arealva\", \"Areias\", \"Arei\\u00f3polis\", \"Ariranha\", \"Artur Nogueira\", \"Aruj\\u00e1\", \"Asp\\u00e1sia\", \"Assis\", \"Atibaia\", \"Auriflama\", \"Ava\\u00ed\", \"Avanhandava\", \"Avar\\u00e9\", \"Bady Bassitt\", \"Balbinos\", \"B\\u00e1lsamo\", \"Bananal\", \"Bar\\u00e3o de Antonina\", \"Barbosa\", \"Bariri\", \"Barra Bonita\", \"Barra do Chap\\u00e9u\", \"Barra do Turvo\", \"Barretos\", \"Barrinha\", \"Barueri\", \"Bastos\", \"Batatais\", \"Bauru\", \"Bebedouro\", \"Bento de Abreu\", \"Bernardino de Campos\", \"Bertioga\", \"Bilac\", \"Birigui\", \"Biritiba Mirim\", \"Boa Esperan\\u00e7a do Sul\", \"Bocaina\", \"Bofete\", \"Boituva\", \"Bom Jesus dos Perd\\u00f5es\", \"Bom Sucesso de Itarar\\u00e9\", \"Bor\\u00e1\", \"Borac\\u00e9ia\", \"Borborema\", \"Borebi\", \"Botucatu\", \"Bragan\\u00e7a Paulista\", \"Bra\\u00fana\", \"Brejo Alegre\", \"Brodowski\", \"Brotas\", \"Buri\", \"Buritama\", \"Buritizal\", \"Cabr\\u00e1lia Paulista\", \"Cabre\\u00fava\", \"Cachoeira Paulista\", \"Caconde\", \"Cafel\\u00e2ndia\", \"Caiabu\", \"Caieiras\", \"Caiu\\u00e1\", \"Cajamar\", \"Cajati\", \"Cajobi\", \"Cajuru\", \"Campina do Monte Alegre\", \"Campinas\", \"Campo Limpo Paulista\", \"Campos do Jord\\u00e3o\", \"Campos Novos Paulista\", \"Canan\\u00e9ia\", \"Canas\", \"C\\u00e2ndido Mota\", \"C\\u00e2ndido Rodrigues\", \"Canitar\", \"Cap\\u00e3o Bonito\", \"Capela do Alto\", \"Capivari\", \"Caraguatatuba\", \"Carapicu\\u00edba\", \"Cardoso\", \"Casa Branca\", \"C\\u00e1ssia dos Coqueiros\", \"Castilho\", \"Catanduva\", \"Catigu\\u00e1\", \"Ca\\u00e7apava\", \"Cedral\", \"Cerqueira C\\u00e9sar\", \"Cerquilho\", \"Ces\\u00e1rio Lange\", \"Charqueada\", \"Chavantes\", \"Clementina\", \"Colina\", \"Col\\u00f4mbia\", \"Conchal\", \"Conchas\", \"Cordeir\\u00f3polis\", \"Coroados\", \"Coronel Macedo\", \"Corumbata\\u00ed\", \"Cosm\\u00f3polis\", \"Cosmorama\", \"Cotia\", \"Cravinhos\", \"Cristais Paulista\", \"Cruz\\u00e1lia\", \"Cruzeiro\", \"Cubat\\u00e3o\", \"Cunha\", \"Descalvado\", \"Diadema\", \"Dirce Reis\", \"Divinol\\u00e2ndia\", \"Dobrada\", \"Dois C\\u00f3rregos\", \"Dolcin\\u00f3polis\", \"Dourado\", \"Dracena\", \"Duartina\", \"Dumont\", \"Echapor\\u00e3\", \"Eldorado\", \"Elias Fausto\", \"Elisi\\u00e1rio\", \"Emba\\u00faba\", \"Embu das Artes\", \"EmbuGua\\u00e7u\", \"Emilian\\u00f3polis\", \"Engenheiro Coelho\", \"Esp\\u00edrito Santo do Pinhal\", \"Esp\\u00edrito Santo do Turvo\", \"Estiva Gerbi\", \"Estrela d'Oeste\", \"Estrela do Norte\", \"Euclides da Cunha Paulista\", \"Fartura\", \"Fernando Prestes\", \"Fernand\\u00f3polis\", \"Fern\\u00e3o\", \"Ferraz de Vasconcelos\", \"Flora Rica\", \"Floreal\", \"Fl\\u00f3rida Paulista\", \"Flor\\u00ednea\", \"Franca\", \"Francisco Morato\", \"Franco da Rocha\", \"Gabriel Monteiro\", \"G\\u00e1lia\", \"Gar\\u00e7a\", \"Gast\\u00e3o Vidigal\", \"Gavi\\u00e3o Peixoto\", \"General Salgado\", \"Getulina\", \"Glic\\u00e9rio\", \"Guaimb\\u00ea\", \"Gua\\u00edra\", \"Guai\\u00e7ara\", \"Guapiara\", \"Guapia\\u00e7u\", \"Guar\\u00e1\", \"Guaraci\", \"Guarani d'Oeste\", \"Guarant\\u00e3\", \"Guararapes\", \"Guararema\", \"Guaratinguet\\u00e1\", \"Guara\\u00e7a\\u00ed\", \"Guare\\u00ed\", \"Guariba\", \"Guaruj\\u00e1\", \"Guarulhos\", \"Guatapar\\u00e1\", \"Guzol\\u00e2ndia\", \"Hercul\\u00e2ndia\", \"Holambra\", \"Hortol\\u00e2ndia\", \"Iacanga\", \"Iacri\", \"Iaras\", \"Ibat\\u00e9\", \"Ibir\\u00e1\", \"Ibirarema\", \"Ibitinga\", \"Ibi\\u00fana\", \"Ic\\u00e9m\", \"Iep\\u00ea\", \"Igarapava\", \"Igarat\\u00e1\", \"Igara\\u00e7u do Tiet\\u00ea\", \"Iguape\", \"Ilha Comprida\", \"Ilha Solteira\", \"Ilhabela\", \"Indaiatuba\", \"Indiana\", \"Indiapor\\u00e3\", \"In\\u00fabia Paulista\", \"Ipaussu\", \"Iper\\u00f3\", \"Ipe\\u00fana\", \"Ipigu\\u00e1\", \"Iporanga\", \"Ipu\\u00e3\", \"Iracem\\u00e1polis\", \"Irapu\\u00e3\", \"Irapuru\", \"Itaber\\u00e1\", \"Ita\\u00ed\", \"Itajobi\", \"Itaju\", \"Itanha\\u00e9m\", \"Itaoca\", \"Itapecerica da Serra\", \"Itapetininga\", \"Itapeva\", \"Itapevi\", \"Itapira\", \"Itapirapu\\u00e3 Paulista\", \"It\\u00e1polis\", \"Itaporanga\", \"Itapu\\u00ed\", \"Itapura\", \"Itaquaquecetuba\", \"Itarar\\u00e9\", \"Itariri\", \"Itatiba\", \"Itatinga\", \"Itirapina\", \"Itirapu\\u00e3\", \"Itobi\", \"Itu\", \"Itupeva\", \"Ituverava\", \"Jaborandi\", \"Jaboticabal\", \"Jacare\\u00ed\", \"Jaci\", \"Jacupiranga\", \"Jaguari\\u00fana\", \"Jales\", \"Jambeiro\", \"Jandira\", \"Jardin\\u00f3polis\", \"Jarinu\", \"Ja\\u00fa\", \"Jeriquara\", \"Joan\\u00f3polis\", \"Jo\\u00e3o Ramalho\", \"Jos\\u00e9 Bonif\\u00e1cio\", \"J\\u00falio Mesquita\", \"Jumirim\", \"Jundia\\u00ed\", \"Junqueir\\u00f3polis\", \"Juqui\\u00e1\", \"Juquitiba\", \"Lagoinha\", \"Laranjal Paulista\", \"Lav\\u00ednia\", \"Lavrinhas\", \"Leme\", \"Len\\u00e7\\u00f3is Paulista\", \"Limeira\", \"Lind\\u00f3ia\", \"Lins\", \"Lorena\", \"Lourdes\", \"Louveira\", \"Luc\\u00e9lia\", \"Lucian\\u00f3polis\", \"Lu\\u00eds Ant\\u00f4nio\", \"Luizi\\u00e2nia\", \"Lup\\u00e9rcio\", \"Lut\\u00e9cia\", \"Macatuba\", \"Macaubal\", \"Maced\\u00f4nia\", \"Magda\", \"Mairinque\", \"Mairipor\\u00e3\", \"Manduri\", \"Marab\\u00e1 Paulista\", \"Maraca\\u00ed\", \"Marapoama\", \"Mari\\u00e1polis\", \"Mar\\u00edlia\", \"Marin\\u00f3polis\", \"Martin\\u00f3polis\", \"Mat\\u00e3o\", \"Mau\\u00e1\", \"Mendon\\u00e7a\", \"Meridiano\", \"Mes\\u00f3polis\", \"Miguel\\u00f3polis\", \"Mineiros do Tiet\\u00ea\", \"Mira Estrela\", \"Miracatu\", \"Mirand\\u00f3polis\", \"Mirante do Paranapanema\", \"Mirassol\", \"Mirassol\\u00e2ndia\", \"Mococa\", \"Mogi das Cruzes\", \"Mogi Gua\\u00e7u\", \"Mogi Mirim\", \"Mombuca\", \"Mongagu\\u00e1\", \"Monte Alegre do Sul\", \"Monte Alto\", \"Monte Apraz\\u00edvel\", \"Monte Azul Paulista\", \"Monte Castelo\", \"Monte Mor\", \"Monteiro Lobato\", \"Mon\\u00e7\\u00f5es\", \"Morro Agudo\", \"Morungaba\", \"Motuca\", \"Murutinga do Sul\", \"Nantes\", \"Narandiba\", \"Natividade da Serra\", \"Nazar\\u00e9 Paulista\", \"Neves Paulista\", \"Nhandeara\", \"Nipo\\u00e3\", \"Nova Alian\\u00e7a\", \"Nova Campina\", \"Nova Cana\\u00e3 Paulista\", \"Nova Castilho\", \"Nova Europa\", \"Nova Granada\", \"Nova Guataporanga\", \"Nova Independ\\u00eancia\", \"Nova Luzit\\u00e2nia\", \"Nova Odessa\", \"Novais\", \"Novo Horizonte\", \"Nuporanga\", \"Ocau\\u00e7u\", \"\\u00d3leo\", \"Ol\\u00edmpia\", \"Onda Verde\", \"Oriente\", \"Orindi\\u00fava\", \"Orl\\u00e2ndia\", \"Osasco\", \"Oscar Bressane\", \"Osvaldo Cruz\", \"Ourinhos\", \"Ouro Verde\", \"Ouroeste\", \"Pacaembu\", \"Palestina\", \"Palmares Paulista\", \"Palmeira d'Oeste\", \"Palmital\", \"Panorama\", \"Paragua\\u00e7u Paulista\", \"Paraibuna\", \"Para\\u00edso\", \"Paranapanema\", \"Paranapu\\u00e3\", \"Parapu\\u00e3\", \"Pardinho\", \"PariqueraA\\u00e7u\", \"Parisi\", \"Patroc\\u00ednio Paulista\", \"Paulic\\u00e9ia\", \"Paul\\u00ednia\", \"Paulist\\u00e2nia\", \"Paulo de Faria\", \"Pederneiras\", \"Pedra Bela\", \"Pedran\\u00f3polis\", \"Pedregulho\", \"Pedreira\", \"Pedrinhas Paulista\", \"Pedro de Toledo\", \"Pen\\u00e1polis\", \"Pereira Barreto\", \"Pereiras\", \"Peru\\u00edbe\", \"Piacatu\", \"Piedade\", \"Pilar do Sul\", \"Pindamonhangaba\", \"Pindorama\", \"Pinhalzinho\", \"Piquerobi\", \"Piquete\", \"Piracaia\", \"Piracicaba\", \"Piraju\", \"Piraju\\u00ed\", \"Pirangi\", \"Pirapora do Bom Jesus\", \"Pirapozinho\", \"Pirassununga\", \"Piratininga\", \"Pitangueiras\", \"Planalto\", \"Platina\", \"Po\\u00e1\", \"Poloni\", \"Pomp\\u00e9ia\", \"Ponga\\u00ed\", \"Pontal\", \"Pontalinda\", \"Pontes Gestal\", \"Populina\", \"Porangaba\", \"Porto Feliz\", \"Porto Ferreira\", \"Potim\", \"Potirendaba\", \"Pracinha\", \"Prad\\u00f3polis\", \"Praia Grande\", \"Prat\\u00e2nia\", \"Presidente Alves\", \"Presidente Bernardes\", \"Presidente Epit\\u00e1cio\", \"Presidente Prudente\", \"Presidente Venceslau\", \"Promiss\\u00e3o\", \"Quadra\", \"Quat\\u00e1\", \"Queiroz\", \"Queluz\", \"Quintana\", \"Rafard\", \"Rancharia\", \"Reden\\u00e7\\u00e3o da Serra\", \"Regente Feij\\u00f3\", \"Regin\\u00f3polis\", \"Registro\", \"Restinga\", \"Ribeira\", \"Ribeir\\u00e3o Bonito\", \"Ribeir\\u00e3o Branco\", \"Ribeir\\u00e3o Corrente\", \"Ribeir\\u00e3o do Sul\", \"Ribeir\\u00e3o dos \\u00cdndios\", \"Ribeir\\u00e3o Grande\", \"Ribeir\\u00e3o Pires\", \"Ribeir\\u00e3o Preto\", \"Rifaina\", \"Rinc\\u00e3o\", \"Rin\\u00f3polis\", \"Rio Claro\", \"Rio das Pedras\", \"Rio Grande da Serra\", \"Riol\\u00e2ndia\", \"Riversul\", \"Rosana\", \"Roseira\", \"Rubi\\u00e1cea\", \"Rubin\\u00e9ia\", \"Sabino\", \"Sagres\", \"Sales\", \"Sales Oliveira\", \"Sales\\u00f3polis\", \"Salmour\\u00e3o\", \"Saltinho\", \"Salto\", \"Salto de Pirapora\", \"Salto Grande\", \"Sandovalina\", \"Santa Ad\\u00e9lia\", \"Santa Albertina\", \"Santa B\\u00e1rbara d'Oeste\", \"Santa Branca\", \"Santa Clara d'Oeste\", \"Santa Cruz da Concei\\u00e7\\u00e3o\", \"Santa Cruz da Esperan\\u00e7a\", \"Santa Cruz das Palmeiras\", \"Santa Cruz do Rio Pardo\", \"Santa Ernestina\", \"Santa F\\u00e9 do Sul\", \"Santa Gertrudes\", \"Santa Isabel\", \"Santa L\\u00facia\", \"Santa Maria da Serra\", \"Santa Mercedes\", \"Santa Rita d'Oeste\", \"Santa Rita do Passa Quatro\", \"Santa Rosa de Viterbo\", \"Santa Salete\", \"Santana da Ponte Pensa\", \"Santana de Parna\\u00edba\", \"Santo Anast\\u00e1cio\", \"Santo Andr\\u00e9\", \"Santo Ant\\u00f4nio da Alegria\", \"Santo Ant\\u00f4nio de Posse\", \"Santo Ant\\u00f4nio do Aracangu\\u00e1\", \"Santo Ant\\u00f4nio do Jardim\", \"Santo Ant\\u00f4nio do Pinhal\", \"Santo Expedito\", \"Sant\\u00f3polis do Aguape\\u00ed\", \"Santos\", \"S\\u00e3o Bento do Sapuca\\u00ed\", \"S\\u00e3o Bernardo do Campo\", \"S\\u00e3o Caetano do Sul\", \"S\\u00e3o Carlos\", \"S\\u00e3o Francisco\", \"S\\u00e3o Jo\\u00e3o da Boa Vista\", \"S\\u00e3o Jo\\u00e3o das Duas Pontes\", \"S\\u00e3o Jo\\u00e3o de Iracema\", \"S\\u00e3o Jo\\u00e3o do Pau d'Alho\", \"S\\u00e3o Joaquim da Barra\", \"S\\u00e3o Jos\\u00e9 da Bela Vista\", \"S\\u00e3o Jos\\u00e9 do Barreiro\", \"S\\u00e3o Jos\\u00e9 do Rio Pardo\", \"S\\u00e3o Jos\\u00e9 do Rio Preto\", \"S\\u00e3o Jos\\u00e9 dos Campos\", \"S\\u00e3o Louren\\u00e7o da Serra\", \"S\\u00e3o Luiz do Paraitinga\", \"S\\u00e3o Manuel\", \"S\\u00e3o Miguel Arcanjo\", \"S\\u00e3o Paulo\", \"S\\u00e3o Pedro\", \"S\\u00e3o Pedro do Turvo\", \"S\\u00e3o Roque\", \"S\\u00e3o Sebasti\\u00e3o\", \"S\\u00e3o Sebasti\\u00e3o da Grama\", \"S\\u00e3o Sim\\u00e3o\", \"S\\u00e3o Vicente\", \"Sarapu\\u00ed\", \"Sarutai\\u00e1\", \"Sebastian\\u00f3polis do Sul\", \"Serra Azul\", \"Serra Negra\", \"Serrana\", \"Sert\\u00e3ozinho\", \"Sete Barras\", \"Sever\\u00ednia\", \"Silveiras\", \"Socorro\", \"Sorocaba\", \"Sud Mennucci\", \"Sumar\\u00e9\", \"Suzan\\u00e1polis\", \"Suzano\", \"Tabapu\\u00e3\", \"Tabatinga\", \"Tabo\\u00e3o da Serra\", \"Taciba\", \"Tagua\\u00ed\", \"Taia\\u00e7u\", \"Tai\\u00fava\", \"Tamba\\u00fa\", \"Tanabi\", \"Tapira\\u00ed\", \"Tapiratiba\", \"Taquaral\", \"Taquaritinga\", \"Taquarituba\", \"Taquariva\\u00ed\", \"Tarabai\", \"Tarum\\u00e3\", \"Tatu\\u00ed\", \"Taubat\\u00e9\", \"Tejup\\u00e1\", \"Teodoro Sampaio\", \"Terra Roxa\", \"Tiet\\u00ea\", \"Timburi\", \"Torre de Pedra\", \"Torrinha\", \"Trabiju\", \"Trememb\\u00e9\", \"Tr\\u00eas Fronteiras\", \"Tuiuti\", \"Tup\\u00e3\", \"Tupi Paulista\", \"Turi\\u00faba\", \"Turmalina\", \"Ubarana\", \"Ubatuba\", \"Ubirajara\", \"Uchoa\", \"Uni\\u00e3o Paulista\", \"Ur\\u00e2nia\", \"Uru\", \"Urup\\u00eas\", \"Valentim Gentil\", \"Valinhos\", \"Valpara\\u00edso\", \"Vargem\", \"Vargem Grande do Sul\", \"Vargem Grande Paulista\", \"V\\u00e1rzea Paulista\", \"Vera Cruz\", \"Vinhedo\", \"Viradouro\", \"Vista Alegre do Alto\", \"Vit\\u00f3ria Brasil\", \"Votorantim\", \"Votuporanga\", \"Zacarias\"], \"type\": \"scatter\", \"x\": [0.6964012705203007, 0.18847880965869926, -0.1130607396649014, 0.3402028827083962, 0.3085407480274797, 0.18709061745794173, 1.4869663070055725, 0.1316316185945665, -0.4457630427662617, 0.11972255782164791, -0.5043670095964403, 0.12655781048478898, -0.18927841745161575, 0.18349056305908368, -0.29507362024275335, 0.1466564307458224, -0.7755322790364844, -0.33707243266227144, 0.8898411891731922, 0.11012683263576802, 0.07522965790907299, 0.6164847729142204, 0.09118438906136267, 0.5805695040341919, -0.210338695933499, -0.3790539033187639, -0.1748240834614392, 0.1926350169197349, 0.012237309741565092, -0.6470568826240071, 0.09610028066617936, -0.4932414013307115, -0.6683692391467123, 0.8575603347249524, 0.5921629700979714, -0.13624254536007416, 0.7136685242293631, 0.27338647904535146, -0.4164760963085878, -0.029690043117695762, -0.8289983500770132, -0.33926755302452916, 0.14243793556498285, 0.1573029770728408, 0.33457865702928397, -0.06465030815124477, 0.6673465358174794, 0.5227500122893279, 0.390846060875088, -0.5788069217300512, -0.3550011294749837, 0.4041240409532241, 0.3351991007836263, -1.0422183534484715, 0.3824643351643805, -0.24877577549014576, -0.6485495794067676, -0.3898717193793081, 0.36481869485373747, 0.6585416532211412, -1.4471799906570548, -1.32230326549608, 0.7946732938121877, -0.20591284932907372, 0.898519856769818, 0.19719397747710396, 0.3142600871578659, 0.7527836818462664, 0.5938524795940818, -0.010117312964203156, 0.05723045651633884, -0.11400914306377738, 0.37465524406267087, 0.5494292910587057, -0.5787850445363459, -0.3839658286149605, 0.16173519114946458, -0.47442113566497396, 0.49393593037413464, -0.15902202543914182, -1.0938949146664116, 0.17147604608041864, 0.2042293089561099, 0.09478556994163365, -0.2696564785002101, 0.8389882849515236, 0.5726565135443304, -0.0010133204175180861, -0.21500069590985507, 0.26599117836656877, 0.12003910527625561, -0.821240567584207, 0.3237235320134232, 0.06307698907570874, -0.41075511306452295, 0.05068141178864945, 0.024660924798778378, -0.2822888665731721, 0.12201233677076678, -0.22308188643070373, 0.1844194955633563, -0.8774072085693404, 0.17226857968071946, -0.6020475585590196, 0.030663692741412805, -0.18488898304887777, -0.33452717294251805, 0.9277755456109148, 0.18162375590846727, 0.22499790365047603, -0.4109603313158727, -0.49607525850190837, -0.616075461717754, 0.14537477436529456, 0.4569241077801988, -0.5900324796956208, -0.3949338355393523, -0.38542909829072647, 0.2259540418187286, 0.18184594896302742, -0.07891999842343023, -0.01269753379723293, 0.041813358244677794, -0.07847877579207052, -0.3620014061877213, 0.8259046386315213, 0.12550739117646462, 0.3895405477214095, 0.4729520805562093, 0.010590166433142228, 0.44034880980302754, -0.19001882472230414, -0.08416065506983858, -0.08561296879241936, -0.009920797555873377, 0.27240256722801276, -0.28891546046193395, -0.1422275383937523, -0.01796110896173473, 0.4064198605451867, -0.19201034594763777, -0.7275461847275749, 0.0670568310818672, 0.16493728720637746, 0.12668648723937953, 0.35856436245324436, 0.30181562023181996, -0.18422287943152799, 0.16800789045106002, 0.29489733461330875, -0.15688643303006966, -0.6870249275770659, 0.38578397906336515, 0.053616685603193694, -0.03748723628974117, 0.20038977629407514, -0.23463545110977269, 0.07732015674870393, 0.2659264311831637, 0.15545325035719446, 0.564559326894079, 0.21901192672296343, 0.03695072439307202, -0.06828846689277973, -0.9496723091703508, -0.3532779965739439, 0.06835824187603941, 0.01519875782645319, -0.2294261070747786, -0.1836113902255063, -0.08403153037802248, -0.2306087703487717, 0.5180000820048172, -0.4274222785319609, -0.03328383676056762, 0.45350869446640646, -0.20242264376757765, -0.713297810904406, 0.011184359538408172, 0.4003537942852794, 0.8468036541750911, -0.5148059626466278, -0.33012970550455073, -0.28961043505584433, 0.20294188736712612, -0.25269912087885116, -0.250801755168982, 0.515369523878314, -0.6921885618759253, -0.264637825586969, 0.23126844932933477, -0.2277986687637873, 0.3097586011995998, -0.21344283271173894, 0.0343472047281427, 0.13378480700121956, -0.3698273907192137, -0.05086486031580113, -0.25994337723350325, 0.28432137349940595, -0.05400406296141508, -1.1511294026337502, 0.042422112833998805, -0.21269083093531, -0.08633326492254378, -0.09404493354196179, -0.2659661739046636, 0.2867793421389356, -0.052235640699324445, 0.5703374396470664, -0.14488754510865695, -0.7065892868977268, -0.1487064230898864, -0.023527453273980852, 0.08720825749153104, -0.2418643931531976, -0.4063920746665232, -0.3099240185456792, 0.5955714970591063, 0.1383841138780046, 0.1337190021047036, -0.06301582869824614, -1.044231210945885, -0.2578488722455033, 0.11015495992913277, -0.35931500407976974, 0.24351567929034765, -0.48740272497399917, -0.20376814455362455, -0.07567399256890332, 0.1947217320707136, -0.11979857001758726, -0.11422233364510938, -0.49196149737859696, -0.03147864206191479, 0.7560596041202338, 0.41112247539212404, 0.6887600766997518, 0.14487408112397798, 0.22576012745709334, 0.14241970830806178, -0.13726551775602902, -0.6106073291616384, 0.1205909472025608, -0.2823792987147221, -0.9983356055871305, -0.04175266597806792, 0.42430845515700216, -0.15795444729336586, -0.36479557597046536, -0.7041957978153525, -0.3807860068796318, 0.3676799155891671, -0.326964578181115, -0.14713737684705191, -1.1579368139975583, -0.23555696077173963, 0.17304644558187202, -0.19357258425071397, -0.20272767504920272, 0.5084589175477752, -1.3133058043403651, 0.2842029900317384, -0.4255478789804671, -0.03818071206464536, -0.6182518532532703, -0.5185544704885398, -0.4938332894510419, -1.041993165218467, 0.4830197123864999, -0.32416135129326734, -0.1803400032776154, -0.49661583946420357, -0.15566175798589646, 0.5180388917206731, 0.4038784016404873, 0.3781573191386515, -0.11586586418393595, 0.5650767466237268, 0.3490091811833692, 0.13283597936221417, -0.5153895142116108, 0.7950256694126536, 0.7092087454737794, -0.09655287131852976, 0.054823408481206, 0.05761225339064802, 0.05582551488343183, 0.5996261514191782, -0.35567703015537294, -0.06774961302255804, -0.22099897000458826, 0.49984831327040247, -0.4346842621941396, -0.06016018901774688, 1.1133047822693105, 0.16511951528170818, -0.7543237952132138, -0.6459034056875411, -0.3763976804886261, 0.09851346954810712, -0.6282668237903297, -0.4763217180211724, 0.17647658295799454, 0.3446982561097477, 0.512540590749332, 0.21843720477913706, 0.6521238001417549, 0.19797953658699605, -0.08510391557476829, 0.6631592856677264, 0.0670477386683338, -0.06351012387531386, -0.09021112045502143, -0.36794940911155066, -0.28933220276202715, -0.2882495868223849, 0.30561516309548, 0.21558872845659727, 0.04371334647467213, 0.1753182820914443, 0.022378915752354026, 0.18449063639354343, -0.0014467256330581715, -0.9421952391746649, 0.19799876859483936, 0.37884577462078606, -0.34917167471998173, 0.7031154405657294, -0.10754904256785085, -0.1818153334572994, 0.4936390157508038, 0.10205274972476441, 0.29247733546714605, 0.2102541596559952, -0.13927351668099938, 0.016708060588172015, -0.06847034302628564, -0.0410896680821244, -0.8472080374523216, 0.13565511640297634, -0.47335258581473366, 0.4772773841093743, -0.201528890366309, 0.23047911498926404, 0.3162506094186971, 0.4537852062332249, 0.6987323988257023, -0.19537595826462195, -0.08024461327153083, 0.38082757399509953, 0.5083277957673531, 0.5076746482774535, 0.3268368515092056, -0.032688082460867976, -0.030898861557602075, -0.4279490301866735, 0.35204935579568175, -0.19360146394889347, 0.026026361472045692, -0.2570483751310891, -0.13149910600201806, -0.39760038214262833, -0.2720978753072939, -0.943880150865257, -0.43898221842858, 0.3317970182922458, 0.3088871650983458, -0.1604528015529746, 0.06042521351358303, -1.2412528967613885, -0.30364469884338935, 0.010045962365325532, 0.13445263139364938, 0.022103161423764575, -0.02702565662175885, -0.01008654853874121, -0.14835500110707567, 0.6159622091872915, -0.30089913482442837, 0.38159523601639306, 0.23342178245977388, -0.17773638183054388, -0.08947427023949356, 0.5633854748470383, 0.08933089904582828, 0.13520430796899283, 0.1990766499157808, 0.5759170007925459, 0.43680530613463175, -0.013630195573068157, 0.31530087176396115, 0.4144601006222318, -0.4785415669178407, 0.36041716801172424, -0.15093311622668198, -0.005228617038936164, -0.26675590735086385, 0.20074877166364508, 0.13405345453571496, -0.0956212012171024, 0.15220038213353232, -0.5040000517718594, 0.24858626931823724, -0.3189754457764044, 0.06215154558293807, -0.0442007483537002, 0.017922552247073, -0.11202264200568299, 0.10197679122319671, -0.13633892581666984, -0.1553880583405813, 1.009310011446724, -0.3167200356542391, -0.25113171319559363, 0.08450660074848461, -0.6235736508209344, 0.06263631272888037, -0.19158249791582097, 0.4015993283260902, 0.33863876958635825, -0.7921448622457113, 0.45633331315977244, 0.21152442426068382, -0.15257922554519118, -0.0062361535969987884, -0.11058667194741469, -0.3514146801715881, -0.2925103588218567, 0.2565682657336042, 0.10794671276507879, -0.2243667383023651, -0.3439849570247225, -0.108453783518635, 0.06508437668871364, 0.7196002849953386, 0.2763057641733202, 0.010018122466647756, 0.3283517791959857, -0.4573657726260872, 0.23617013516655594, 0.7331948690274593, 0.4032372381487908, -0.1604716668013047, -0.10370645143506024, -0.45454947439145227, 0.1072689134459208, 0.2952379312702205, 0.46081513563222665, 0.20184411945487177, -0.22464135811694688, -0.3748320095827625, 0.04778887032052218, -0.07877210282962503, -0.411148950987714, 0.2573046593151668, 0.2262070718818565, -0.7096176476304736, 0.3704315126511631, -0.9291239611090769, -0.09272714439307278, 0.03585129040365682, -0.2519934848250295, -0.21364784036397994, 0.15293375586693025, 0.0462230876178495, 0.8795853398754678, 0.3085046095575039, 0.05380359490626852, -0.7758356679897077, -0.05166861314616933, -0.37151688539098515, -0.5627182766938503, -0.15672790782642318, 0.08088313507953365, 0.19718810749986942, -0.77737815167209, 0.26154084224738783, -0.32880277541055514, 0.07651369436925909, -0.47391243190240134, -1.0188848926802019, -0.16501897027683607, -1.3402259806693808, -0.36141598177270007, 0.00874995833534832, -0.23922035196051963, -0.8373479181866553, 0.2932072962174933, 0.9178786397410503, 0.20270874775858155, -0.16158077663352782, -0.030533547362377712, 0.7231145090760535, 0.21843092007673745, -0.2794536464996897, -0.5008652264144536, -0.9623217486337639, 0.01550306379617478, -0.12746070056923436, -0.3604503465081956, 0.25002956081665173, -0.11984537698769902, -0.21707099406396496, 0.15611627292527688, 0.3487277191770775, -0.23482264421518342, -0.36324507619061863, 0.535657088069869, 0.48871234517316736, -0.1134222042598352, -0.413466653442438, -0.4306733563672191, 0.3169055267855635, 0.13927618748979437, 0.5361393261367682, -0.15435885200411767, 0.0968017275328286, 0.4181634700160522, -0.2054289839596085, -0.12883623902462005, 0.40762778553927026, -0.0343429308772938, 0.6734223124893178, 0.0972816644518432, -0.15110497842528012, -0.12814847823623393, -0.39141560851650015, -0.08525127942226805, 0.2052509253134922, 0.5866921606566037, 0.27183915774667305, 0.38364634854911445, 0.33174461493809326, 0.7436283552930066, 0.1428344407456502, 0.8812794261986585, -0.3266745047493034, -0.06971840134204942, 0.0030412852995630865, -0.18416121333260957, -0.2524032353094629, -0.20495013267935228, -0.1638077746263642, 1.1787403602724202, -0.3544828438357515, 0.7107951124429446, 1.6880388718071568, 0.7905330350815912, -0.13084723147996416, 0.7240363902859082, -0.18460758451472012, -0.01857587401037379, 0.31183800006114376, 0.37397594861963657, -0.5422675886095979, -0.7196797514649229, 0.47214948341712176, 0.9284438501117177, 0.6667601638942932, -0.32736857343279174, -0.4492114540874745, 0.13460528453612022, -0.547007711883871, 0.8610631659696003, 0.326011594157328, -0.4130851809456657, 0.2851333924293254, 0.23268168702687042, -0.3414792963670067, 0.20875525882268542, 0.019306628274086437, -0.4221550276983025, -0.5110552802533925, 0.5681240600651668, -0.6710571415666202, 0.4725025051337995, -0.06795564927917176, 0.4154346176342357, -0.8721599559322809, -0.1999627888363603, -0.7072731404438467, 0.0810671196266575, 0.712733942687731, -0.027094892690830607, 0.2591762561159449, -0.43213810435637606, 0.07796379540459576, 0.13063008950182156, -0.10225260149951133, 0.1320149274624732, -0.2204321664958727, -0.3963111084454206, -0.2269412121426595, 0.22917392227554897, 0.13423750976723142, 0.2514705355620039, -0.6124777977508649, 0.07802449138263041, 0.014567431758829883, 0.23608993792136473, -0.26370397655359323, -0.9692063279730216, -0.2859589206463776, 0.05130829095798447, 0.22435071597021808, 0.6987978840527901, -0.897254013523392, -0.14314649099504773, 0.04866504605286325, 0.4610668953807881, -0.3796174793532657, -0.27619353618678916, 0.2330713270071156, -0.2141894016563062, 0.24755565757777667, 0.18780309318727226, -0.1965689700350131, 0.5198663698035244, 0.34124791226557954, 0.13168193549526472, 0.043629904191469907, -0.2663673647784674, 0.013396067848266758, -0.15929314766452915, 0.01665278672345391, 0.07649762798165587, 0.1687156381116478, -0.04563783784613488, 0.27598350571756386, 0.07768808031997043, 0.9923154655863415, -0.08581189979894173, -0.21934178840527344, 0.13547674228676918, 0.3045379170172724, 0.12299155817009495, 0.11399913593221067, 1.0726990903244435, 0.09643933093548408, 0.20005179121887606, -0.12546171258667638, 0.23225116930632791, 0.7354835217592669, 0.0021090326896403186], \"y\": [-0.22343159731859386, -0.31655744294631566, 0.04006409803092652, -0.08269841612158613, -0.017357314685692724, -0.1749900234415446, -0.1406694267172742, 0.07603819981530974, 0.08626815947470158, -0.22861628229313147, -0.056748009238298015, -0.2021774785344712, -0.4719570250759702, 0.4499801483592435, -0.502946826979937, -0.003464916124175376, 0.03821426073743372, -0.07062447886515447, 0.08012500872077868, 0.16224279577871933, -0.3983944790534602, 0.01851384026725657, -0.06640686039367649, -0.014872547629420056, -0.004205040475934772, -0.01663688362417103, -0.07027190618553085, 0.027768802395453263, -0.4708275690598439, 0.29863790832778025, -0.10896322174754657, -0.13793082632772385, 0.019768833086287525, 0.03268201520820668, 0.01906621380783339, 0.9309260897565319, -0.015585273290691946, 0.33885953788491735, -0.39121029616170944, -0.2006226512480115, 0.018599913406640755, -0.0018587819451465505, 0.0911200312867433, 0.006102303624898939, 0.5779879691689443, -0.3422102561591142, 0.006832531841851253, 0.3197143783542972, -0.17656998693135376, -0.1600087239326373, 0.030868933872576488, 0.0006706963720454264, -0.144152740450638, -0.06343100010208311, -0.23720252309585402, 0.06194670786128664, -0.06378566076088162, -0.03037922415355934, -0.09875871149028294, -0.10719889212453586, 0.16787402660380848, 0.10506242174053466, 0.03923216426578078, 0.18443902355002897, 0.8527552326332456, -0.260541081386553, -0.08668898094104702, 0.06468505908819418, -0.08611212470642084, -0.040385613390851914, -0.22887841117907148, 0.6783927654730496, -0.20115693973900037, -0.022207403598543073, 0.30759185307645887, -0.09119716645890459, -0.01432763423223734, -0.07876791925076838, 0.19797203731489085, 0.12184168195857083, 0.158381347600751, -0.15469792506953092, 0.11392822937520004, -0.17197836789853418, -0.029346009718300484, 0.13559899753810234, 0.1942011736903824, -0.12274832396976515, -0.10669268473807193, 0.018873556977695077, -0.09888191256331123, 0.08269008979594576, -0.031248950696206014, -0.16765149766414855, -0.09734578704325504, 0.4178983458894839, 0.045763342323555375, -0.0933906932846549, -0.06027248782059461, -0.08021157962514944, 0.3539571477325044, -0.16062723698004241, 0.9047812210175441, 0.24121455597289831, -0.16927837405560173, -0.013953278664850704, 0.10055620472453147, 0.29156214885691367, 0.34393254901112075, 0.2427686346834541, -0.1315770372963386, 0.289374041550522, 0.26376202209777166, -0.02285672854498353, -0.3999450777146087, 0.1329808218910593, 0.05808116785518273, 0.15602925595237924, 0.13510714722168174, 0.3228968026828583, 0.28325690385066143, -0.14209344842237534, -0.11969645767584725, -0.4228997522939072, 0.13050486732459785, -0.05783722727519942, -0.04360165930006743, 0.1724464849413622, -0.10969936072846809, -0.09065416503008368, 0.026041699141128555, -0.11392434881445684, 0.04499476093802912, -0.03786016327396731, 0.04187159997142493, -0.03671831785732032, -0.23494596469345405, 0.01298247563129198, -0.08503816115901358, 0.19792738448115724, -0.15160213486197502, -0.08692119668386696, -0.1309831789646945, 0.2140323455676588, -0.3602455019467082, 0.6114434510886442, 0.061405703826161534, -0.08853734893133311, -0.200757845214068, 0.16796452841546197, 0.6962940991480465, -0.05654331105126952, -0.06406465261171777, 0.32443042346352813, -0.27699232142574454, -0.2480031454783775, 0.10341769849629437, -0.04615997273840789, -0.4654675715861483, -0.14665079356582023, -0.16375283874705238, -0.22909030760224613, 0.08754856983667796, -0.1833614217753628, 0.070474292482994, 0.09595412187774226, -0.11849883156359277, -0.21948927697350942, 0.5078054675974084, 0.49959738765193135, -0.27212189854087077, 0.2200206191350797, -0.03834455709264192, -0.039971425645403284, -0.05308652492022833, -0.14120981728803003, -0.0991966471397295, -0.02519639642718251, -0.14648764714191162, -0.36013006973011813, -0.1488554312025813, -0.27419184118160955, 0.3597353659663485, -0.35950883480618373, -0.5136910831763798, -0.16363833796344862, -0.1154118394636237, -0.015231833147644275, 0.5767733751882128, 0.47365665852522276, -0.41508927902467396, -0.3152934780545786, -0.11077577241285887, -0.043940631236522136, 0.31535885169690625, -0.25125996670346057, -0.10741067905887801, -0.16697532333531465, -0.06401666216041361, 0.004791088535068043, 0.054057296045335865, 0.04296268635990311, 0.0691365266839145, 0.09502599479590063, 0.029078707403983217, -0.32807959891113, -0.04335442363786518, -0.09513770283097044, 0.4254565311327268, 0.18172204139772927, -0.35427499534536216, 0.04226767300931941, 0.10473409188461523, 0.45147816567478405, 0.4081039929848076, -0.02150651477223692, -0.157777229463727, 0.04115265032673969, 0.11505739434852806, 0.6832254516933128, -0.04034186870446939, -0.226163446868593, 0.24782785111523944, 0.0842119877077336, -0.08160065647961934, 0.01203695717642936, -0.0465734335098096, 0.09582771076182371, -0.060184803989590814, -0.08697083625561183, 0.05505079533932622, 0.2960138558629832, 0.008732395557025771, 0.3908263785572719, 0.3442079665879914, -0.011622161889939695, 1.1253212443048728, 0.22074353706702948, -0.12677543552854256, -0.32539640068936226, -0.04423866463424714, -0.008936950508190185, 0.23028908232395684, 0.1855505343633864, -0.1487400858303821, 0.3112237001637476, 0.10798061215575294, 0.2540453571183412, -0.15005296387024178, -0.14263874465231538, 0.010805614400577918, 0.018671856091779706, -0.26886384700288607, -0.18172108784923524, 0.44556700259808507, 0.24491380180175532, 0.6371850240898327, 0.10362764360809962, 0.05508563248622162, 0.6267336453930734, -0.045696928735404464, 0.2509579285613015, -0.19422872808224947, 0.005523735928537179, 0.1939114707202004, 0.27071707643568604, 0.5388276679304604, 0.07154291278865164, 0.5142896622814347, 0.07540442416565649, 0.09102552357419531, 0.06848912119412102, 0.0009464446661490336, -0.12049846448566279, 0.14927340994841873, 0.4950028193352468, -0.08322344132493786, -0.11241530960343406, -0.03256245580306861, 0.22245736393319723, -0.006796620598228332, -0.016035222545528076, 0.6082419576048759, -0.1899732684637887, 0.026874252007718497, 0.3856670034650355, 0.08679906486400907, 0.7180644538583296, 0.05030814298521712, -0.13185472811885687, 0.06535152161647963, -0.06125293339998192, -0.07261566503836506, -0.052685356759971116, 0.030333935907251447, 0.2730920670645543, -0.06715748223070192, 0.14280772673949946, 0.589569286402911, -0.32012406059904935, -0.04359876255010684, -0.05029648756414848, 0.27116204093410345, 0.05483068783946396, 0.04610225953091376, 0.07074540811715559, 0.11189325839675777, 0.019903782031976625, 0.1309849639799126, -0.29052833641066944, 0.769430291841489, -0.11985294739381937, -0.288496875988123, 0.2584979838513094, -0.036889119565875386, -0.03821614808969013, -0.21226252987079003, 0.037472877531841454, -0.27272801724360235, -0.2580919239158071, -0.45688098675536926, 0.11699422409004427, 0.6477861172453374, -0.18249471637592843, -0.09784774478800898, -0.033089275874188036, -0.2200460851681104, -0.13169685777564688, 0.06632538905278221, -0.3233625649796817, -0.019907870096563404, 0.031119918456942473, 0.3118804888486008, -0.12456372499682773, -0.3194687096954684, -0.296535785709266, 0.0638551133753338, -0.0923158259170353, -0.4224840361445787, 0.18158817514719194, -0.018132749170436818, 0.05297287138832602, -0.02632421254004242, -0.0674120918473157, -0.07244054243627643, 0.31232822666739835, -0.0008211399650993275, 0.060028093940624694, 0.025772041314283494, 0.45518416432741515, -0.20706496917748735, -0.12198520077693395, -0.07577871800467224, -0.1409473380821252, -0.37797949622138166, 0.4995232591642131, -0.09756365026892704, -0.3345116413728974, 0.13248171050094829, -0.06782971478900567, 0.0339104884156872, -0.3416755009387735, 0.01552403537410824, 0.09937651604680102, -0.20602523271546305, 0.6241560302474594, -0.2932263968891929, -0.29456610610051337, -0.08565353464574406, -0.22248258681974298, 0.47361242953813015, -0.6361445974818188, -0.3197186632368917, 0.09657420108625232, -0.0861797847912357, -0.3041572209586273, 0.016670791187267844, -0.06913951930608526, 0.13356888816073817, 0.0830167295074181, -0.07333609323932472, -0.005304247983636224, -0.22558172340253557, -0.35641830327701224, -0.0020123442999413674, 0.0699952374974982, -0.06461011111501559, 0.17551398421388295, 0.042213312105512046, 0.4751441586206147, -0.38637576119821704, -0.2233202144914132, 0.017009073312416984, 0.05980957555357765, -0.00556662570094581, -0.0785440015139171, -0.08098496653673533, 0.19467528943316448, -0.4166918682184064, -0.16913894677723548, -0.008857462087337018, 0.004114384532092169, -0.17149304283596328, -0.07806895157969963, 0.07059767049215242, -0.28864736987117295, -0.22242441600023596, 0.07124223085976215, 0.17128299646047015, -0.4994844285047083, -0.005175247615071695, 0.21066971022788372, 0.7640626109270175, -0.1583427907486343, -0.13742009047619647, 0.0375665656835269, -0.3429537733206373, -0.5547364854875328, -0.12222274504653088, 0.027483345286097905, -0.05593537235877176, 0.22661482377468123, -0.11090393858272474, -0.005115211434686013, -0.07029746384101884, 0.4080171184131491, -0.14591466101999112, -0.026078935784347085, -0.05933917056141068, 0.24688309136252978, -0.06283200499628014, -0.2836723236236569, -0.1315337340966506, 0.03069625801161905, 0.29654108292563175, 0.13352344918903744, -0.1540806562188704, -0.05910219944407145, -0.22771974335336093, 0.49010732021164205, 0.10777789177152826, -0.0009844480939488589, -0.007866972019263752, 0.13874053461099456, 0.07547702350967386, -0.0891715173482298, 0.3163254188741332, -0.24487750178103862, 0.13001159006983495, -0.4019813270025629, 0.33391454449407637, -0.027874261951043092, -0.382153520560998, -0.4459761412039576, -0.13579746211400062, 0.06509189040699642, 0.010712905575503544, 0.1355849731170406, -0.1528047044758127, -0.021446709037485585, 0.15630346930314326, 0.27124142392214445, -0.11020731398466241, -0.15935720621935404, -0.1311362042424437, 0.060791309039843616, 0.1067655216926479, -0.10838736086173055, 0.03191181321955894, -0.2494311848251928, -0.026555602653373415, -0.004846351367374023, 0.3109206316737713, -0.05944412731542374, -0.03632098402988733, -0.07835467800338762, 0.0902864026285193, -0.051959525346266605, -0.11444735283286887, 0.2114239213869273, 0.03906891319895944, 0.15366851129186604, -0.010538548999109455, 0.17108864900795848, -0.0874320171230446, -0.16846808181167178, -0.3587595279734243, -0.07792744305072616, 0.20961977361209866, 0.1822381707219665, -0.1753896919507591, -0.09759496407836199, -0.25935364880972267, 0.03256009057313605, 0.1878625181425574, 0.4383859486314264, -0.009565721180064019, -0.03443142289483546, 0.1097079310186091, 0.10745601925861428, -0.10656063953228129, -0.24985827092273682, -0.24118644333120015, -0.2855390906883732, -0.13283427986861437, -0.11252211953312588, -0.050306938730959046, -0.0345891959623871, -0.1197215483812983, 0.1714740154400849, 0.07978825221660656, 0.2706314449603111, 0.058401222730674114, -0.12403441775724557, -0.34734221631493056, -0.0006086535981707972, 0.08684274210166158, -0.4635963162544971, -0.16354788983504534, -0.18686955373894562, 0.014277433332323907, -0.031115050765267268, -0.033762556722921264, -0.21403544111975398, 0.22193030218506005, 0.2519133613225614, -0.024098580716381043, 0.036924438567017326, -0.026249704600901643, -0.5566820340892477, -0.21766372958041594, -0.006432055888686746, -0.6011800170329925, -0.610036776394883, 0.7498029906264524, -0.08032293510590169, 0.10339477937665356, -0.2432831426297718, 0.2086934145910717, -0.022397020078254205, -0.2817010128940647, 0.042981772880246474, -0.028943172293419174, 0.023276437223998338, 0.15542325153350317, -0.18832962914035437, 0.3023379506757902, -0.02432936812554958, 0.07602547119809606, -0.4196018124085862, 0.03832609553161769, -0.3550214222819976, -0.2419518659744828, -0.5401180345941337, 0.033774689843799645, 0.07578139937937112, 0.0449184516551505, -0.08373100514782465, 0.06553493506482774, 0.3049982024942891, 0.5134244135908059, -0.1259712528366563, -0.08017951494914922, 0.01934911336421821, 0.3785515657673251, -0.10310704689950947, -0.16526261025581876, 0.39380895241106245, 0.7218104361808084, -0.20061375137912751, -0.06982133740090035, 0.2453086512483235, 0.09128733341578893, -0.18345876229793973, -0.27356072183895574, 0.081667780791241, -0.05568084852244732, 0.155167771597003, 0.14991576888497246, 0.04473628684386333, -0.012497067314778036, -0.14509739924650802, -0.1864975539758134, 0.19493655302776491, -0.12607806845273037, 0.31949028839950405, -0.04207793902196422, 0.4095495961911152, -0.2238562100792486, -0.15467008008530095, 0.3333339429513729, -0.07642418136934766, -0.0468404234571459, -0.1559802470413259, -0.14013927449463087, -0.10676815611095156, -0.08651436096398664, 0.061830808085384194, -0.06930307964075597, -0.19501124649795631, -0.12930920425133557, -0.05720960714168089, 0.1586782038703894, 0.04399321360640513, 0.17580206292957185, 0.10238973366799285, 0.23434835743161261, -0.05115434660359097, 0.07429331186801537, -0.05158947462239154, 0.08082432260843947, -0.24140215644462285, -0.19210883526122385, -0.2509352350308249, -0.14261201651880628, 0.3214067742131658, -0.32783498941711636, -0.08404069134587441, -0.1444534556399, -0.2971957764048686, -0.46277822256224205, -0.6471219774884577, 0.07570428878401657, 0.6142817342293194, -0.23092523061014236, -0.22655708317834233, -0.2867423473495693, -0.39700999835905426, -0.5121645365919503, -0.3313785858510139, -0.14161039154493885, 0.15368850284028188, 0.12129930332414937, -0.09505432489347712, -0.004817562768374226, 0.5819810729379545, 0.2767667840333049, -0.15008740104094365, 0.41535600137933154, -0.10197336415055644, 0.03556823356939951, -0.25639098686138995, 0.11877321817670819, -0.09749775903279984, -0.32422778349918213]}],\n",
              "                        {\"template\": {\"data\": {\"bar\": [{\"error_x\": {\"color\": \"#2a3f5f\"}, \"error_y\": {\"color\": \"#2a3f5f\"}, \"marker\": {\"line\": {\"color\": \"#E5ECF6\", \"width\": 0.5}}, \"type\": \"bar\"}], \"barpolar\": [{\"marker\": {\"line\": {\"color\": \"#E5ECF6\", \"width\": 0.5}}, \"type\": \"barpolar\"}], \"carpet\": [{\"aaxis\": {\"endlinecolor\": \"#2a3f5f\", \"gridcolor\": \"white\", \"linecolor\": \"white\", \"minorgridcolor\": \"white\", \"startlinecolor\": \"#2a3f5f\"}, \"baxis\": {\"endlinecolor\": \"#2a3f5f\", \"gridcolor\": \"white\", \"linecolor\": \"white\", \"minorgridcolor\": \"white\", \"startlinecolor\": \"#2a3f5f\"}, \"type\": \"carpet\"}], \"choropleth\": [{\"colorbar\": {\"outlinewidth\": 0, \"ticks\": \"\"}, \"type\": \"choropleth\"}], \"contour\": [{\"colorbar\": {\"outlinewidth\": 0, \"ticks\": \"\"}, \"colorscale\": [[0.0, \"#0d0887\"], [0.1111111111111111, \"#46039f\"], [0.2222222222222222, \"#7201a8\"], [0.3333333333333333, \"#9c179e\"], [0.4444444444444444, \"#bd3786\"], [0.5555555555555556, \"#d8576b\"], [0.6666666666666666, \"#ed7953\"], [0.7777777777777778, \"#fb9f3a\"], [0.8888888888888888, \"#fdca26\"], [1.0, \"#f0f921\"]], \"type\": \"contour\"}], \"contourcarpet\": [{\"colorbar\": {\"outlinewidth\": 0, \"ticks\": \"\"}, \"type\": \"contourcarpet\"}], \"heatmap\": [{\"colorbar\": {\"outlinewidth\": 0, \"ticks\": \"\"}, \"colorscale\": [[0.0, \"#0d0887\"], [0.1111111111111111, \"#46039f\"], [0.2222222222222222, \"#7201a8\"], [0.3333333333333333, \"#9c179e\"], [0.4444444444444444, \"#bd3786\"], [0.5555555555555556, \"#d8576b\"], [0.6666666666666666, \"#ed7953\"], [0.7777777777777778, \"#fb9f3a\"], [0.8888888888888888, \"#fdca26\"], [1.0, \"#f0f921\"]], \"type\": \"heatmap\"}], \"heatmapgl\": [{\"colorbar\": {\"outlinewidth\": 0, \"ticks\": \"\"}, \"colorscale\": [[0.0, \"#0d0887\"], [0.1111111111111111, \"#46039f\"], [0.2222222222222222, \"#7201a8\"], [0.3333333333333333, \"#9c179e\"], [0.4444444444444444, \"#bd3786\"], [0.5555555555555556, \"#d8576b\"], [0.6666666666666666, \"#ed7953\"], [0.7777777777777778, \"#fb9f3a\"], [0.8888888888888888, \"#fdca26\"], [1.0, \"#f0f921\"]], \"type\": \"heatmapgl\"}], \"histogram\": [{\"marker\": {\"colorbar\": {\"outlinewidth\": 0, \"ticks\": \"\"}}, \"type\": \"histogram\"}], \"histogram2d\": [{\"colorbar\": {\"outlinewidth\": 0, \"ticks\": \"\"}, \"colorscale\": [[0.0, \"#0d0887\"], [0.1111111111111111, \"#46039f\"], [0.2222222222222222, \"#7201a8\"], [0.3333333333333333, \"#9c179e\"], [0.4444444444444444, \"#bd3786\"], [0.5555555555555556, \"#d8576b\"], [0.6666666666666666, \"#ed7953\"], [0.7777777777777778, \"#fb9f3a\"], [0.8888888888888888, \"#fdca26\"], [1.0, \"#f0f921\"]], \"type\": \"histogram2d\"}], \"histogram2dcontour\": [{\"colorbar\": {\"outlinewidth\": 0, \"ticks\": \"\"}, \"colorscale\": [[0.0, \"#0d0887\"], [0.1111111111111111, \"#46039f\"], [0.2222222222222222, \"#7201a8\"], [0.3333333333333333, \"#9c179e\"], [0.4444444444444444, \"#bd3786\"], [0.5555555555555556, \"#d8576b\"], [0.6666666666666666, \"#ed7953\"], [0.7777777777777778, \"#fb9f3a\"], [0.8888888888888888, \"#fdca26\"], [1.0, \"#f0f921\"]], \"type\": \"histogram2dcontour\"}], \"mesh3d\": [{\"colorbar\": {\"outlinewidth\": 0, \"ticks\": \"\"}, \"type\": \"mesh3d\"}], \"parcoords\": [{\"line\": {\"colorbar\": {\"outlinewidth\": 0, \"ticks\": \"\"}}, \"type\": \"parcoords\"}], \"pie\": [{\"automargin\": true, \"type\": \"pie\"}], \"scatter\": [{\"marker\": {\"colorbar\": {\"outlinewidth\": 0, \"ticks\": \"\"}}, \"type\": \"scatter\"}], \"scatter3d\": [{\"line\": {\"colorbar\": {\"outlinewidth\": 0, \"ticks\": \"\"}}, \"marker\": {\"colorbar\": {\"outlinewidth\": 0, \"ticks\": \"\"}}, \"type\": \"scatter3d\"}], \"scattercarpet\": [{\"marker\": {\"colorbar\": {\"outlinewidth\": 0, \"ticks\": \"\"}}, \"type\": \"scattercarpet\"}], \"scattergeo\": [{\"marker\": {\"colorbar\": {\"outlinewidth\": 0, \"ticks\": \"\"}}, \"type\": \"scattergeo\"}], \"scattergl\": [{\"marker\": {\"colorbar\": {\"outlinewidth\": 0, \"ticks\": \"\"}}, \"type\": \"scattergl\"}], \"scattermapbox\": [{\"marker\": {\"colorbar\": {\"outlinewidth\": 0, \"ticks\": \"\"}}, \"type\": \"scattermapbox\"}], \"scatterpolar\": [{\"marker\": {\"colorbar\": {\"outlinewidth\": 0, \"ticks\": \"\"}}, \"type\": \"scatterpolar\"}], \"scatterpolargl\": [{\"marker\": {\"colorbar\": {\"outlinewidth\": 0, \"ticks\": \"\"}}, \"type\": \"scatterpolargl\"}], \"scatterternary\": [{\"marker\": {\"colorbar\": {\"outlinewidth\": 0, \"ticks\": \"\"}}, \"type\": \"scatterternary\"}], \"surface\": [{\"colorbar\": {\"outlinewidth\": 0, \"ticks\": \"\"}, \"colorscale\": [[0.0, \"#0d0887\"], [0.1111111111111111, \"#46039f\"], [0.2222222222222222, \"#7201a8\"], [0.3333333333333333, \"#9c179e\"], [0.4444444444444444, \"#bd3786\"], [0.5555555555555556, \"#d8576b\"], [0.6666666666666666, \"#ed7953\"], [0.7777777777777778, \"#fb9f3a\"], [0.8888888888888888, \"#fdca26\"], [1.0, \"#f0f921\"]], \"type\": \"surface\"}], \"table\": [{\"cells\": {\"fill\": {\"color\": \"#EBF0F8\"}, \"line\": {\"color\": \"white\"}}, \"header\": {\"fill\": {\"color\": \"#C8D4E3\"}, \"line\": {\"color\": \"white\"}}, \"type\": \"table\"}]}, \"layout\": {\"annotationdefaults\": {\"arrowcolor\": \"#2a3f5f\", \"arrowhead\": 0, \"arrowwidth\": 1}, \"coloraxis\": {\"colorbar\": {\"outlinewidth\": 0, \"ticks\": \"\"}}, \"colorscale\": {\"diverging\": [[0, \"#8e0152\"], [0.1, \"#c51b7d\"], [0.2, \"#de77ae\"], [0.3, \"#f1b6da\"], [0.4, \"#fde0ef\"], [0.5, \"#f7f7f7\"], [0.6, \"#e6f5d0\"], [0.7, \"#b8e186\"], [0.8, \"#7fbc41\"], [0.9, \"#4d9221\"], [1, \"#276419\"]], \"sequential\": [[0.0, \"#0d0887\"], [0.1111111111111111, \"#46039f\"], [0.2222222222222222, \"#7201a8\"], [0.3333333333333333, \"#9c179e\"], [0.4444444444444444, \"#bd3786\"], [0.5555555555555556, \"#d8576b\"], [0.6666666666666666, \"#ed7953\"], [0.7777777777777778, \"#fb9f3a\"], [0.8888888888888888, \"#fdca26\"], [1.0, \"#f0f921\"]], \"sequentialminus\": [[0.0, \"#0d0887\"], [0.1111111111111111, \"#46039f\"], [0.2222222222222222, \"#7201a8\"], [0.3333333333333333, \"#9c179e\"], [0.4444444444444444, \"#bd3786\"], [0.5555555555555556, \"#d8576b\"], [0.6666666666666666, \"#ed7953\"], [0.7777777777777778, \"#fb9f3a\"], [0.8888888888888888, \"#fdca26\"], [1.0, \"#f0f921\"]]}, \"colorway\": [\"#636efa\", \"#EF553B\", \"#00cc96\", \"#ab63fa\", \"#FFA15A\", \"#19d3f3\", \"#FF6692\", \"#B6E880\", \"#FF97FF\", \"#FECB52\"], \"font\": {\"color\": \"#2a3f5f\"}, \"geo\": {\"bgcolor\": \"white\", \"lakecolor\": \"white\", \"landcolor\": \"#E5ECF6\", \"showlakes\": true, \"showland\": true, \"subunitcolor\": \"white\"}, \"hoverlabel\": {\"align\": \"left\"}, \"hovermode\": \"closest\", \"mapbox\": {\"style\": \"light\"}, \"paper_bgcolor\": \"white\", \"plot_bgcolor\": \"#E5ECF6\", \"polar\": {\"angularaxis\": {\"gridcolor\": \"white\", \"linecolor\": \"white\", \"ticks\": \"\"}, \"bgcolor\": \"#E5ECF6\", \"radialaxis\": {\"gridcolor\": \"white\", \"linecolor\": \"white\", \"ticks\": \"\"}}, \"scene\": {\"xaxis\": {\"backgroundcolor\": \"#E5ECF6\", \"gridcolor\": \"white\", \"gridwidth\": 2, \"linecolor\": \"white\", \"showbackground\": true, \"ticks\": \"\", \"zerolinecolor\": \"white\"}, \"yaxis\": {\"backgroundcolor\": \"#E5ECF6\", \"gridcolor\": \"white\", \"gridwidth\": 2, \"linecolor\": \"white\", \"showbackground\": true, \"ticks\": \"\", \"zerolinecolor\": \"white\"}, \"zaxis\": {\"backgroundcolor\": \"#E5ECF6\", \"gridcolor\": \"white\", \"gridwidth\": 2, \"linecolor\": \"white\", \"showbackground\": true, \"ticks\": \"\", \"zerolinecolor\": \"white\"}}, \"shapedefaults\": {\"line\": {\"color\": \"#2a3f5f\"}}, \"ternary\": {\"aaxis\": {\"gridcolor\": \"white\", \"linecolor\": \"white\", \"ticks\": \"\"}, \"baxis\": {\"gridcolor\": \"white\", \"linecolor\": \"white\", \"ticks\": \"\"}, \"bgcolor\": \"#E5ECF6\", \"caxis\": {\"gridcolor\": \"white\", \"linecolor\": \"white\", \"ticks\": \"\"}}, \"title\": {\"x\": 0.05}, \"xaxis\": {\"automargin\": true, \"gridcolor\": \"white\", \"linecolor\": \"white\", \"ticks\": \"\", \"title\": {\"standoff\": 15}, \"zerolinecolor\": \"white\", \"zerolinewidth\": 2}, \"yaxis\": {\"automargin\": true, \"gridcolor\": \"white\", \"linecolor\": \"white\", \"ticks\": \"\", \"title\": {\"standoff\": 15}, \"zerolinecolor\": \"white\", \"zerolinewidth\": 2}}}, \"xaxis\": {\"title\": {\"text\": \"Componente 1\"}}, \"yaxis\": {\"title\": {\"text\": \"Componente 2\"}}},\n",
              "                        {\"responsive\": true}\n",
              "                    ).then(function(){\n",
              "                            \n",
              "var gd = document.getElementById('3790a8db-7a41-4635-abde-5dfad68afbd7');\n",
              "var x = new MutationObserver(function (mutations, observer) {{\n",
              "        var display = window.getComputedStyle(gd).display;\n",
              "        if (!display || display === 'none') {{\n",
              "            console.log([gd, 'removed!']);\n",
              "            Plotly.purge(gd);\n",
              "            observer.disconnect();\n",
              "        }}\n",
              "}});\n",
              "\n",
              "// Listen for the removal of the full notebook cells\n",
              "var notebookContainer = gd.closest('#notebook-container');\n",
              "if (notebookContainer) {{\n",
              "    x.observe(notebookContainer, {childList: true});\n",
              "}}\n",
              "\n",
              "// Listen for the clearing of the current output cell\n",
              "var outputEl = gd.closest('.output');\n",
              "if (outputEl) {{\n",
              "    x.observe(outputEl, {childList: true});\n",
              "}}\n",
              "\n",
              "                        })\n",
              "                };\n",
              "                \n",
              "            </script>\n",
              "        </div>\n",
              "</body>\n",
              "</html>"
            ]
          },
          "metadata": {
            "tags": []
          }
        }
      ]
    },
    {
      "cell_type": "code",
      "metadata": {
        "colab": {
          "base_uri": "https://localhost:8080/",
          "height": 542
        },
        "id": "4W4slEFYp4bS",
        "outputId": "c0b5a442-26fd-4e25-a488-f48c2492f3b2"
      },
      "source": [
        "fig = go.Figure()\n",
        "fig.add_trace(go.Scatter(x = pcaZ['Componente_1'], y = pcaZ['Componente_2'],\n",
        "                         mode='markers', \n",
        "                         marker=dict(color=agrupador.labels_.astype(np.float)), \n",
        "                         text = labels))\n",
        "fig.update_layout(xaxis_title='Componente 1', yaxis_title='Componente 2')\n",
        "fig.show()"
      ],
      "execution_count": null,
      "outputs": [
        {
          "output_type": "display_data",
          "data": {
            "text/html": [
              "<html>\n",
              "<head><meta charset=\"utf-8\" /></head>\n",
              "<body>\n",
              "    <div>\n",
              "            <script src=\"https://cdnjs.cloudflare.com/ajax/libs/mathjax/2.7.5/MathJax.js?config=TeX-AMS-MML_SVG\"></script><script type=\"text/javascript\">if (window.MathJax) {MathJax.Hub.Config({SVG: {font: \"STIX-Web\"}});}</script>\n",
              "                <script type=\"text/javascript\">window.PlotlyConfig = {MathJaxConfig: 'local'};</script>\n",
              "        <script src=\"https://cdn.plot.ly/plotly-latest.min.js\"></script>    \n",
              "            <div id=\"de9eb734-a737-4cb6-b8af-58bcf2314555\" class=\"plotly-graph-div\" style=\"height:525px; width:100%;\"></div>\n",
              "            <script type=\"text/javascript\">\n",
              "                \n",
              "                    window.PLOTLYENV=window.PLOTLYENV || {};\n",
              "                    \n",
              "                if (document.getElementById(\"de9eb734-a737-4cb6-b8af-58bcf2314555\")) {\n",
              "                    Plotly.newPlot(\n",
              "                        'de9eb734-a737-4cb6-b8af-58bcf2314555',\n",
              "                        [{\"marker\": {\"color\": [1.0, 1.0, 0.0, 1.0, 1.0, 1.0, 1.0, 1.0, 0.0, 1.0, 0.0, 1.0, 0.0, 1.0, 0.0, 1.0, 0.0, 0.0, 1.0, 1.0, 1.0, 1.0, 1.0, 1.0, 0.0, 0.0, 0.0, 1.0, 1.0, 0.0, 1.0, 0.0, 0.0, 1.0, 1.0, 0.0, 1.0, 1.0, 0.0, 0.0, 0.0, 0.0, 1.0, 1.0, 1.0, 0.0, 1.0, 1.0, 1.0, 0.0, 0.0, 1.0, 1.0, 0.0, 1.0, 0.0, 0.0, 0.0, 1.0, 1.0, 0.0, 0.0, 1.0, 0.0, 1.0, 1.0, 1.0, 1.0, 1.0, 0.0, 1.0, 0.0, 1.0, 1.0, 0.0, 0.0, 1.0, 0.0, 1.0, 0.0, 0.0, 1.0, 1.0, 1.0, 0.0, 1.0, 1.0, 1.0, 0.0, 1.0, 1.0, 0.0, 1.0, 1.0, 0.0, 1.0, 1.0, 0.0, 1.0, 0.0, 1.0, 0.0, 1.0, 0.0, 1.0, 0.0, 0.0, 1.0, 1.0, 1.0, 0.0, 0.0, 0.0, 1.0, 1.0, 0.0, 0.0, 0.0, 1.0, 1.0, 0.0, 1.0, 1.0, 0.0, 0.0, 1.0, 1.0, 1.0, 1.0, 1.0, 1.0, 0.0, 0.0, 0.0, 1.0, 1.0, 0.0, 0.0, 0.0, 1.0, 0.0, 0.0, 1.0, 1.0, 1.0, 1.0, 1.0, 0.0, 1.0, 1.0, 0.0, 0.0, 1.0, 1.0, 0.0, 1.0, 0.0, 1.0, 1.0, 1.0, 1.0, 1.0, 1.0, 0.0, 0.0, 0.0, 1.0, 1.0, 0.0, 0.0, 0.0, 0.0, 1.0, 0.0, 0.0, 1.0, 0.0, 0.0, 1.0, 1.0, 1.0, 0.0, 0.0, 0.0, 1.0, 0.0, 0.0, 1.0, 0.0, 0.0, 1.0, 0.0, 1.0, 0.0, 1.0, 1.0, 0.0, 0.0, 0.0, 1.0, 0.0, 0.0, 1.0, 0.0, 0.0, 0.0, 0.0, 1.0, 0.0, 1.0, 0.0, 0.0, 0.0, 0.0, 1.0, 0.0, 0.0, 0.0, 1.0, 1.0, 1.0, 0.0, 0.0, 0.0, 1.0, 0.0, 1.0, 0.0, 0.0, 0.0, 1.0, 0.0, 0.0, 0.0, 0.0, 1.0, 1.0, 1.0, 1.0, 1.0, 1.0, 0.0, 0.0, 1.0, 0.0, 0.0, 0.0, 1.0, 0.0, 0.0, 0.0, 0.0, 1.0, 0.0, 0.0, 0.0, 0.0, 1.0, 0.0, 0.0, 1.0, 0.0, 1.0, 0.0, 0.0, 0.0, 0.0, 0.0, 0.0, 1.0, 0.0, 0.0, 0.0, 0.0, 1.0, 1.0, 1.0, 0.0, 1.0, 1.0, 1.0, 0.0, 1.0, 1.0, 0.0, 1.0, 1.0, 1.0, 1.0, 0.0, 0.0, 0.0, 1.0, 0.0, 0.0, 1.0, 1.0, 0.0, 0.0, 0.0, 1.0, 0.0, 0.0, 1.0, 1.0, 1.0, 1.0, 1.0, 1.0, 0.0, 1.0, 1.0, 0.0, 0.0, 0.0, 0.0, 0.0, 1.0, 1.0, 1.0, 1.0, 1.0, 1.0, 1.0, 0.0, 1.0, 1.0, 0.0, 1.0, 0.0, 0.0, 1.0, 1.0, 1.0, 1.0, 0.0, 1.0, 0.0, 0.0, 0.0, 1.0, 0.0, 1.0, 0.0, 1.0, 1.0, 1.0, 1.0, 0.0, 0.0, 1.0, 1.0, 1.0, 1.0, 0.0, 0.0, 0.0, 1.0, 0.0, 1.0, 0.0, 0.0, 0.0, 0.0, 0.0, 0.0, 1.0, 1.0, 0.0, 1.0, 0.0, 0.0, 1.0, 1.0, 1.0, 0.0, 1.0, 0.0, 1.0, 0.0, 1.0, 1.0, 0.0, 0.0, 1.0, 1.0, 1.0, 1.0, 1.0, 1.0, 0.0, 1.0, 1.0, 0.0, 1.0, 0.0, 1.0, 0.0, 1.0, 1.0, 0.0, 1.0, 0.0, 1.0, 0.0, 1.0, 0.0, 1.0, 0.0, 1.0, 0.0, 0.0, 1.0, 0.0, 0.0, 1.0, 0.0, 1.0, 0.0, 1.0, 1.0, 0.0, 1.0, 1.0, 0.0, 1.0, 0.0, 0.0, 0.0, 1.0, 1.0, 0.0, 0.0, 0.0, 1.0, 1.0, 1.0, 1.0, 1.0, 0.0, 1.0, 1.0, 1.0, 0.0, 0.0, 0.0, 1.0, 1.0, 1.0, 1.0, 0.0, 0.0, 1.0, 0.0, 0.0, 1.0, 1.0, 0.0, 1.0, 0.0, 0.0, 1.0, 0.0, 0.0, 1.0, 1.0, 1.0, 1.0, 1.0, 0.0, 0.0, 0.0, 0.0, 0.0, 1.0, 1.0, 0.0, 1.0, 0.0, 1.0, 0.0, 0.0, 0.0, 0.0, 0.0, 1.0, 0.0, 0.0, 1.0, 1.0, 1.0, 0.0, 0.0, 1.0, 1.0, 0.0, 0.0, 0.0, 1.0, 0.0, 0.0, 1.0, 0.0, 0.0, 1.0, 1.0, 0.0, 0.0, 1.0, 1.0, 0.0, 0.0, 0.0, 1.0, 1.0, 1.0, 0.0, 1.0, 1.0, 0.0, 0.0, 1.0, 0.0, 1.0, 1.0, 0.0, 0.0, 0.0, 0.0, 1.0, 1.0, 1.0, 1.0, 1.0, 1.0, 1.0, 1.0, 0.0, 0.0, 1.0, 0.0, 0.0, 0.0, 0.0, 1.0, 0.0, 1.0, 1.0, 1.0, 0.0, 1.0, 0.0, 0.0, 1.0, 1.0, 0.0, 0.0, 1.0, 1.0, 1.0, 0.0, 0.0, 1.0, 0.0, 1.0, 1.0, 0.0, 1.0, 1.0, 0.0, 1.0, 1.0, 0.0, 0.0, 1.0, 0.0, 1.0, 0.0, 1.0, 0.0, 0.0, 0.0, 1.0, 1.0, 0.0, 1.0, 0.0, 1.0, 1.0, 0.0, 1.0, 0.0, 0.0, 0.0, 1.0, 1.0, 1.0, 0.0, 1.0, 1.0, 1.0, 0.0, 0.0, 0.0, 1.0, 1.0, 1.0, 0.0, 0.0, 1.0, 1.0, 0.0, 0.0, 1.0, 0.0, 1.0, 1.0, 0.0, 1.0, 1.0, 1.0, 1.0, 0.0, 1.0, 0.0, 1.0, 1.0, 1.0, 0.0, 1.0, 1.0, 1.0, 0.0, 0.0, 1.0, 1.0, 1.0, 1.0, 1.0, 1.0, 1.0, 0.0, 1.0, 1.0, 1.0]}, \"mode\": \"markers\", \"text\": [1.0, 1.0, 0.0, 1.0, 1.0, 1.0, 1.0, 1.0, 0.0, 1.0, 0.0, 1.0, 0.0, 1.0, 0.0, 1.0, 0.0, 0.0, 1.0, 1.0, 1.0, 1.0, 1.0, 1.0, 0.0, 0.0, 0.0, 1.0, 1.0, 0.0, 1.0, 0.0, 0.0, 1.0, 1.0, 0.0, 1.0, 1.0, 0.0, 0.0, 0.0, 0.0, 1.0, 1.0, 1.0, 0.0, 1.0, 1.0, 1.0, 0.0, 0.0, 1.0, 1.0, 0.0, 1.0, 0.0, 0.0, 0.0, 1.0, 1.0, 0.0, 0.0, 1.0, 0.0, 1.0, 1.0, 1.0, 1.0, 1.0, 0.0, 1.0, 0.0, 1.0, 1.0, 0.0, 0.0, 1.0, 0.0, 1.0, 0.0, 0.0, 1.0, 1.0, 1.0, 0.0, 1.0, 1.0, 1.0, 0.0, 1.0, 1.0, 0.0, 1.0, 1.0, 0.0, 1.0, 1.0, 0.0, 1.0, 0.0, 1.0, 0.0, 1.0, 0.0, 1.0, 0.0, 0.0, 1.0, 1.0, 1.0, 0.0, 0.0, 0.0, 1.0, 1.0, 0.0, 0.0, 0.0, 1.0, 1.0, 0.0, 1.0, 1.0, 0.0, 0.0, 1.0, 1.0, 1.0, 1.0, 1.0, 1.0, 0.0, 0.0, 0.0, 1.0, 1.0, 0.0, 0.0, 0.0, 1.0, 0.0, 0.0, 1.0, 1.0, 1.0, 1.0, 1.0, 0.0, 1.0, 1.0, 0.0, 0.0, 1.0, 1.0, 0.0, 1.0, 0.0, 1.0, 1.0, 1.0, 1.0, 1.0, 1.0, 0.0, 0.0, 0.0, 1.0, 1.0, 0.0, 0.0, 0.0, 0.0, 1.0, 0.0, 0.0, 1.0, 0.0, 0.0, 1.0, 1.0, 1.0, 0.0, 0.0, 0.0, 1.0, 0.0, 0.0, 1.0, 0.0, 0.0, 1.0, 0.0, 1.0, 0.0, 1.0, 1.0, 0.0, 0.0, 0.0, 1.0, 0.0, 0.0, 1.0, 0.0, 0.0, 0.0, 0.0, 1.0, 0.0, 1.0, 0.0, 0.0, 0.0, 0.0, 1.0, 0.0, 0.0, 0.0, 1.0, 1.0, 1.0, 0.0, 0.0, 0.0, 1.0, 0.0, 1.0, 0.0, 0.0, 0.0, 1.0, 0.0, 0.0, 0.0, 0.0, 1.0, 1.0, 1.0, 1.0, 1.0, 1.0, 0.0, 0.0, 1.0, 0.0, 0.0, 0.0, 1.0, 0.0, 0.0, 0.0, 0.0, 1.0, 0.0, 0.0, 0.0, 0.0, 1.0, 0.0, 0.0, 1.0, 0.0, 1.0, 0.0, 0.0, 0.0, 0.0, 0.0, 0.0, 1.0, 0.0, 0.0, 0.0, 0.0, 1.0, 1.0, 1.0, 0.0, 1.0, 1.0, 1.0, 0.0, 1.0, 1.0, 0.0, 1.0, 1.0, 1.0, 1.0, 0.0, 0.0, 0.0, 1.0, 0.0, 0.0, 1.0, 1.0, 0.0, 0.0, 0.0, 1.0, 0.0, 0.0, 1.0, 1.0, 1.0, 1.0, 1.0, 1.0, 0.0, 1.0, 1.0, 0.0, 0.0, 0.0, 0.0, 0.0, 1.0, 1.0, 1.0, 1.0, 1.0, 1.0, 1.0, 0.0, 1.0, 1.0, 0.0, 1.0, 0.0, 0.0, 1.0, 1.0, 1.0, 1.0, 0.0, 1.0, 0.0, 0.0, 0.0, 1.0, 0.0, 1.0, 0.0, 1.0, 1.0, 1.0, 1.0, 0.0, 0.0, 1.0, 1.0, 1.0, 1.0, 0.0, 0.0, 0.0, 1.0, 0.0, 1.0, 0.0, 0.0, 0.0, 0.0, 0.0, 0.0, 1.0, 1.0, 0.0, 1.0, 0.0, 0.0, 1.0, 1.0, 1.0, 0.0, 1.0, 0.0, 1.0, 0.0, 1.0, 1.0, 0.0, 0.0, 1.0, 1.0, 1.0, 1.0, 1.0, 1.0, 0.0, 1.0, 1.0, 0.0, 1.0, 0.0, 1.0, 0.0, 1.0, 1.0, 0.0, 1.0, 0.0, 1.0, 0.0, 1.0, 0.0, 1.0, 0.0, 1.0, 0.0, 0.0, 1.0, 0.0, 0.0, 1.0, 0.0, 1.0, 0.0, 1.0, 1.0, 0.0, 1.0, 1.0, 0.0, 1.0, 0.0, 0.0, 0.0, 1.0, 1.0, 0.0, 0.0, 0.0, 1.0, 1.0, 1.0, 1.0, 1.0, 0.0, 1.0, 1.0, 1.0, 0.0, 0.0, 0.0, 1.0, 1.0, 1.0, 1.0, 0.0, 0.0, 1.0, 0.0, 0.0, 1.0, 1.0, 0.0, 1.0, 0.0, 0.0, 1.0, 0.0, 0.0, 1.0, 1.0, 1.0, 1.0, 1.0, 0.0, 0.0, 0.0, 0.0, 0.0, 1.0, 1.0, 0.0, 1.0, 0.0, 1.0, 0.0, 0.0, 0.0, 0.0, 0.0, 1.0, 0.0, 0.0, 1.0, 1.0, 1.0, 0.0, 0.0, 1.0, 1.0, 0.0, 0.0, 0.0, 1.0, 0.0, 0.0, 1.0, 0.0, 0.0, 1.0, 1.0, 0.0, 0.0, 1.0, 1.0, 0.0, 0.0, 0.0, 1.0, 1.0, 1.0, 0.0, 1.0, 1.0, 0.0, 0.0, 1.0, 0.0, 1.0, 1.0, 0.0, 0.0, 0.0, 0.0, 1.0, 1.0, 1.0, 1.0, 1.0, 1.0, 1.0, 1.0, 0.0, 0.0, 1.0, 0.0, 0.0, 0.0, 0.0, 1.0, 0.0, 1.0, 1.0, 1.0, 0.0, 1.0, 0.0, 0.0, 1.0, 1.0, 0.0, 0.0, 1.0, 1.0, 1.0, 0.0, 0.0, 1.0, 0.0, 1.0, 1.0, 0.0, 1.0, 1.0, 0.0, 1.0, 1.0, 0.0, 0.0, 1.0, 0.0, 1.0, 0.0, 1.0, 0.0, 0.0, 0.0, 1.0, 1.0, 0.0, 1.0, 0.0, 1.0, 1.0, 0.0, 1.0, 0.0, 0.0, 0.0, 1.0, 1.0, 1.0, 0.0, 1.0, 1.0, 1.0, 0.0, 0.0, 0.0, 1.0, 1.0, 1.0, 0.0, 0.0, 1.0, 1.0, 0.0, 0.0, 1.0, 0.0, 1.0, 1.0, 0.0, 1.0, 1.0, 1.0, 1.0, 0.0, 1.0, 0.0, 1.0, 1.0, 1.0, 0.0, 1.0, 1.0, 1.0, 0.0, 0.0, 1.0, 1.0, 1.0, 1.0, 1.0, 1.0, 1.0, 0.0, 1.0, 1.0, 1.0], \"type\": \"scatter\", \"x\": [0.6964012705203007, 0.18847880965869926, -0.1130607396649014, 0.3402028827083962, 0.3085407480274797, 0.18709061745794173, 1.4869663070055725, 0.1316316185945665, -0.4457630427662617, 0.11972255782164791, -0.5043670095964403, 0.12655781048478898, -0.18927841745161575, 0.18349056305908368, -0.29507362024275335, 0.1466564307458224, -0.7755322790364844, -0.33707243266227144, 0.8898411891731922, 0.11012683263576802, 0.07522965790907299, 0.6164847729142204, 0.09118438906136267, 0.5805695040341919, -0.210338695933499, -0.3790539033187639, -0.1748240834614392, 0.1926350169197349, 0.012237309741565092, -0.6470568826240071, 0.09610028066617936, -0.4932414013307115, -0.6683692391467123, 0.8575603347249524, 0.5921629700979714, -0.13624254536007416, 0.7136685242293631, 0.27338647904535146, -0.4164760963085878, -0.029690043117695762, -0.8289983500770132, -0.33926755302452916, 0.14243793556498285, 0.1573029770728408, 0.33457865702928397, -0.06465030815124477, 0.6673465358174794, 0.5227500122893279, 0.390846060875088, -0.5788069217300512, -0.3550011294749837, 0.4041240409532241, 0.3351991007836263, -1.0422183534484715, 0.3824643351643805, -0.24877577549014576, -0.6485495794067676, -0.3898717193793081, 0.36481869485373747, 0.6585416532211412, -1.4471799906570548, -1.32230326549608, 0.7946732938121877, -0.20591284932907372, 0.898519856769818, 0.19719397747710396, 0.3142600871578659, 0.7527836818462664, 0.5938524795940818, -0.010117312964203156, 0.05723045651633884, -0.11400914306377738, 0.37465524406267087, 0.5494292910587057, -0.5787850445363459, -0.3839658286149605, 0.16173519114946458, -0.47442113566497396, 0.49393593037413464, -0.15902202543914182, -1.0938949146664116, 0.17147604608041864, 0.2042293089561099, 0.09478556994163365, -0.2696564785002101, 0.8389882849515236, 0.5726565135443304, -0.0010133204175180861, -0.21500069590985507, 0.26599117836656877, 0.12003910527625561, -0.821240567584207, 0.3237235320134232, 0.06307698907570874, -0.41075511306452295, 0.05068141178864945, 0.024660924798778378, -0.2822888665731721, 0.12201233677076678, -0.22308188643070373, 0.1844194955633563, -0.8774072085693404, 0.17226857968071946, -0.6020475585590196, 0.030663692741412805, -0.18488898304887777, -0.33452717294251805, 0.9277755456109148, 0.18162375590846727, 0.22499790365047603, -0.4109603313158727, -0.49607525850190837, -0.616075461717754, 0.14537477436529456, 0.4569241077801988, -0.5900324796956208, -0.3949338355393523, -0.38542909829072647, 0.2259540418187286, 0.18184594896302742, -0.07891999842343023, -0.01269753379723293, 0.041813358244677794, -0.07847877579207052, -0.3620014061877213, 0.8259046386315213, 0.12550739117646462, 0.3895405477214095, 0.4729520805562093, 0.010590166433142228, 0.44034880980302754, -0.19001882472230414, -0.08416065506983858, -0.08561296879241936, -0.009920797555873377, 0.27240256722801276, -0.28891546046193395, -0.1422275383937523, -0.01796110896173473, 0.4064198605451867, -0.19201034594763777, -0.7275461847275749, 0.0670568310818672, 0.16493728720637746, 0.12668648723937953, 0.35856436245324436, 0.30181562023181996, -0.18422287943152799, 0.16800789045106002, 0.29489733461330875, -0.15688643303006966, -0.6870249275770659, 0.38578397906336515, 0.053616685603193694, -0.03748723628974117, 0.20038977629407514, -0.23463545110977269, 0.07732015674870393, 0.2659264311831637, 0.15545325035719446, 0.564559326894079, 0.21901192672296343, 0.03695072439307202, -0.06828846689277973, -0.9496723091703508, -0.3532779965739439, 0.06835824187603941, 0.01519875782645319, -0.2294261070747786, -0.1836113902255063, -0.08403153037802248, -0.2306087703487717, 0.5180000820048172, -0.4274222785319609, -0.03328383676056762, 0.45350869446640646, -0.20242264376757765, -0.713297810904406, 0.011184359538408172, 0.4003537942852794, 0.8468036541750911, -0.5148059626466278, -0.33012970550455073, -0.28961043505584433, 0.20294188736712612, -0.25269912087885116, -0.250801755168982, 0.515369523878314, -0.6921885618759253, -0.264637825586969, 0.23126844932933477, -0.2277986687637873, 0.3097586011995998, -0.21344283271173894, 0.0343472047281427, 0.13378480700121956, -0.3698273907192137, -0.05086486031580113, -0.25994337723350325, 0.28432137349940595, -0.05400406296141508, -1.1511294026337502, 0.042422112833998805, -0.21269083093531, -0.08633326492254378, -0.09404493354196179, -0.2659661739046636, 0.2867793421389356, -0.052235640699324445, 0.5703374396470664, -0.14488754510865695, -0.7065892868977268, -0.1487064230898864, -0.023527453273980852, 0.08720825749153104, -0.2418643931531976, -0.4063920746665232, -0.3099240185456792, 0.5955714970591063, 0.1383841138780046, 0.1337190021047036, -0.06301582869824614, -1.044231210945885, -0.2578488722455033, 0.11015495992913277, -0.35931500407976974, 0.24351567929034765, -0.48740272497399917, -0.20376814455362455, -0.07567399256890332, 0.1947217320707136, -0.11979857001758726, -0.11422233364510938, -0.49196149737859696, -0.03147864206191479, 0.7560596041202338, 0.41112247539212404, 0.6887600766997518, 0.14487408112397798, 0.22576012745709334, 0.14241970830806178, -0.13726551775602902, -0.6106073291616384, 0.1205909472025608, -0.2823792987147221, -0.9983356055871305, -0.04175266597806792, 0.42430845515700216, -0.15795444729336586, -0.36479557597046536, -0.7041957978153525, -0.3807860068796318, 0.3676799155891671, -0.326964578181115, -0.14713737684705191, -1.1579368139975583, -0.23555696077173963, 0.17304644558187202, -0.19357258425071397, -0.20272767504920272, 0.5084589175477752, -1.3133058043403651, 0.2842029900317384, -0.4255478789804671, -0.03818071206464536, -0.6182518532532703, -0.5185544704885398, -0.4938332894510419, -1.041993165218467, 0.4830197123864999, -0.32416135129326734, -0.1803400032776154, -0.49661583946420357, -0.15566175798589646, 0.5180388917206731, 0.4038784016404873, 0.3781573191386515, -0.11586586418393595, 0.5650767466237268, 0.3490091811833692, 0.13283597936221417, -0.5153895142116108, 0.7950256694126536, 0.7092087454737794, -0.09655287131852976, 0.054823408481206, 0.05761225339064802, 0.05582551488343183, 0.5996261514191782, -0.35567703015537294, -0.06774961302255804, -0.22099897000458826, 0.49984831327040247, -0.4346842621941396, -0.06016018901774688, 1.1133047822693105, 0.16511951528170818, -0.7543237952132138, -0.6459034056875411, -0.3763976804886261, 0.09851346954810712, -0.6282668237903297, -0.4763217180211724, 0.17647658295799454, 0.3446982561097477, 0.512540590749332, 0.21843720477913706, 0.6521238001417549, 0.19797953658699605, -0.08510391557476829, 0.6631592856677264, 0.0670477386683338, -0.06351012387531386, -0.09021112045502143, -0.36794940911155066, -0.28933220276202715, -0.2882495868223849, 0.30561516309548, 0.21558872845659727, 0.04371334647467213, 0.1753182820914443, 0.022378915752354026, 0.18449063639354343, -0.0014467256330581715, -0.9421952391746649, 0.19799876859483936, 0.37884577462078606, -0.34917167471998173, 0.7031154405657294, -0.10754904256785085, -0.1818153334572994, 0.4936390157508038, 0.10205274972476441, 0.29247733546714605, 0.2102541596559952, -0.13927351668099938, 0.016708060588172015, -0.06847034302628564, -0.0410896680821244, -0.8472080374523216, 0.13565511640297634, -0.47335258581473366, 0.4772773841093743, -0.201528890366309, 0.23047911498926404, 0.3162506094186971, 0.4537852062332249, 0.6987323988257023, -0.19537595826462195, -0.08024461327153083, 0.38082757399509953, 0.5083277957673531, 0.5076746482774535, 0.3268368515092056, -0.032688082460867976, -0.030898861557602075, -0.4279490301866735, 0.35204935579568175, -0.19360146394889347, 0.026026361472045692, -0.2570483751310891, -0.13149910600201806, -0.39760038214262833, -0.2720978753072939, -0.943880150865257, -0.43898221842858, 0.3317970182922458, 0.3088871650983458, -0.1604528015529746, 0.06042521351358303, -1.2412528967613885, -0.30364469884338935, 0.010045962365325532, 0.13445263139364938, 0.022103161423764575, -0.02702565662175885, -0.01008654853874121, -0.14835500110707567, 0.6159622091872915, -0.30089913482442837, 0.38159523601639306, 0.23342178245977388, -0.17773638183054388, -0.08947427023949356, 0.5633854748470383, 0.08933089904582828, 0.13520430796899283, 0.1990766499157808, 0.5759170007925459, 0.43680530613463175, -0.013630195573068157, 0.31530087176396115, 0.4144601006222318, -0.4785415669178407, 0.36041716801172424, -0.15093311622668198, -0.005228617038936164, -0.26675590735086385, 0.20074877166364508, 0.13405345453571496, -0.0956212012171024, 0.15220038213353232, -0.5040000517718594, 0.24858626931823724, -0.3189754457764044, 0.06215154558293807, -0.0442007483537002, 0.017922552247073, -0.11202264200568299, 0.10197679122319671, -0.13633892581666984, -0.1553880583405813, 1.009310011446724, -0.3167200356542391, -0.25113171319559363, 0.08450660074848461, -0.6235736508209344, 0.06263631272888037, -0.19158249791582097, 0.4015993283260902, 0.33863876958635825, -0.7921448622457113, 0.45633331315977244, 0.21152442426068382, -0.15257922554519118, -0.0062361535969987884, -0.11058667194741469, -0.3514146801715881, -0.2925103588218567, 0.2565682657336042, 0.10794671276507879, -0.2243667383023651, -0.3439849570247225, -0.108453783518635, 0.06508437668871364, 0.7196002849953386, 0.2763057641733202, 0.010018122466647756, 0.3283517791959857, -0.4573657726260872, 0.23617013516655594, 0.7331948690274593, 0.4032372381487908, -0.1604716668013047, -0.10370645143506024, -0.45454947439145227, 0.1072689134459208, 0.2952379312702205, 0.46081513563222665, 0.20184411945487177, -0.22464135811694688, -0.3748320095827625, 0.04778887032052218, -0.07877210282962503, -0.411148950987714, 0.2573046593151668, 0.2262070718818565, -0.7096176476304736, 0.3704315126511631, -0.9291239611090769, -0.09272714439307278, 0.03585129040365682, -0.2519934848250295, -0.21364784036397994, 0.15293375586693025, 0.0462230876178495, 0.8795853398754678, 0.3085046095575039, 0.05380359490626852, -0.7758356679897077, -0.05166861314616933, -0.37151688539098515, -0.5627182766938503, -0.15672790782642318, 0.08088313507953365, 0.19718810749986942, -0.77737815167209, 0.26154084224738783, -0.32880277541055514, 0.07651369436925909, -0.47391243190240134, -1.0188848926802019, -0.16501897027683607, -1.3402259806693808, -0.36141598177270007, 0.00874995833534832, -0.23922035196051963, -0.8373479181866553, 0.2932072962174933, 0.9178786397410503, 0.20270874775858155, -0.16158077663352782, -0.030533547362377712, 0.7231145090760535, 0.21843092007673745, -0.2794536464996897, -0.5008652264144536, -0.9623217486337639, 0.01550306379617478, -0.12746070056923436, -0.3604503465081956, 0.25002956081665173, -0.11984537698769902, -0.21707099406396496, 0.15611627292527688, 0.3487277191770775, -0.23482264421518342, -0.36324507619061863, 0.535657088069869, 0.48871234517316736, -0.1134222042598352, -0.413466653442438, -0.4306733563672191, 0.3169055267855635, 0.13927618748979437, 0.5361393261367682, -0.15435885200411767, 0.0968017275328286, 0.4181634700160522, -0.2054289839596085, -0.12883623902462005, 0.40762778553927026, -0.0343429308772938, 0.6734223124893178, 0.0972816644518432, -0.15110497842528012, -0.12814847823623393, -0.39141560851650015, -0.08525127942226805, 0.2052509253134922, 0.5866921606566037, 0.27183915774667305, 0.38364634854911445, 0.33174461493809326, 0.7436283552930066, 0.1428344407456502, 0.8812794261986585, -0.3266745047493034, -0.06971840134204942, 0.0030412852995630865, -0.18416121333260957, -0.2524032353094629, -0.20495013267935228, -0.1638077746263642, 1.1787403602724202, -0.3544828438357515, 0.7107951124429446, 1.6880388718071568, 0.7905330350815912, -0.13084723147996416, 0.7240363902859082, -0.18460758451472012, -0.01857587401037379, 0.31183800006114376, 0.37397594861963657, -0.5422675886095979, -0.7196797514649229, 0.47214948341712176, 0.9284438501117177, 0.6667601638942932, -0.32736857343279174, -0.4492114540874745, 0.13460528453612022, -0.547007711883871, 0.8610631659696003, 0.326011594157328, -0.4130851809456657, 0.2851333924293254, 0.23268168702687042, -0.3414792963670067, 0.20875525882268542, 0.019306628274086437, -0.4221550276983025, -0.5110552802533925, 0.5681240600651668, -0.6710571415666202, 0.4725025051337995, -0.06795564927917176, 0.4154346176342357, -0.8721599559322809, -0.1999627888363603, -0.7072731404438467, 0.0810671196266575, 0.712733942687731, -0.027094892690830607, 0.2591762561159449, -0.43213810435637606, 0.07796379540459576, 0.13063008950182156, -0.10225260149951133, 0.1320149274624732, -0.2204321664958727, -0.3963111084454206, -0.2269412121426595, 0.22917392227554897, 0.13423750976723142, 0.2514705355620039, -0.6124777977508649, 0.07802449138263041, 0.014567431758829883, 0.23608993792136473, -0.26370397655359323, -0.9692063279730216, -0.2859589206463776, 0.05130829095798447, 0.22435071597021808, 0.6987978840527901, -0.897254013523392, -0.14314649099504773, 0.04866504605286325, 0.4610668953807881, -0.3796174793532657, -0.27619353618678916, 0.2330713270071156, -0.2141894016563062, 0.24755565757777667, 0.18780309318727226, -0.1965689700350131, 0.5198663698035244, 0.34124791226557954, 0.13168193549526472, 0.043629904191469907, -0.2663673647784674, 0.013396067848266758, -0.15929314766452915, 0.01665278672345391, 0.07649762798165587, 0.1687156381116478, -0.04563783784613488, 0.27598350571756386, 0.07768808031997043, 0.9923154655863415, -0.08581189979894173, -0.21934178840527344, 0.13547674228676918, 0.3045379170172724, 0.12299155817009495, 0.11399913593221067, 1.0726990903244435, 0.09643933093548408, 0.20005179121887606, -0.12546171258667638, 0.23225116930632791, 0.7354835217592669, 0.0021090326896403186], \"y\": [-0.22343159731859386, -0.31655744294631566, 0.04006409803092652, -0.08269841612158613, -0.017357314685692724, -0.1749900234415446, -0.1406694267172742, 0.07603819981530974, 0.08626815947470158, -0.22861628229313147, -0.056748009238298015, -0.2021774785344712, -0.4719570250759702, 0.4499801483592435, -0.502946826979937, -0.003464916124175376, 0.03821426073743372, -0.07062447886515447, 0.08012500872077868, 0.16224279577871933, -0.3983944790534602, 0.01851384026725657, -0.06640686039367649, -0.014872547629420056, -0.004205040475934772, -0.01663688362417103, -0.07027190618553085, 0.027768802395453263, -0.4708275690598439, 0.29863790832778025, -0.10896322174754657, -0.13793082632772385, 0.019768833086287525, 0.03268201520820668, 0.01906621380783339, 0.9309260897565319, -0.015585273290691946, 0.33885953788491735, -0.39121029616170944, -0.2006226512480115, 0.018599913406640755, -0.0018587819451465505, 0.0911200312867433, 0.006102303624898939, 0.5779879691689443, -0.3422102561591142, 0.006832531841851253, 0.3197143783542972, -0.17656998693135376, -0.1600087239326373, 0.030868933872576488, 0.0006706963720454264, -0.144152740450638, -0.06343100010208311, -0.23720252309585402, 0.06194670786128664, -0.06378566076088162, -0.03037922415355934, -0.09875871149028294, -0.10719889212453586, 0.16787402660380848, 0.10506242174053466, 0.03923216426578078, 0.18443902355002897, 0.8527552326332456, -0.260541081386553, -0.08668898094104702, 0.06468505908819418, -0.08611212470642084, -0.040385613390851914, -0.22887841117907148, 0.6783927654730496, -0.20115693973900037, -0.022207403598543073, 0.30759185307645887, -0.09119716645890459, -0.01432763423223734, -0.07876791925076838, 0.19797203731489085, 0.12184168195857083, 0.158381347600751, -0.15469792506953092, 0.11392822937520004, -0.17197836789853418, -0.029346009718300484, 0.13559899753810234, 0.1942011736903824, -0.12274832396976515, -0.10669268473807193, 0.018873556977695077, -0.09888191256331123, 0.08269008979594576, -0.031248950696206014, -0.16765149766414855, -0.09734578704325504, 0.4178983458894839, 0.045763342323555375, -0.0933906932846549, -0.06027248782059461, -0.08021157962514944, 0.3539571477325044, -0.16062723698004241, 0.9047812210175441, 0.24121455597289831, -0.16927837405560173, -0.013953278664850704, 0.10055620472453147, 0.29156214885691367, 0.34393254901112075, 0.2427686346834541, -0.1315770372963386, 0.289374041550522, 0.26376202209777166, -0.02285672854498353, -0.3999450777146087, 0.1329808218910593, 0.05808116785518273, 0.15602925595237924, 0.13510714722168174, 0.3228968026828583, 0.28325690385066143, -0.14209344842237534, -0.11969645767584725, -0.4228997522939072, 0.13050486732459785, -0.05783722727519942, -0.04360165930006743, 0.1724464849413622, -0.10969936072846809, -0.09065416503008368, 0.026041699141128555, -0.11392434881445684, 0.04499476093802912, -0.03786016327396731, 0.04187159997142493, -0.03671831785732032, -0.23494596469345405, 0.01298247563129198, -0.08503816115901358, 0.19792738448115724, -0.15160213486197502, -0.08692119668386696, -0.1309831789646945, 0.2140323455676588, -0.3602455019467082, 0.6114434510886442, 0.061405703826161534, -0.08853734893133311, -0.200757845214068, 0.16796452841546197, 0.6962940991480465, -0.05654331105126952, -0.06406465261171777, 0.32443042346352813, -0.27699232142574454, -0.2480031454783775, 0.10341769849629437, -0.04615997273840789, -0.4654675715861483, -0.14665079356582023, -0.16375283874705238, -0.22909030760224613, 0.08754856983667796, -0.1833614217753628, 0.070474292482994, 0.09595412187774226, -0.11849883156359277, -0.21948927697350942, 0.5078054675974084, 0.49959738765193135, -0.27212189854087077, 0.2200206191350797, -0.03834455709264192, -0.039971425645403284, -0.05308652492022833, -0.14120981728803003, -0.0991966471397295, -0.02519639642718251, -0.14648764714191162, -0.36013006973011813, -0.1488554312025813, -0.27419184118160955, 0.3597353659663485, -0.35950883480618373, -0.5136910831763798, -0.16363833796344862, -0.1154118394636237, -0.015231833147644275, 0.5767733751882128, 0.47365665852522276, -0.41508927902467396, -0.3152934780545786, -0.11077577241285887, -0.043940631236522136, 0.31535885169690625, -0.25125996670346057, -0.10741067905887801, -0.16697532333531465, -0.06401666216041361, 0.004791088535068043, 0.054057296045335865, 0.04296268635990311, 0.0691365266839145, 0.09502599479590063, 0.029078707403983217, -0.32807959891113, -0.04335442363786518, -0.09513770283097044, 0.4254565311327268, 0.18172204139772927, -0.35427499534536216, 0.04226767300931941, 0.10473409188461523, 0.45147816567478405, 0.4081039929848076, -0.02150651477223692, -0.157777229463727, 0.04115265032673969, 0.11505739434852806, 0.6832254516933128, -0.04034186870446939, -0.226163446868593, 0.24782785111523944, 0.0842119877077336, -0.08160065647961934, 0.01203695717642936, -0.0465734335098096, 0.09582771076182371, -0.060184803989590814, -0.08697083625561183, 0.05505079533932622, 0.2960138558629832, 0.008732395557025771, 0.3908263785572719, 0.3442079665879914, -0.011622161889939695, 1.1253212443048728, 0.22074353706702948, -0.12677543552854256, -0.32539640068936226, -0.04423866463424714, -0.008936950508190185, 0.23028908232395684, 0.1855505343633864, -0.1487400858303821, 0.3112237001637476, 0.10798061215575294, 0.2540453571183412, -0.15005296387024178, -0.14263874465231538, 0.010805614400577918, 0.018671856091779706, -0.26886384700288607, -0.18172108784923524, 0.44556700259808507, 0.24491380180175532, 0.6371850240898327, 0.10362764360809962, 0.05508563248622162, 0.6267336453930734, -0.045696928735404464, 0.2509579285613015, -0.19422872808224947, 0.005523735928537179, 0.1939114707202004, 0.27071707643568604, 0.5388276679304604, 0.07154291278865164, 0.5142896622814347, 0.07540442416565649, 0.09102552357419531, 0.06848912119412102, 0.0009464446661490336, -0.12049846448566279, 0.14927340994841873, 0.4950028193352468, -0.08322344132493786, -0.11241530960343406, -0.03256245580306861, 0.22245736393319723, -0.006796620598228332, -0.016035222545528076, 0.6082419576048759, -0.1899732684637887, 0.026874252007718497, 0.3856670034650355, 0.08679906486400907, 0.7180644538583296, 0.05030814298521712, -0.13185472811885687, 0.06535152161647963, -0.06125293339998192, -0.07261566503836506, -0.052685356759971116, 0.030333935907251447, 0.2730920670645543, -0.06715748223070192, 0.14280772673949946, 0.589569286402911, -0.32012406059904935, -0.04359876255010684, -0.05029648756414848, 0.27116204093410345, 0.05483068783946396, 0.04610225953091376, 0.07074540811715559, 0.11189325839675777, 0.019903782031976625, 0.1309849639799126, -0.29052833641066944, 0.769430291841489, -0.11985294739381937, -0.288496875988123, 0.2584979838513094, -0.036889119565875386, -0.03821614808969013, -0.21226252987079003, 0.037472877531841454, -0.27272801724360235, -0.2580919239158071, -0.45688098675536926, 0.11699422409004427, 0.6477861172453374, -0.18249471637592843, -0.09784774478800898, -0.033089275874188036, -0.2200460851681104, -0.13169685777564688, 0.06632538905278221, -0.3233625649796817, -0.019907870096563404, 0.031119918456942473, 0.3118804888486008, -0.12456372499682773, -0.3194687096954684, -0.296535785709266, 0.0638551133753338, -0.0923158259170353, -0.4224840361445787, 0.18158817514719194, -0.018132749170436818, 0.05297287138832602, -0.02632421254004242, -0.0674120918473157, -0.07244054243627643, 0.31232822666739835, -0.0008211399650993275, 0.060028093940624694, 0.025772041314283494, 0.45518416432741515, -0.20706496917748735, -0.12198520077693395, -0.07577871800467224, -0.1409473380821252, -0.37797949622138166, 0.4995232591642131, -0.09756365026892704, -0.3345116413728974, 0.13248171050094829, -0.06782971478900567, 0.0339104884156872, -0.3416755009387735, 0.01552403537410824, 0.09937651604680102, -0.20602523271546305, 0.6241560302474594, -0.2932263968891929, -0.29456610610051337, -0.08565353464574406, -0.22248258681974298, 0.47361242953813015, -0.6361445974818188, -0.3197186632368917, 0.09657420108625232, -0.0861797847912357, -0.3041572209586273, 0.016670791187267844, -0.06913951930608526, 0.13356888816073817, 0.0830167295074181, -0.07333609323932472, -0.005304247983636224, -0.22558172340253557, -0.35641830327701224, -0.0020123442999413674, 0.0699952374974982, -0.06461011111501559, 0.17551398421388295, 0.042213312105512046, 0.4751441586206147, -0.38637576119821704, -0.2233202144914132, 0.017009073312416984, 0.05980957555357765, -0.00556662570094581, -0.0785440015139171, -0.08098496653673533, 0.19467528943316448, -0.4166918682184064, -0.16913894677723548, -0.008857462087337018, 0.004114384532092169, -0.17149304283596328, -0.07806895157969963, 0.07059767049215242, -0.28864736987117295, -0.22242441600023596, 0.07124223085976215, 0.17128299646047015, -0.4994844285047083, -0.005175247615071695, 0.21066971022788372, 0.7640626109270175, -0.1583427907486343, -0.13742009047619647, 0.0375665656835269, -0.3429537733206373, -0.5547364854875328, -0.12222274504653088, 0.027483345286097905, -0.05593537235877176, 0.22661482377468123, -0.11090393858272474, -0.005115211434686013, -0.07029746384101884, 0.4080171184131491, -0.14591466101999112, -0.026078935784347085, -0.05933917056141068, 0.24688309136252978, -0.06283200499628014, -0.2836723236236569, -0.1315337340966506, 0.03069625801161905, 0.29654108292563175, 0.13352344918903744, -0.1540806562188704, -0.05910219944407145, -0.22771974335336093, 0.49010732021164205, 0.10777789177152826, -0.0009844480939488589, -0.007866972019263752, 0.13874053461099456, 0.07547702350967386, -0.0891715173482298, 0.3163254188741332, -0.24487750178103862, 0.13001159006983495, -0.4019813270025629, 0.33391454449407637, -0.027874261951043092, -0.382153520560998, -0.4459761412039576, -0.13579746211400062, 0.06509189040699642, 0.010712905575503544, 0.1355849731170406, -0.1528047044758127, -0.021446709037485585, 0.15630346930314326, 0.27124142392214445, -0.11020731398466241, -0.15935720621935404, -0.1311362042424437, 0.060791309039843616, 0.1067655216926479, -0.10838736086173055, 0.03191181321955894, -0.2494311848251928, -0.026555602653373415, -0.004846351367374023, 0.3109206316737713, -0.05944412731542374, -0.03632098402988733, -0.07835467800338762, 0.0902864026285193, -0.051959525346266605, -0.11444735283286887, 0.2114239213869273, 0.03906891319895944, 0.15366851129186604, -0.010538548999109455, 0.17108864900795848, -0.0874320171230446, -0.16846808181167178, -0.3587595279734243, -0.07792744305072616, 0.20961977361209866, 0.1822381707219665, -0.1753896919507591, -0.09759496407836199, -0.25935364880972267, 0.03256009057313605, 0.1878625181425574, 0.4383859486314264, -0.009565721180064019, -0.03443142289483546, 0.1097079310186091, 0.10745601925861428, -0.10656063953228129, -0.24985827092273682, -0.24118644333120015, -0.2855390906883732, -0.13283427986861437, -0.11252211953312588, -0.050306938730959046, -0.0345891959623871, -0.1197215483812983, 0.1714740154400849, 0.07978825221660656, 0.2706314449603111, 0.058401222730674114, -0.12403441775724557, -0.34734221631493056, -0.0006086535981707972, 0.08684274210166158, -0.4635963162544971, -0.16354788983504534, -0.18686955373894562, 0.014277433332323907, -0.031115050765267268, -0.033762556722921264, -0.21403544111975398, 0.22193030218506005, 0.2519133613225614, -0.024098580716381043, 0.036924438567017326, -0.026249704600901643, -0.5566820340892477, -0.21766372958041594, -0.006432055888686746, -0.6011800170329925, -0.610036776394883, 0.7498029906264524, -0.08032293510590169, 0.10339477937665356, -0.2432831426297718, 0.2086934145910717, -0.022397020078254205, -0.2817010128940647, 0.042981772880246474, -0.028943172293419174, 0.023276437223998338, 0.15542325153350317, -0.18832962914035437, 0.3023379506757902, -0.02432936812554958, 0.07602547119809606, -0.4196018124085862, 0.03832609553161769, -0.3550214222819976, -0.2419518659744828, -0.5401180345941337, 0.033774689843799645, 0.07578139937937112, 0.0449184516551505, -0.08373100514782465, 0.06553493506482774, 0.3049982024942891, 0.5134244135908059, -0.1259712528366563, -0.08017951494914922, 0.01934911336421821, 0.3785515657673251, -0.10310704689950947, -0.16526261025581876, 0.39380895241106245, 0.7218104361808084, -0.20061375137912751, -0.06982133740090035, 0.2453086512483235, 0.09128733341578893, -0.18345876229793973, -0.27356072183895574, 0.081667780791241, -0.05568084852244732, 0.155167771597003, 0.14991576888497246, 0.04473628684386333, -0.012497067314778036, -0.14509739924650802, -0.1864975539758134, 0.19493655302776491, -0.12607806845273037, 0.31949028839950405, -0.04207793902196422, 0.4095495961911152, -0.2238562100792486, -0.15467008008530095, 0.3333339429513729, -0.07642418136934766, -0.0468404234571459, -0.1559802470413259, -0.14013927449463087, -0.10676815611095156, -0.08651436096398664, 0.061830808085384194, -0.06930307964075597, -0.19501124649795631, -0.12930920425133557, -0.05720960714168089, 0.1586782038703894, 0.04399321360640513, 0.17580206292957185, 0.10238973366799285, 0.23434835743161261, -0.05115434660359097, 0.07429331186801537, -0.05158947462239154, 0.08082432260843947, -0.24140215644462285, -0.19210883526122385, -0.2509352350308249, -0.14261201651880628, 0.3214067742131658, -0.32783498941711636, -0.08404069134587441, -0.1444534556399, -0.2971957764048686, -0.46277822256224205, -0.6471219774884577, 0.07570428878401657, 0.6142817342293194, -0.23092523061014236, -0.22655708317834233, -0.2867423473495693, -0.39700999835905426, -0.5121645365919503, -0.3313785858510139, -0.14161039154493885, 0.15368850284028188, 0.12129930332414937, -0.09505432489347712, -0.004817562768374226, 0.5819810729379545, 0.2767667840333049, -0.15008740104094365, 0.41535600137933154, -0.10197336415055644, 0.03556823356939951, -0.25639098686138995, 0.11877321817670819, -0.09749775903279984, -0.32422778349918213]}],\n",
              "                        {\"template\": {\"data\": {\"bar\": [{\"error_x\": {\"color\": \"#2a3f5f\"}, \"error_y\": {\"color\": \"#2a3f5f\"}, \"marker\": {\"line\": {\"color\": \"#E5ECF6\", \"width\": 0.5}}, \"type\": \"bar\"}], \"barpolar\": [{\"marker\": {\"line\": {\"color\": \"#E5ECF6\", \"width\": 0.5}}, \"type\": \"barpolar\"}], \"carpet\": [{\"aaxis\": {\"endlinecolor\": \"#2a3f5f\", \"gridcolor\": \"white\", \"linecolor\": \"white\", \"minorgridcolor\": \"white\", \"startlinecolor\": \"#2a3f5f\"}, \"baxis\": {\"endlinecolor\": \"#2a3f5f\", \"gridcolor\": \"white\", \"linecolor\": \"white\", \"minorgridcolor\": \"white\", \"startlinecolor\": \"#2a3f5f\"}, \"type\": \"carpet\"}], \"choropleth\": [{\"colorbar\": {\"outlinewidth\": 0, \"ticks\": \"\"}, \"type\": \"choropleth\"}], \"contour\": [{\"colorbar\": {\"outlinewidth\": 0, \"ticks\": \"\"}, \"colorscale\": [[0.0, \"#0d0887\"], [0.1111111111111111, \"#46039f\"], [0.2222222222222222, \"#7201a8\"], [0.3333333333333333, \"#9c179e\"], [0.4444444444444444, \"#bd3786\"], [0.5555555555555556, \"#d8576b\"], [0.6666666666666666, \"#ed7953\"], [0.7777777777777778, \"#fb9f3a\"], [0.8888888888888888, \"#fdca26\"], [1.0, \"#f0f921\"]], \"type\": \"contour\"}], \"contourcarpet\": [{\"colorbar\": {\"outlinewidth\": 0, \"ticks\": \"\"}, \"type\": \"contourcarpet\"}], \"heatmap\": [{\"colorbar\": {\"outlinewidth\": 0, \"ticks\": \"\"}, \"colorscale\": [[0.0, \"#0d0887\"], [0.1111111111111111, \"#46039f\"], [0.2222222222222222, \"#7201a8\"], [0.3333333333333333, \"#9c179e\"], [0.4444444444444444, \"#bd3786\"], [0.5555555555555556, \"#d8576b\"], [0.6666666666666666, \"#ed7953\"], [0.7777777777777778, \"#fb9f3a\"], [0.8888888888888888, \"#fdca26\"], [1.0, \"#f0f921\"]], \"type\": \"heatmap\"}], \"heatmapgl\": [{\"colorbar\": {\"outlinewidth\": 0, \"ticks\": \"\"}, \"colorscale\": [[0.0, \"#0d0887\"], [0.1111111111111111, \"#46039f\"], [0.2222222222222222, \"#7201a8\"], [0.3333333333333333, \"#9c179e\"], [0.4444444444444444, \"#bd3786\"], [0.5555555555555556, \"#d8576b\"], [0.6666666666666666, \"#ed7953\"], [0.7777777777777778, \"#fb9f3a\"], [0.8888888888888888, \"#fdca26\"], [1.0, \"#f0f921\"]], \"type\": \"heatmapgl\"}], \"histogram\": [{\"marker\": {\"colorbar\": {\"outlinewidth\": 0, \"ticks\": \"\"}}, \"type\": \"histogram\"}], \"histogram2d\": [{\"colorbar\": {\"outlinewidth\": 0, \"ticks\": \"\"}, \"colorscale\": [[0.0, \"#0d0887\"], [0.1111111111111111, \"#46039f\"], [0.2222222222222222, \"#7201a8\"], [0.3333333333333333, \"#9c179e\"], [0.4444444444444444, \"#bd3786\"], [0.5555555555555556, \"#d8576b\"], [0.6666666666666666, \"#ed7953\"], [0.7777777777777778, \"#fb9f3a\"], [0.8888888888888888, \"#fdca26\"], [1.0, \"#f0f921\"]], \"type\": \"histogram2d\"}], \"histogram2dcontour\": [{\"colorbar\": {\"outlinewidth\": 0, \"ticks\": \"\"}, \"colorscale\": [[0.0, \"#0d0887\"], [0.1111111111111111, \"#46039f\"], [0.2222222222222222, \"#7201a8\"], [0.3333333333333333, \"#9c179e\"], [0.4444444444444444, \"#bd3786\"], [0.5555555555555556, \"#d8576b\"], [0.6666666666666666, \"#ed7953\"], [0.7777777777777778, \"#fb9f3a\"], [0.8888888888888888, \"#fdca26\"], [1.0, \"#f0f921\"]], \"type\": \"histogram2dcontour\"}], \"mesh3d\": [{\"colorbar\": {\"outlinewidth\": 0, \"ticks\": \"\"}, \"type\": \"mesh3d\"}], \"parcoords\": [{\"line\": {\"colorbar\": {\"outlinewidth\": 0, \"ticks\": \"\"}}, \"type\": \"parcoords\"}], \"pie\": [{\"automargin\": true, \"type\": \"pie\"}], \"scatter\": [{\"marker\": {\"colorbar\": {\"outlinewidth\": 0, \"ticks\": \"\"}}, \"type\": \"scatter\"}], \"scatter3d\": [{\"line\": {\"colorbar\": {\"outlinewidth\": 0, \"ticks\": \"\"}}, \"marker\": {\"colorbar\": {\"outlinewidth\": 0, \"ticks\": \"\"}}, \"type\": \"scatter3d\"}], \"scattercarpet\": [{\"marker\": {\"colorbar\": {\"outlinewidth\": 0, \"ticks\": \"\"}}, \"type\": \"scattercarpet\"}], \"scattergeo\": [{\"marker\": {\"colorbar\": {\"outlinewidth\": 0, \"ticks\": \"\"}}, \"type\": \"scattergeo\"}], \"scattergl\": [{\"marker\": {\"colorbar\": {\"outlinewidth\": 0, \"ticks\": \"\"}}, \"type\": \"scattergl\"}], \"scattermapbox\": [{\"marker\": {\"colorbar\": {\"outlinewidth\": 0, \"ticks\": \"\"}}, \"type\": \"scattermapbox\"}], \"scatterpolar\": [{\"marker\": {\"colorbar\": {\"outlinewidth\": 0, \"ticks\": \"\"}}, \"type\": \"scatterpolar\"}], \"scatterpolargl\": [{\"marker\": {\"colorbar\": {\"outlinewidth\": 0, \"ticks\": \"\"}}, \"type\": \"scatterpolargl\"}], \"scatterternary\": [{\"marker\": {\"colorbar\": {\"outlinewidth\": 0, \"ticks\": \"\"}}, \"type\": \"scatterternary\"}], \"surface\": [{\"colorbar\": {\"outlinewidth\": 0, \"ticks\": \"\"}, \"colorscale\": [[0.0, \"#0d0887\"], [0.1111111111111111, \"#46039f\"], [0.2222222222222222, \"#7201a8\"], [0.3333333333333333, \"#9c179e\"], [0.4444444444444444, \"#bd3786\"], [0.5555555555555556, \"#d8576b\"], [0.6666666666666666, \"#ed7953\"], [0.7777777777777778, \"#fb9f3a\"], [0.8888888888888888, \"#fdca26\"], [1.0, \"#f0f921\"]], \"type\": \"surface\"}], \"table\": [{\"cells\": {\"fill\": {\"color\": \"#EBF0F8\"}, \"line\": {\"color\": \"white\"}}, \"header\": {\"fill\": {\"color\": \"#C8D4E3\"}, \"line\": {\"color\": \"white\"}}, \"type\": \"table\"}]}, \"layout\": {\"annotationdefaults\": {\"arrowcolor\": \"#2a3f5f\", \"arrowhead\": 0, \"arrowwidth\": 1}, \"coloraxis\": {\"colorbar\": {\"outlinewidth\": 0, \"ticks\": \"\"}}, \"colorscale\": {\"diverging\": [[0, \"#8e0152\"], [0.1, \"#c51b7d\"], [0.2, \"#de77ae\"], [0.3, \"#f1b6da\"], [0.4, \"#fde0ef\"], [0.5, \"#f7f7f7\"], [0.6, \"#e6f5d0\"], [0.7, \"#b8e186\"], [0.8, \"#7fbc41\"], [0.9, \"#4d9221\"], [1, \"#276419\"]], \"sequential\": [[0.0, \"#0d0887\"], [0.1111111111111111, \"#46039f\"], [0.2222222222222222, \"#7201a8\"], [0.3333333333333333, \"#9c179e\"], [0.4444444444444444, \"#bd3786\"], [0.5555555555555556, \"#d8576b\"], [0.6666666666666666, \"#ed7953\"], [0.7777777777777778, \"#fb9f3a\"], [0.8888888888888888, \"#fdca26\"], [1.0, \"#f0f921\"]], \"sequentialminus\": [[0.0, \"#0d0887\"], [0.1111111111111111, \"#46039f\"], [0.2222222222222222, \"#7201a8\"], [0.3333333333333333, \"#9c179e\"], [0.4444444444444444, \"#bd3786\"], [0.5555555555555556, \"#d8576b\"], [0.6666666666666666, \"#ed7953\"], [0.7777777777777778, \"#fb9f3a\"], [0.8888888888888888, \"#fdca26\"], [1.0, \"#f0f921\"]]}, \"colorway\": [\"#636efa\", \"#EF553B\", \"#00cc96\", \"#ab63fa\", \"#FFA15A\", \"#19d3f3\", \"#FF6692\", \"#B6E880\", \"#FF97FF\", \"#FECB52\"], \"font\": {\"color\": \"#2a3f5f\"}, \"geo\": {\"bgcolor\": \"white\", \"lakecolor\": \"white\", \"landcolor\": \"#E5ECF6\", \"showlakes\": true, \"showland\": true, \"subunitcolor\": \"white\"}, \"hoverlabel\": {\"align\": \"left\"}, \"hovermode\": \"closest\", \"mapbox\": {\"style\": \"light\"}, \"paper_bgcolor\": \"white\", \"plot_bgcolor\": \"#E5ECF6\", \"polar\": {\"angularaxis\": {\"gridcolor\": \"white\", \"linecolor\": \"white\", \"ticks\": \"\"}, \"bgcolor\": \"#E5ECF6\", \"radialaxis\": {\"gridcolor\": \"white\", \"linecolor\": \"white\", \"ticks\": \"\"}}, \"scene\": {\"xaxis\": {\"backgroundcolor\": \"#E5ECF6\", \"gridcolor\": \"white\", \"gridwidth\": 2, \"linecolor\": \"white\", \"showbackground\": true, \"ticks\": \"\", \"zerolinecolor\": \"white\"}, \"yaxis\": {\"backgroundcolor\": \"#E5ECF6\", \"gridcolor\": \"white\", \"gridwidth\": 2, \"linecolor\": \"white\", \"showbackground\": true, \"ticks\": \"\", \"zerolinecolor\": \"white\"}, \"zaxis\": {\"backgroundcolor\": \"#E5ECF6\", \"gridcolor\": \"white\", \"gridwidth\": 2, \"linecolor\": \"white\", \"showbackground\": true, \"ticks\": \"\", \"zerolinecolor\": \"white\"}}, \"shapedefaults\": {\"line\": {\"color\": \"#2a3f5f\"}}, \"ternary\": {\"aaxis\": {\"gridcolor\": \"white\", \"linecolor\": \"white\", \"ticks\": \"\"}, \"baxis\": {\"gridcolor\": \"white\", \"linecolor\": \"white\", \"ticks\": \"\"}, \"bgcolor\": \"#E5ECF6\", \"caxis\": {\"gridcolor\": \"white\", \"linecolor\": \"white\", \"ticks\": \"\"}}, \"title\": {\"x\": 0.05}, \"xaxis\": {\"automargin\": true, \"gridcolor\": \"white\", \"linecolor\": \"white\", \"ticks\": \"\", \"title\": {\"standoff\": 15}, \"zerolinecolor\": \"white\", \"zerolinewidth\": 2}, \"yaxis\": {\"automargin\": true, \"gridcolor\": \"white\", \"linecolor\": \"white\", \"ticks\": \"\", \"title\": {\"standoff\": 15}, \"zerolinecolor\": \"white\", \"zerolinewidth\": 2}}}, \"xaxis\": {\"title\": {\"text\": \"Componente 1\"}}, \"yaxis\": {\"title\": {\"text\": \"Componente 2\"}}},\n",
              "                        {\"responsive\": true}\n",
              "                    ).then(function(){\n",
              "                            \n",
              "var gd = document.getElementById('de9eb734-a737-4cb6-b8af-58bcf2314555');\n",
              "var x = new MutationObserver(function (mutations, observer) {{\n",
              "        var display = window.getComputedStyle(gd).display;\n",
              "        if (!display || display === 'none') {{\n",
              "            console.log([gd, 'removed!']);\n",
              "            Plotly.purge(gd);\n",
              "            observer.disconnect();\n",
              "        }}\n",
              "}});\n",
              "\n",
              "// Listen for the removal of the full notebook cells\n",
              "var notebookContainer = gd.closest('#notebook-container');\n",
              "if (notebookContainer) {{\n",
              "    x.observe(notebookContainer, {childList: true});\n",
              "}}\n",
              "\n",
              "// Listen for the clearing of the current output cell\n",
              "var outputEl = gd.closest('.output');\n",
              "if (outputEl) {{\n",
              "    x.observe(outputEl, {childList: true});\n",
              "}}\n",
              "\n",
              "                        })\n",
              "                };\n",
              "                \n",
              "            </script>\n",
              "        </div>\n",
              "</body>\n",
              "</html>"
            ]
          },
          "metadata": {
            "tags": []
          }
        }
      ]
    },
    {
      "cell_type": "code",
      "metadata": {
        "colab": {
          "base_uri": "https://localhost:8080/",
          "height": 414
        },
        "id": "Kx9bAQy7hPa7",
        "outputId": "01204594-e545-4571-92d8-74fed33cff45"
      },
      "source": [
        "# três componentes\n",
        "pca_model = PCA(n_components=3)\n",
        "pcaZ = pca_model.fit_transform(X_Normal_df)\n",
        "pcaZ = pd.DataFrame(pcaZ, columns=['Componente_1', 'Componente_2', 'Componente_3'])\n",
        "pcaZ"
      ],
      "execution_count": null,
      "outputs": [
        {
          "output_type": "execute_result",
          "data": {
            "text/html": [
              "<div>\n",
              "<style scoped>\n",
              "    .dataframe tbody tr th:only-of-type {\n",
              "        vertical-align: middle;\n",
              "    }\n",
              "\n",
              "    .dataframe tbody tr th {\n",
              "        vertical-align: top;\n",
              "    }\n",
              "\n",
              "    .dataframe thead th {\n",
              "        text-align: right;\n",
              "    }\n",
              "</style>\n",
              "<table border=\"1\" class=\"dataframe\">\n",
              "  <thead>\n",
              "    <tr style=\"text-align: right;\">\n",
              "      <th></th>\n",
              "      <th>Componente_1</th>\n",
              "      <th>Componente_2</th>\n",
              "      <th>Componente_3</th>\n",
              "    </tr>\n",
              "  </thead>\n",
              "  <tbody>\n",
              "    <tr>\n",
              "      <th>0</th>\n",
              "      <td>0.696401</td>\n",
              "      <td>-0.223432</td>\n",
              "      <td>-0.223683</td>\n",
              "    </tr>\n",
              "    <tr>\n",
              "      <th>1</th>\n",
              "      <td>0.188479</td>\n",
              "      <td>-0.316557</td>\n",
              "      <td>-0.034200</td>\n",
              "    </tr>\n",
              "    <tr>\n",
              "      <th>2</th>\n",
              "      <td>-0.113061</td>\n",
              "      <td>0.040064</td>\n",
              "      <td>0.076774</td>\n",
              "    </tr>\n",
              "    <tr>\n",
              "      <th>3</th>\n",
              "      <td>0.340203</td>\n",
              "      <td>-0.082698</td>\n",
              "      <td>-0.238671</td>\n",
              "    </tr>\n",
              "    <tr>\n",
              "      <th>4</th>\n",
              "      <td>0.308541</td>\n",
              "      <td>-0.017357</td>\n",
              "      <td>-0.096160</td>\n",
              "    </tr>\n",
              "    <tr>\n",
              "      <th>...</th>\n",
              "      <td>...</td>\n",
              "      <td>...</td>\n",
              "      <td>...</td>\n",
              "    </tr>\n",
              "    <tr>\n",
              "      <th>640</th>\n",
              "      <td>0.200052</td>\n",
              "      <td>0.035568</td>\n",
              "      <td>0.422839</td>\n",
              "    </tr>\n",
              "    <tr>\n",
              "      <th>641</th>\n",
              "      <td>-0.125462</td>\n",
              "      <td>-0.256391</td>\n",
              "      <td>0.200579</td>\n",
              "    </tr>\n",
              "    <tr>\n",
              "      <th>642</th>\n",
              "      <td>0.232251</td>\n",
              "      <td>0.118773</td>\n",
              "      <td>-0.003674</td>\n",
              "    </tr>\n",
              "    <tr>\n",
              "      <th>643</th>\n",
              "      <td>0.735484</td>\n",
              "      <td>-0.097498</td>\n",
              "      <td>-0.156957</td>\n",
              "    </tr>\n",
              "    <tr>\n",
              "      <th>644</th>\n",
              "      <td>0.002109</td>\n",
              "      <td>-0.324228</td>\n",
              "      <td>0.212964</td>\n",
              "    </tr>\n",
              "  </tbody>\n",
              "</table>\n",
              "<p>645 rows × 3 columns</p>\n",
              "</div>"
            ],
            "text/plain": [
              "     Componente_1  Componente_2  Componente_3\n",
              "0        0.696401     -0.223432     -0.223683\n",
              "1        0.188479     -0.316557     -0.034200\n",
              "2       -0.113061      0.040064      0.076774\n",
              "3        0.340203     -0.082698     -0.238671\n",
              "4        0.308541     -0.017357     -0.096160\n",
              "..            ...           ...           ...\n",
              "640      0.200052      0.035568      0.422839\n",
              "641     -0.125462     -0.256391      0.200579\n",
              "642      0.232251      0.118773     -0.003674\n",
              "643      0.735484     -0.097498     -0.156957\n",
              "644      0.002109     -0.324228      0.212964\n",
              "\n",
              "[645 rows x 3 columns]"
            ]
          },
          "metadata": {
            "tags": []
          },
          "execution_count": 31
        }
      ]
    },
    {
      "cell_type": "code",
      "metadata": {
        "colab": {
          "base_uri": "https://localhost:8080/",
          "height": 373
        },
        "id": "JnNwB34PhXXr",
        "outputId": "0663333d-12a7-4355-93f3-4d489278033c"
      },
      "source": [
        "perfil_autovalores = pca_model.explained_variance_ratio_\n",
        "plt.stem(perfil_autovalores)\n",
        "plt.ylabel(\"Explicação (%)\")"
      ],
      "execution_count": null,
      "outputs": [
        {
          "output_type": "stream",
          "text": [
            "/usr/local/lib/python3.7/dist-packages/ipykernel_launcher.py:2: UserWarning:\n",
            "\n",
            "In Matplotlib 3.3 individual lines on a stem plot will be added as a LineCollection instead of individual lines. This significantly improves the performance of a stem plot. To remove this warning and switch to the new behaviour, set the \"use_line_collection\" keyword argument to True.\n",
            "\n"
          ],
          "name": "stderr"
        },
        {
          "output_type": "execute_result",
          "data": {
            "text/plain": [
              "Text(0, 0.5, 'Explicação (%)')"
            ]
          },
          "metadata": {
            "tags": []
          },
          "execution_count": 32
        },
        {
          "output_type": "display_data",
          "data": {
            "image/png": "[encoded data removed]",
            "text/plain": [
              "<Figure size 432x288 with 1 Axes>"
            ]
          },
          "metadata": {
            "tags": [],
            "needs_background": "light"
          }
        }
      ]
    },
    {
      "cell_type": "code",
      "metadata": {
        "colab": {
          "base_uri": "https://localhost:8080/",
          "height": 542
        },
        "id": "NPvdTv26hdq1",
        "outputId": "7f7825cf-f121-4791-c8e4-9ff2e5aa730e"
      },
      "source": [
        "fig = go.Figure()\n",
        "fig.add_trace(go.Scatter3d(x = pcaZ['Componente_1'], y = pcaZ['Componente_2'], z = pcaZ['Componente_3'], \n",
        "                           mode = 'markers',\n",
        "                           marker = dict(color = labels.astype(np.float)),\n",
        "                           text = localidades))\n",
        "fig.update_layout(scene=dict(xaxis_title='Componente 1', yaxis_title='Componente 2', zaxis_title='Componente 3'))\n",
        "fig.show()"
      ],
      "execution_count": null,
      "outputs": [
        {
          "output_type": "display_data",
          "data": {
            "text/html": [
              "<html>\n",
              "<head><meta charset=\"utf-8\" /></head>\n",
              "<body>\n",
              "    <div>\n",
              "            <script src=\"https://cdnjs.cloudflare.com/ajax/libs/mathjax/2.7.5/MathJax.js?config=TeX-AMS-MML_SVG\"></script><script type=\"text/javascript\">if (window.MathJax) {MathJax.Hub.Config({SVG: {font: \"STIX-Web\"}});}</script>\n",
              "                <script type=\"text/javascript\">window.PlotlyConfig = {MathJaxConfig: 'local'};</script>\n",
              "        <script src=\"https://cdn.plot.ly/plotly-latest.min.js\"></script>    \n",
              "            <div id=\"c25594f4-38d8-4125-8032-2bcc562ecbf1\" class=\"plotly-graph-div\" style=\"height:525px; width:100%;\"></div>\n",
              "            <script type=\"text/javascript\">\n",
              "                \n",
              "                    window.PLOTLYENV=window.PLOTLYENV || {};\n",
              "                    \n",
              "                if (document.getElementById(\"c25594f4-38d8-4125-8032-2bcc562ecbf1\")) {\n",
              "                    Plotly.newPlot(\n",
              "                        'c25594f4-38d8-4125-8032-2bcc562ecbf1',\n",
              "                        [{\"marker\": {\"color\": [1.0, 1.0, 0.0, 1.0, 1.0, 1.0, 1.0, 1.0, 0.0, 1.0, 0.0, 1.0, 0.0, 1.0, 0.0, 1.0, 0.0, 0.0, 1.0, 1.0, 1.0, 1.0, 1.0, 1.0, 0.0, 0.0, 0.0, 1.0, 1.0, 0.0, 1.0, 0.0, 0.0, 1.0, 1.0, 0.0, 1.0, 1.0, 0.0, 0.0, 0.0, 0.0, 1.0, 1.0, 1.0, 0.0, 1.0, 1.0, 1.0, 0.0, 0.0, 1.0, 1.0, 0.0, 1.0, 0.0, 0.0, 0.0, 1.0, 1.0, 0.0, 0.0, 1.0, 0.0, 1.0, 1.0, 1.0, 1.0, 1.0, 0.0, 1.0, 0.0, 1.0, 1.0, 0.0, 0.0, 1.0, 0.0, 1.0, 0.0, 0.0, 1.0, 1.0, 1.0, 0.0, 1.0, 1.0, 1.0, 0.0, 1.0, 1.0, 0.0, 1.0, 1.0, 0.0, 1.0, 1.0, 0.0, 1.0, 0.0, 1.0, 0.0, 1.0, 0.0, 1.0, 0.0, 0.0, 1.0, 1.0, 1.0, 0.0, 0.0, 0.0, 1.0, 1.0, 0.0, 0.0, 0.0, 1.0, 1.0, 0.0, 1.0, 1.0, 0.0, 0.0, 1.0, 1.0, 1.0, 1.0, 1.0, 1.0, 0.0, 0.0, 0.0, 1.0, 1.0, 0.0, 0.0, 0.0, 1.0, 0.0, 0.0, 1.0, 1.0, 1.0, 1.0, 1.0, 0.0, 1.0, 1.0, 0.0, 0.0, 1.0, 1.0, 0.0, 1.0, 0.0, 1.0, 1.0, 1.0, 1.0, 1.0, 1.0, 0.0, 0.0, 0.0, 1.0, 1.0, 0.0, 0.0, 0.0, 0.0, 1.0, 0.0, 0.0, 1.0, 0.0, 0.0, 1.0, 1.0, 1.0, 0.0, 0.0, 0.0, 1.0, 0.0, 0.0, 1.0, 0.0, 0.0, 1.0, 0.0, 1.0, 0.0, 1.0, 1.0, 0.0, 0.0, 0.0, 1.0, 0.0, 0.0, 1.0, 0.0, 0.0, 0.0, 0.0, 1.0, 0.0, 1.0, 0.0, 0.0, 0.0, 0.0, 1.0, 0.0, 0.0, 0.0, 1.0, 1.0, 1.0, 0.0, 0.0, 0.0, 1.0, 0.0, 1.0, 0.0, 0.0, 0.0, 1.0, 0.0, 0.0, 0.0, 0.0, 1.0, 1.0, 1.0, 1.0, 1.0, 1.0, 0.0, 0.0, 1.0, 0.0, 0.0, 0.0, 1.0, 0.0, 0.0, 0.0, 0.0, 1.0, 0.0, 0.0, 0.0, 0.0, 1.0, 0.0, 0.0, 1.0, 0.0, 1.0, 0.0, 0.0, 0.0, 0.0, 0.0, 0.0, 1.0, 0.0, 0.0, 0.0, 0.0, 1.0, 1.0, 1.0, 0.0, 1.0, 1.0, 1.0, 0.0, 1.0, 1.0, 0.0, 1.0, 1.0, 1.0, 1.0, 0.0, 0.0, 0.0, 1.0, 0.0, 0.0, 1.0, 1.0, 0.0, 0.0, 0.0, 1.0, 0.0, 0.0, 1.0, 1.0, 1.0, 1.0, 1.0, 1.0, 0.0, 1.0, 1.0, 0.0, 0.0, 0.0, 0.0, 0.0, 1.0, 1.0, 1.0, 1.0, 1.0, 1.0, 1.0, 0.0, 1.0, 1.0, 0.0, 1.0, 0.0, 0.0, 1.0, 1.0, 1.0, 1.0, 0.0, 1.0, 0.0, 0.0, 0.0, 1.0, 0.0, 1.0, 0.0, 1.0, 1.0, 1.0, 1.0, 0.0, 0.0, 1.0, 1.0, 1.0, 1.0, 0.0, 0.0, 0.0, 1.0, 0.0, 1.0, 0.0, 0.0, 0.0, 0.0, 0.0, 0.0, 1.0, 1.0, 0.0, 1.0, 0.0, 0.0, 1.0, 1.0, 1.0, 0.0, 1.0, 0.0, 1.0, 0.0, 1.0, 1.0, 0.0, 0.0, 1.0, 1.0, 1.0, 1.0, 1.0, 1.0, 0.0, 1.0, 1.0, 0.0, 1.0, 0.0, 1.0, 0.0, 1.0, 1.0, 0.0, 1.0, 0.0, 1.0, 0.0, 1.0, 0.0, 1.0, 0.0, 1.0, 0.0, 0.0, 1.0, 0.0, 0.0, 1.0, 0.0, 1.0, 0.0, 1.0, 1.0, 0.0, 1.0, 1.0, 0.0, 1.0, 0.0, 0.0, 0.0, 1.0, 1.0, 0.0, 0.0, 0.0, 1.0, 1.0, 1.0, 1.0, 1.0, 0.0, 1.0, 1.0, 1.0, 0.0, 0.0, 0.0, 1.0, 1.0, 1.0, 1.0, 0.0, 0.0, 1.0, 0.0, 0.0, 1.0, 1.0, 0.0, 1.0, 0.0, 0.0, 1.0, 0.0, 0.0, 1.0, 1.0, 1.0, 1.0, 1.0, 0.0, 0.0, 0.0, 0.0, 0.0, 1.0, 1.0, 0.0, 1.0, 0.0, 1.0, 0.0, 0.0, 0.0, 0.0, 0.0, 1.0, 0.0, 0.0, 1.0, 1.0, 1.0, 0.0, 0.0, 1.0, 1.0, 0.0, 0.0, 0.0, 1.0, 0.0, 0.0, 1.0, 0.0, 0.0, 1.0, 1.0, 0.0, 0.0, 1.0, 1.0, 0.0, 0.0, 0.0, 1.0, 1.0, 1.0, 0.0, 1.0, 1.0, 0.0, 0.0, 1.0, 0.0, 1.0, 1.0, 0.0, 0.0, 0.0, 0.0, 1.0, 1.0, 1.0, 1.0, 1.0, 1.0, 1.0, 1.0, 0.0, 0.0, 1.0, 0.0, 0.0, 0.0, 0.0, 1.0, 0.0, 1.0, 1.0, 1.0, 0.0, 1.0, 0.0, 0.0, 1.0, 1.0, 0.0, 0.0, 1.0, 1.0, 1.0, 0.0, 0.0, 1.0, 0.0, 1.0, 1.0, 0.0, 1.0, 1.0, 0.0, 1.0, 1.0, 0.0, 0.0, 1.0, 0.0, 1.0, 0.0, 1.0, 0.0, 0.0, 0.0, 1.0, 1.0, 0.0, 1.0, 0.0, 1.0, 1.0, 0.0, 1.0, 0.0, 0.0, 0.0, 1.0, 1.0, 1.0, 0.0, 1.0, 1.0, 1.0, 0.0, 0.0, 0.0, 1.0, 1.0, 1.0, 0.0, 0.0, 1.0, 1.0, 0.0, 0.0, 1.0, 0.0, 1.0, 1.0, 0.0, 1.0, 1.0, 1.0, 1.0, 0.0, 1.0, 0.0, 1.0, 1.0, 1.0, 0.0, 1.0, 1.0, 1.0, 0.0, 0.0, 1.0, 1.0, 1.0, 1.0, 1.0, 1.0, 1.0, 0.0, 1.0, 1.0, 1.0]}, \"mode\": \"markers\", \"text\": [\"Adamantina\", \"Adolfo\", \"Agua\\u00ed\", \"\\u00c1guas da Prata\", \"\\u00c1guas de Lind\\u00f3ia\", \"\\u00c1guas de Santa B\\u00e1rbara\", \"\\u00c1guas de S\\u00e3o Pedro\", \"Agudos\", \"Alambari\", \"Alfredo Marcondes\", \"Altair\", \"Altin\\u00f3polis\", \"Alto Alegre\", \"Alum\\u00ednio\", \"\\u00c1lvares Florence\", \"\\u00c1lvares Machado\", \"\\u00c1lvaro de Carvalho\", \"Alvinl\\u00e2ndia\", \"Americana\", \"Am\\u00e9rico Brasiliense\", \"Am\\u00e9rico de Campos\", \"Amparo\", \"Anal\\u00e2ndia\", \"Andradina\", \"Angatuba\", \"Anhembi\", \"Anhumas\", \"Aparecida\", \"Aparecida d'Oeste\", \"Apia\\u00ed\", \"Aramina\", \"Arandu\", \"Arape\\u00ed\", \"Araraquara\", \"Araras\", \"Ara\\u00e7ariguama\", \"Ara\\u00e7atuba\", \"Ara\\u00e7oiaba da Serra\", \"Arco\\u00cdris\", \"Arealva\", \"Areias\", \"Arei\\u00f3polis\", \"Ariranha\", \"Artur Nogueira\", \"Aruj\\u00e1\", \"Asp\\u00e1sia\", \"Assis\", \"Atibaia\", \"Auriflama\", \"Ava\\u00ed\", \"Avanhandava\", \"Avar\\u00e9\", \"Bady Bassitt\", \"Balbinos\", \"B\\u00e1lsamo\", \"Bananal\", \"Bar\\u00e3o de Antonina\", \"Barbosa\", \"Bariri\", \"Barra Bonita\", \"Barra do Chap\\u00e9u\", \"Barra do Turvo\", \"Barretos\", \"Barrinha\", \"Barueri\", \"Bastos\", \"Batatais\", \"Bauru\", \"Bebedouro\", \"Bento de Abreu\", \"Bernardino de Campos\", \"Bertioga\", \"Bilac\", \"Birigui\", \"Biritiba Mirim\", \"Boa Esperan\\u00e7a do Sul\", \"Bocaina\", \"Bofete\", \"Boituva\", \"Bom Jesus dos Perd\\u00f5es\", \"Bom Sucesso de Itarar\\u00e9\", \"Bor\\u00e1\", \"Borac\\u00e9ia\", \"Borborema\", \"Borebi\", \"Botucatu\", \"Bragan\\u00e7a Paulista\", \"Bra\\u00fana\", \"Brejo Alegre\", \"Brodowski\", \"Brotas\", \"Buri\", \"Buritama\", \"Buritizal\", \"Cabr\\u00e1lia Paulista\", \"Cabre\\u00fava\", \"Cachoeira Paulista\", \"Caconde\", \"Cafel\\u00e2ndia\", \"Caiabu\", \"Caieiras\", \"Caiu\\u00e1\", \"Cajamar\", \"Cajati\", \"Cajobi\", \"Cajuru\", \"Campina do Monte Alegre\", \"Campinas\", \"Campo Limpo Paulista\", \"Campos do Jord\\u00e3o\", \"Campos Novos Paulista\", \"Canan\\u00e9ia\", \"Canas\", \"C\\u00e2ndido Mota\", \"C\\u00e2ndido Rodrigues\", \"Canitar\", \"Cap\\u00e3o Bonito\", \"Capela do Alto\", \"Capivari\", \"Caraguatatuba\", \"Carapicu\\u00edba\", \"Cardoso\", \"Casa Branca\", \"C\\u00e1ssia dos Coqueiros\", \"Castilho\", \"Catanduva\", \"Catigu\\u00e1\", \"Ca\\u00e7apava\", \"Cedral\", \"Cerqueira C\\u00e9sar\", \"Cerquilho\", \"Ces\\u00e1rio Lange\", \"Charqueada\", \"Chavantes\", \"Clementina\", \"Colina\", \"Col\\u00f4mbia\", \"Conchal\", \"Conchas\", \"Cordeir\\u00f3polis\", \"Coroados\", \"Coronel Macedo\", \"Corumbata\\u00ed\", \"Cosm\\u00f3polis\", \"Cosmorama\", \"Cotia\", \"Cravinhos\", \"Cristais Paulista\", \"Cruz\\u00e1lia\", \"Cruzeiro\", \"Cubat\\u00e3o\", \"Cunha\", \"Descalvado\", \"Diadema\", \"Dirce Reis\", \"Divinol\\u00e2ndia\", \"Dobrada\", \"Dois C\\u00f3rregos\", \"Dolcin\\u00f3polis\", \"Dourado\", \"Dracena\", \"Duartina\", \"Dumont\", \"Echapor\\u00e3\", \"Eldorado\", \"Elias Fausto\", \"Elisi\\u00e1rio\", \"Emba\\u00faba\", \"Embu das Artes\", \"EmbuGua\\u00e7u\", \"Emilian\\u00f3polis\", \"Engenheiro Coelho\", \"Esp\\u00edrito Santo do Pinhal\", \"Esp\\u00edrito Santo do Turvo\", \"Estiva Gerbi\", \"Estrela d'Oeste\", \"Estrela do Norte\", \"Euclides da Cunha Paulista\", \"Fartura\", \"Fernando Prestes\", \"Fernand\\u00f3polis\", \"Fern\\u00e3o\", \"Ferraz de Vasconcelos\", \"Flora Rica\", \"Floreal\", \"Fl\\u00f3rida Paulista\", \"Flor\\u00ednea\", \"Franca\", \"Francisco Morato\", \"Franco da Rocha\", \"Gabriel Monteiro\", \"G\\u00e1lia\", \"Gar\\u00e7a\", \"Gast\\u00e3o Vidigal\", \"Gavi\\u00e3o Peixoto\", \"General Salgado\", \"Getulina\", \"Glic\\u00e9rio\", \"Guaimb\\u00ea\", \"Gua\\u00edra\", \"Guai\\u00e7ara\", \"Guapiara\", \"Guapia\\u00e7u\", \"Guar\\u00e1\", \"Guaraci\", \"Guarani d'Oeste\", \"Guarant\\u00e3\", \"Guararapes\", \"Guararema\", \"Guaratinguet\\u00e1\", \"Guara\\u00e7a\\u00ed\", \"Guare\\u00ed\", \"Guariba\", \"Guaruj\\u00e1\", \"Guarulhos\", \"Guatapar\\u00e1\", \"Guzol\\u00e2ndia\", \"Hercul\\u00e2ndia\", \"Holambra\", \"Hortol\\u00e2ndia\", \"Iacanga\", \"Iacri\", \"Iaras\", \"Ibat\\u00e9\", \"Ibir\\u00e1\", \"Ibirarema\", \"Ibitinga\", \"Ibi\\u00fana\", \"Ic\\u00e9m\", \"Iep\\u00ea\", \"Igarapava\", \"Igarat\\u00e1\", \"Igara\\u00e7u do Tiet\\u00ea\", \"Iguape\", \"Ilha Comprida\", \"Ilha Solteira\", \"Ilhabela\", \"Indaiatuba\", \"Indiana\", \"Indiapor\\u00e3\", \"In\\u00fabia Paulista\", \"Ipaussu\", \"Iper\\u00f3\", \"Ipe\\u00fana\", \"Ipigu\\u00e1\", \"Iporanga\", \"Ipu\\u00e3\", \"Iracem\\u00e1polis\", \"Irapu\\u00e3\", \"Irapuru\", \"Itaber\\u00e1\", \"Ita\\u00ed\", \"Itajobi\", \"Itaju\", \"Itanha\\u00e9m\", \"Itaoca\", \"Itapecerica da Serra\", \"Itapetininga\", \"Itapeva\", \"Itapevi\", \"Itapira\", \"Itapirapu\\u00e3 Paulista\", \"It\\u00e1polis\", \"Itaporanga\", \"Itapu\\u00ed\", \"Itapura\", \"Itaquaquecetuba\", \"Itarar\\u00e9\", \"Itariri\", \"Itatiba\", \"Itatinga\", \"Itirapina\", \"Itirapu\\u00e3\", \"Itobi\", \"Itu\", \"Itupeva\", \"Ituverava\", \"Jaborandi\", \"Jaboticabal\", \"Jacare\\u00ed\", \"Jaci\", \"Jacupiranga\", \"Jaguari\\u00fana\", \"Jales\", \"Jambeiro\", \"Jandira\", \"Jardin\\u00f3polis\", \"Jarinu\", \"Ja\\u00fa\", \"Jeriquara\", \"Joan\\u00f3polis\", \"Jo\\u00e3o Ramalho\", \"Jos\\u00e9 Bonif\\u00e1cio\", \"J\\u00falio Mesquita\", \"Jumirim\", \"Jundia\\u00ed\", \"Junqueir\\u00f3polis\", \"Juqui\\u00e1\", \"Juquitiba\", \"Lagoinha\", \"Laranjal Paulista\", \"Lav\\u00ednia\", \"Lavrinhas\", \"Leme\", \"Len\\u00e7\\u00f3is Paulista\", \"Limeira\", \"Lind\\u00f3ia\", \"Lins\", \"Lorena\", \"Lourdes\", \"Louveira\", \"Luc\\u00e9lia\", \"Lucian\\u00f3polis\", \"Lu\\u00eds Ant\\u00f4nio\", \"Luizi\\u00e2nia\", \"Lup\\u00e9rcio\", \"Lut\\u00e9cia\", \"Macatuba\", \"Macaubal\", \"Maced\\u00f4nia\", \"Magda\", \"Mairinque\", \"Mairipor\\u00e3\", \"Manduri\", \"Marab\\u00e1 Paulista\", \"Maraca\\u00ed\", \"Marapoama\", \"Mari\\u00e1polis\", \"Mar\\u00edlia\", \"Marin\\u00f3polis\", \"Martin\\u00f3polis\", \"Mat\\u00e3o\", \"Mau\\u00e1\", \"Mendon\\u00e7a\", \"Meridiano\", \"Mes\\u00f3polis\", \"Miguel\\u00f3polis\", \"Mineiros do Tiet\\u00ea\", \"Mira Estrela\", \"Miracatu\", \"Mirand\\u00f3polis\", \"Mirante do Paranapanema\", \"Mirassol\", \"Mirassol\\u00e2ndia\", \"Mococa\", \"Mogi das Cruzes\", \"Mogi Gua\\u00e7u\", \"Mogi Mirim\", \"Mombuca\", \"Mongagu\\u00e1\", \"Monte Alegre do Sul\", \"Monte Alto\", \"Monte Apraz\\u00edvel\", \"Monte Azul Paulista\", \"Monte Castelo\", \"Monte Mor\", \"Monteiro Lobato\", \"Mon\\u00e7\\u00f5es\", \"Morro Agudo\", \"Morungaba\", \"Motuca\", \"Murutinga do Sul\", \"Nantes\", \"Narandiba\", \"Natividade da Serra\", \"Nazar\\u00e9 Paulista\", \"Neves Paulista\", \"Nhandeara\", \"Nipo\\u00e3\", \"Nova Alian\\u00e7a\", \"Nova Campina\", \"Nova Cana\\u00e3 Paulista\", \"Nova Castilho\", \"Nova Europa\", \"Nova Granada\", \"Nova Guataporanga\", \"Nova Independ\\u00eancia\", \"Nova Luzit\\u00e2nia\", \"Nova Odessa\", \"Novais\", \"Novo Horizonte\", \"Nuporanga\", \"Ocau\\u00e7u\", \"\\u00d3leo\", \"Ol\\u00edmpia\", \"Onda Verde\", \"Oriente\", \"Orindi\\u00fava\", \"Orl\\u00e2ndia\", \"Osasco\", \"Oscar Bressane\", \"Osvaldo Cruz\", \"Ourinhos\", \"Ouro Verde\", \"Ouroeste\", \"Pacaembu\", \"Palestina\", \"Palmares Paulista\", \"Palmeira d'Oeste\", \"Palmital\", \"Panorama\", \"Paragua\\u00e7u Paulista\", \"Paraibuna\", \"Para\\u00edso\", \"Paranapanema\", \"Paranapu\\u00e3\", \"Parapu\\u00e3\", \"Pardinho\", \"PariqueraA\\u00e7u\", \"Parisi\", \"Patroc\\u00ednio Paulista\", \"Paulic\\u00e9ia\", \"Paul\\u00ednia\", \"Paulist\\u00e2nia\", \"Paulo de Faria\", \"Pederneiras\", \"Pedra Bela\", \"Pedran\\u00f3polis\", \"Pedregulho\", \"Pedreira\", \"Pedrinhas Paulista\", \"Pedro de Toledo\", \"Pen\\u00e1polis\", \"Pereira Barreto\", \"Pereiras\", \"Peru\\u00edbe\", \"Piacatu\", \"Piedade\", \"Pilar do Sul\", \"Pindamonhangaba\", \"Pindorama\", \"Pinhalzinho\", \"Piquerobi\", \"Piquete\", \"Piracaia\", \"Piracicaba\", \"Piraju\", \"Piraju\\u00ed\", \"Pirangi\", \"Pirapora do Bom Jesus\", \"Pirapozinho\", \"Pirassununga\", \"Piratininga\", \"Pitangueiras\", \"Planalto\", \"Platina\", \"Po\\u00e1\", \"Poloni\", \"Pomp\\u00e9ia\", \"Ponga\\u00ed\", \"Pontal\", \"Pontalinda\", \"Pontes Gestal\", \"Populina\", \"Porangaba\", \"Porto Feliz\", \"Porto Ferreira\", \"Potim\", \"Potirendaba\", \"Pracinha\", \"Prad\\u00f3polis\", \"Praia Grande\", \"Prat\\u00e2nia\", \"Presidente Alves\", \"Presidente Bernardes\", \"Presidente Epit\\u00e1cio\", \"Presidente Prudente\", \"Presidente Venceslau\", \"Promiss\\u00e3o\", \"Quadra\", \"Quat\\u00e1\", \"Queiroz\", \"Queluz\", \"Quintana\", \"Rafard\", \"Rancharia\", \"Reden\\u00e7\\u00e3o da Serra\", \"Regente Feij\\u00f3\", \"Regin\\u00f3polis\", \"Registro\", \"Restinga\", \"Ribeira\", \"Ribeir\\u00e3o Bonito\", \"Ribeir\\u00e3o Branco\", \"Ribeir\\u00e3o Corrente\", \"Ribeir\\u00e3o do Sul\", \"Ribeir\\u00e3o dos \\u00cdndios\", \"Ribeir\\u00e3o Grande\", \"Ribeir\\u00e3o Pires\", \"Ribeir\\u00e3o Preto\", \"Rifaina\", \"Rinc\\u00e3o\", \"Rin\\u00f3polis\", \"Rio Claro\", \"Rio das Pedras\", \"Rio Grande da Serra\", \"Riol\\u00e2ndia\", \"Riversul\", \"Rosana\", \"Roseira\", \"Rubi\\u00e1cea\", \"Rubin\\u00e9ia\", \"Sabino\", \"Sagres\", \"Sales\", \"Sales Oliveira\", \"Sales\\u00f3polis\", \"Salmour\\u00e3o\", \"Saltinho\", \"Salto\", \"Salto de Pirapora\", \"Salto Grande\", \"Sandovalina\", \"Santa Ad\\u00e9lia\", \"Santa Albertina\", \"Santa B\\u00e1rbara d'Oeste\", \"Santa Branca\", \"Santa Clara d'Oeste\", \"Santa Cruz da Concei\\u00e7\\u00e3o\", \"Santa Cruz da Esperan\\u00e7a\", \"Santa Cruz das Palmeiras\", \"Santa Cruz do Rio Pardo\", \"Santa Ernestina\", \"Santa F\\u00e9 do Sul\", \"Santa Gertrudes\", \"Santa Isabel\", \"Santa L\\u00facia\", \"Santa Maria da Serra\", \"Santa Mercedes\", \"Santa Rita d'Oeste\", \"Santa Rita do Passa Quatro\", \"Santa Rosa de Viterbo\", \"Santa Salete\", \"Santana da Ponte Pensa\", \"Santana de Parna\\u00edba\", \"Santo Anast\\u00e1cio\", \"Santo Andr\\u00e9\", \"Santo Ant\\u00f4nio da Alegria\", \"Santo Ant\\u00f4nio de Posse\", \"Santo Ant\\u00f4nio do Aracangu\\u00e1\", \"Santo Ant\\u00f4nio do Jardim\", \"Santo Ant\\u00f4nio do Pinhal\", \"Santo Expedito\", \"Sant\\u00f3polis do Aguape\\u00ed\", \"Santos\", \"S\\u00e3o Bento do Sapuca\\u00ed\", \"S\\u00e3o Bernardo do Campo\", \"S\\u00e3o Caetano do Sul\", \"S\\u00e3o Carlos\", \"S\\u00e3o Francisco\", \"S\\u00e3o Jo\\u00e3o da Boa Vista\", \"S\\u00e3o Jo\\u00e3o das Duas Pontes\", \"S\\u00e3o Jo\\u00e3o de Iracema\", \"S\\u00e3o Jo\\u00e3o do Pau d'Alho\", \"S\\u00e3o Joaquim da Barra\", \"S\\u00e3o Jos\\u00e9 da Bela Vista\", \"S\\u00e3o Jos\\u00e9 do Barreiro\", \"S\\u00e3o Jos\\u00e9 do Rio Pardo\", \"S\\u00e3o Jos\\u00e9 do Rio Preto\", \"S\\u00e3o Jos\\u00e9 dos Campos\", \"S\\u00e3o Louren\\u00e7o da Serra\", \"S\\u00e3o Luiz do Paraitinga\", \"S\\u00e3o Manuel\", \"S\\u00e3o Miguel Arcanjo\", \"S\\u00e3o Paulo\", \"S\\u00e3o Pedro\", \"S\\u00e3o Pedro do Turvo\", \"S\\u00e3o Roque\", \"S\\u00e3o Sebasti\\u00e3o\", \"S\\u00e3o Sebasti\\u00e3o da Grama\", \"S\\u00e3o Sim\\u00e3o\", \"S\\u00e3o Vicente\", \"Sarapu\\u00ed\", \"Sarutai\\u00e1\", \"Sebastian\\u00f3polis do Sul\", \"Serra Azul\", \"Serra Negra\", \"Serrana\", \"Sert\\u00e3ozinho\", \"Sete Barras\", \"Sever\\u00ednia\", \"Silveiras\", \"Socorro\", \"Sorocaba\", \"Sud Mennucci\", \"Sumar\\u00e9\", \"Suzan\\u00e1polis\", \"Suzano\", \"Tabapu\\u00e3\", \"Tabatinga\", \"Tabo\\u00e3o da Serra\", \"Taciba\", \"Tagua\\u00ed\", \"Taia\\u00e7u\", \"Tai\\u00fava\", \"Tamba\\u00fa\", \"Tanabi\", \"Tapira\\u00ed\", \"Tapiratiba\", \"Taquaral\", \"Taquaritinga\", \"Taquarituba\", \"Taquariva\\u00ed\", \"Tarabai\", \"Tarum\\u00e3\", \"Tatu\\u00ed\", \"Taubat\\u00e9\", \"Tejup\\u00e1\", \"Teodoro Sampaio\", \"Terra Roxa\", \"Tiet\\u00ea\", \"Timburi\", \"Torre de Pedra\", \"Torrinha\", \"Trabiju\", \"Trememb\\u00e9\", \"Tr\\u00eas Fronteiras\", \"Tuiuti\", \"Tup\\u00e3\", \"Tupi Paulista\", \"Turi\\u00faba\", \"Turmalina\", \"Ubarana\", \"Ubatuba\", \"Ubirajara\", \"Uchoa\", \"Uni\\u00e3o Paulista\", \"Ur\\u00e2nia\", \"Uru\", \"Urup\\u00eas\", \"Valentim Gentil\", \"Valinhos\", \"Valpara\\u00edso\", \"Vargem\", \"Vargem Grande do Sul\", \"Vargem Grande Paulista\", \"V\\u00e1rzea Paulista\", \"Vera Cruz\", \"Vinhedo\", \"Viradouro\", \"Vista Alegre do Alto\", \"Vit\\u00f3ria Brasil\", \"Votorantim\", \"Votuporanga\", \"Zacarias\"], \"type\": \"scatter3d\", \"x\": [0.6964012705493964, 0.18847880965234987, -0.11306073969865303, 0.3402028826836121, 0.3085407480260216, 0.1870906174944934, 1.4869663069870305, 0.13163161859665118, -0.4457630427625476, 0.11972255778840839, -0.504367009623245, 0.12655781048002246, -0.18927841744230592, 0.18349056298917724, -0.29507362023667927, 0.14665643074099877, -0.7755322790535327, -0.33707243267223924, 0.889841189178871, 0.11012683267901638, 0.07522965790671497, 0.6164847729268792, 0.09118438906704503, 0.5805695040285415, -0.21033869591232665, -0.37905390331940697, -0.17482408343747668, 0.19263501693010487, 0.01223730972976965, -0.6470568826100067, 0.096100280654317, -0.493241401340096, -0.6683692391637681, 0.8575603347329227, 0.5921629700976374, -0.13624254539631933, 0.7136685242309501, 0.27338647909368413, -0.4164760962839525, -0.02969004310524015, -0.828998350071937, -0.3392675530523549, 0.14243793551087983, 0.15730297709022, 0.3345786570393417, -0.06465030816544623, 0.6673465358341477, 0.522750012285084, 0.3908460608931795, -0.5788069216543795, -0.3550011295023984, 0.4041240409660991, 0.33519910077945053, -1.0422183534514209, 0.38246433511817707, -0.24877577550899818, -0.6485495794029621, -0.38987171941407783, 0.3648186948327998, 0.6585416532275573, -1.4471799906307798, -1.322303265557206, 0.7946732937891053, -0.2059128493376255, 0.8985198567556474, 0.19719397758472448, 0.31426008714835896, 0.7527836818467648, 0.5938524796008723, -0.010117312952856413, 0.05723045651292287, -0.1140091430532576, 0.3746552440956201, 0.549429291081414, -0.5787850445088746, -0.38396582863381146, 0.16173519113678142, -0.47442113568252126, 0.49393593041885014, -0.15902202544481275, -1.0938949146641397, 0.171476046110777, 0.204229308921689, 0.09478556994058968, -0.2696564784847963, 0.838988284909166, 0.5726565135302312, -0.0010133204485252437, -0.21500069595269997, 0.2659911783583164, 0.12003910529880074, -0.8212405675804139, 0.32372353200873816, 0.06307698903472049, -0.41075511307022716, 0.05068141179893835, 0.024660924786698197, -0.2822888665675458, 0.12201233676571858, -0.22308188643253674, 0.1844194955703105, -0.8774072085745647, 0.1722685796674782, -0.6020475585641559, 0.030663692736423897, -0.18488898303417575, -0.33452717295878814, 0.9277755455610168, 0.18162375591699048, 0.22499790369347655, -0.4109603313142513, -0.49607525853217127, -0.616075461725026, 0.14537477436321838, 0.4569241078172185, -0.59003247971548, -0.39493383552096145, -0.38542909827139904, 0.22595404183170698, 0.18184594896427703, -0.07891999842152216, -0.012697533830438963, 0.04181335831524881, -0.07847877568172912, -0.3620014061755951, 0.8259046386326085, 0.1255073911700962, 0.38954054773040137, 0.4729520805664861, 0.010590166445753661, 0.44034880982330515, -0.19001882471024173, -0.08416065506066091, -0.08561296881283985, -0.009920797583806177, 0.2724025672304638, -0.2889154603748182, -0.14222753838675634, -0.01796110895252211, 0.4064198605384914, -0.1920103459622105, -0.7275461847417586, 0.06705683110073658, 0.1649372872211432, 0.12668648719929398, 0.3585643624565591, 0.3018156202259465, -0.18422287941691123, 0.16800789050952794, 0.2948973345911001, -0.15688643306512295, -0.6870249275994378, 0.3857839790573367, 0.05361668560902959, -0.037487236328577735, 0.20038977638282543, -0.23463545112293774, 0.07732015673290873, 0.26592643117850817, 0.15545325034562785, 0.5645593268986107, 0.21901192672465847, 0.03695072440007781, -0.0682884669079048, -0.9496723091577414, -0.3532779966055615, 0.06835824185730122, 0.015198757795128618, -0.22942610708054414, -0.18361139020170242, -0.08403153041086371, -0.23060877032850025, 0.5180000820610542, -0.4274222785365749, -0.03328383675708848, 0.45350869451927095, -0.20242264373592217, -0.7132978108754113, 0.011184359535606894, 0.40035379428688195, 0.8468036541523174, -0.5148059626237446, -0.3301297054993437, -0.2896104350480599, 0.20294188733571747, -0.252699120871327, -0.2508017551695852, 0.51536952390446, -0.6921885618854815, -0.26463782558683396, 0.231268449351482, -0.22779866876570665, 0.309758601239629, -0.21344283273245063, 0.03434720466654789, 0.1337848070113243, -0.3698273907066181, -0.05086486034324941, -0.25994337723533234, 0.28432137348667724, -0.054004062978358885, -1.1511294026190417, 0.04242211279103536, -0.21269083094551036, -0.0863332649105965, -0.09404493355064474, -0.26596617390544647, 0.28677934215537726, -0.0522356406940164, 0.5703374396255406, -0.14488754508554688, -0.7065892869110219, -0.14870642309185, -0.023527453289780335, 0.08720825749036938, -0.2418643931244708, -0.4063920746927312, -0.3099240184717485, 0.595571497141111, 0.13838411386206972, 0.13371900212149063, -0.06301582871157708, -1.0442312109495546, -0.2578488722581982, 0.11015495991064886, -0.3593150041070801, 0.24351567929636597, -0.48740272493093334, -0.20376814456386408, -0.07567399255088972, 0.19472173205086343, -0.11979857000894764, -0.11422233364992626, -0.49196149741768963, -0.03147864210107869, 0.7560596041289229, 0.41112247541413627, 0.6887600767098673, 0.14487408113936706, 0.22576012746845625, 0.14241970833756212, -0.13726551776895227, -0.6106073291409597, 0.12059094721270103, -0.2823792987349023, -0.9983356055887255, -0.04175266595090414, 0.42430845515239285, -0.15795444730402028, -0.36479557601835777, -0.7041957978049345, -0.38078600685816255, 0.36767991558571134, -0.32696457820748065, -0.14713737684798844, -1.1579368140299515, -0.2355569607434678, 0.1730464455910749, -0.1935725842191694, -0.2027276750606498, 0.5084589175869616, -1.3133058043462327, 0.28420299002912436, -0.4255478789783083, -0.03818071205685526, -0.6182518532383178, -0.5185544704894436, -0.4938332894509278, -1.041993165232949, 0.4830197123962946, -0.3241613513005169, -0.1803400032531077, -0.49661583947383986, -0.1556617580092639, 0.5180388917310302, 0.4038784016685841, 0.37815731912235795, -0.1158658642025879, 0.5650767466141355, 0.34900918117902774, 0.13283597955888538, -0.5153895141976033, 0.7950256694186627, 0.709208745463299, -0.09655287133089023, 0.05482340847793873, 0.05761225337118967, 0.055825514914870616, 0.5996261514268472, -0.35567703012718155, -0.06774961303695044, -0.2209989699437594, 0.4998483132921184, -0.4346842622084714, -0.060160188998647925, 1.1133047822482538, 0.16511951525804244, -0.7543237952209985, -0.6459034056542775, -0.3763976805186761, 0.09851346953415156, -0.6282668237630035, -0.47632171799660256, 0.17647658295260937, 0.34469825612375077, 0.512540590736672, 0.21843720476562514, 0.6521238001563353, 0.19797953655693565, -0.08510391559636811, 0.6631592856700703, 0.06704773868299807, -0.06351012386827865, -0.09021112044790809, -0.36794940914821284, -0.28933220278526295, -0.2882495867987866, 0.30561516310547293, 0.21558872843991372, 0.043713346424314105, 0.17531828209673567, 0.022378915764648656, 0.1844906364341571, -0.001446725619422637, -0.9421952391619128, 0.1979987686370569, 0.3788457746487311, -0.3491716747394577, 0.7031154405614077, -0.10754904258874239, -0.1818153334665793, 0.49363901575943603, 0.102052749728362, 0.2924773354327393, 0.21025415961342897, -0.13927351666975557, 0.016708060625458678, -0.06847034304534669, -0.04108966807513863, -0.8472080374318031, 0.1356551164027114, -0.47335258583621276, 0.4772773840850108, -0.20152889033513477, 0.23047911497841891, 0.31625060942322614, 0.45378520624465174, 0.6987323988161425, -0.19537595825287415, -0.08024461328687459, 0.3808275739047257, 0.5083277957668804, 0.5076746482738942, 0.32683685152206854, -0.032688082474247065, -0.030898861573776665, -0.4279490301753047, 0.3520493557695627, -0.19360146395555267, 0.026026361494821088, -0.2570483751025367, -0.13149910605435114, -0.3976003821120061, -0.2720978752903463, -0.9438801509447121, -0.4389822184515278, 0.33179701825916535, 0.30888716509349196, -0.16045280154216401, 0.06042521350438942, -1.2412528967842644, -0.3036446988883982, 0.010045962435304286, 0.1344526313977255, 0.022103161430756448, -0.02702565666943654, -0.010086548515314351, -0.1483550010974506, 0.6159622092180326, -0.3008991348151699, 0.381595236006852, 0.23342178247782702, -0.17773638182082174, -0.08947427025122283, 0.5633854748512271, 0.08933089903955949, 0.13520430794440108, 0.19907664994480076, 0.5759170007948717, 0.4368053061217077, -0.013630195564555138, 0.3153008717625259, 0.41446010061699906, -0.47854156695195527, 0.3604171680282273, -0.15093311623140568, -0.005228617074314184, -0.26675590735139987, 0.20074877167205746, 0.13405345452496417, -0.09562120121987706, 0.1522003821602908, -0.504000051766583, 0.24858626928597732, -0.318975445746581, 0.06215154558813126, -0.044200748341313954, 0.01792255225939246, -0.11202264200052173, 0.10197679122294777, -0.13633892578727838, -0.15538805832218944, 1.0093100114008617, -0.31672003564561435, -0.25113171316366767, 0.08450660074615753, -0.623573650833513, 0.06263631272827824, -0.19158249789173948, 0.4015993283565498, 0.33863876959649303, -0.7921448622501372, 0.4563333131580659, 0.2115244242767885, -0.1525792255531915, -0.006236153612786646, -0.11058667194423016, -0.35141468014866434, -0.29251035882070703, 0.25656826572229996, 0.10794671270631748, -0.22436673828834938, -0.34398495703944376, -0.10845378356091924, 0.06508437668156118, 0.7196002849695343, 0.27630576417942077, 0.010018122493626576, 0.3283517791980844, -0.4573657726026645, 0.23617013517435095, 0.7331948690165506, 0.4032372381525435, -0.1604716668142428, -0.10370645149125875, -0.4545494743838051, 0.10726891345841122, 0.29523793126001363, 0.4608151356189046, 0.20184411943380068, -0.22464135814115452, -0.3748320096053889, 0.047788870363285926, -0.07877210285110656, -0.41114895100258364, 0.25730465933382435, 0.22620707189667544, -0.7096176476277166, 0.370431512624606, -0.9291239610857334, -0.09272714443882293, 0.035851290383384235, -0.25199348478188127, -0.21364784037296067, 0.15293375585594762, 0.046223087641339394, 0.8795853398691935, 0.3085046095573945, 0.05380359489912348, -0.7758356680002637, -0.05166861313965234, -0.3715168853063848, -0.5627182766680627, -0.1567279078259052, 0.08088313508059847, 0.19718810752172758, -0.7773781517027067, 0.2615408422582879, -0.32880277540467145, 0.07651369439046886, -0.47391243189663673, -1.0188848926857328, -0.16501897028348908, -1.3402259806611412, -0.361415981743875, 0.008749958321328967, -0.2392203519891553, -0.8373479181608484, 0.2932072962229998, 0.9178786397056612, 0.20270874777602513, -0.16158077663807183, -0.030533547381626454, 0.723114509089571, 0.21843092007140433, -0.27945364647647547, -0.5008652263966186, -0.962321748682787, 0.015503063796579205, -0.12746070053569883, -0.3604503464871476, 0.250029560837075, -0.11984537699900775, -0.21707099407675737, 0.15611627293133848, 0.34872771919661216, -0.23482264417693663, -0.36324507622048635, 0.5356570880793604, 0.48871234518623036, -0.1134222042734067, -0.4134666534593847, -0.4306733563288366, 0.31690552679567935, 0.1392761874245959, 0.5361393261478665, -0.1543588520112959, 0.09680172754961931, 0.4181634699985955, -0.20542898395009274, -0.12883623904231986, 0.4076277855310192, -0.03434293087147978, 0.6734223124990469, 0.09728166443821647, -0.15110497839473627, -0.12814847822943023, -0.3914156085201692, -0.08525127940884221, 0.20525092530645525, 0.5866921606971026, 0.2718391577586895, 0.38364634857576874, 0.33174461491424956, 0.7436283552814297, 0.14283444073920054, 0.8812794261904022, -0.326674504747996, -0.06971840135785526, 0.0030412853523493137, -0.1841612133415981, -0.25240323529629005, -0.20495013268652412, -0.1638077746140178, 1.1787403601939055, -0.3544828438250486, 0.7107951124361629, 1.688038871785535, 0.7905330350819714, -0.13084723150483168, 0.7240363902987731, -0.18460758452694656, -0.018575873996342505, 0.31183800003195133, 0.3739759486064813, -0.5422675886357621, -0.7196797515092731, 0.4721494834070024, 0.9284438500888201, 0.6667601638775411, -0.32736857338740805, -0.4492114541077783, 0.13460528453697274, -0.5470077118555582, 0.8610631659200924, 0.32601159416763537, -0.4130851809494088, 0.28513339241611496, 0.2326816870368945, -0.34147929638086805, 0.20875525885327173, 0.01930662825334887, -0.4221550276947361, -0.5110552802681799, 0.5681240600876739, -0.6710571415868463, 0.47250250512397435, -0.06795564927067992, 0.41543461762024847, -0.8721599559366116, -0.19996278887060792, -0.7072731404783817, 0.08106711962049222, 0.712733942680573, -0.027094892654495495, 0.2591762561069493, -0.43213810437365846, 0.07796379541129385, 0.13063008950265934, -0.1022526015044705, 0.1320149274660787, -0.22043216649022276, -0.39631110842195466, -0.22694121217389876, 0.22917392224731198, 0.1342375097404371, 0.2514705355478853, -0.6124777977671291, 0.07802449137289233, 0.01456743173872178, 0.23608993792116623, -0.2637039765649288, -0.969206327919841, -0.2859589206396364, 0.05130829096802172, 0.22435071596592354, 0.6987978840336375, -0.8972540135504361, -0.1431464909645371, 0.048665046070027106, 0.4610668953858512, -0.3796174793888037, -0.2761935361869968, 0.23307132700795746, -0.21418940163259878, 0.24755565754762016, 0.18780309318248778, -0.19656897006044402, 0.5198663698308829, 0.3412479122504777, 0.13168193547572585, 0.04362990418060012, -0.26636736480016293, 0.013396067872672673, -0.15929314767077898, 0.016652786683670255, 0.07649762802696124, 0.1687156381200747, -0.045637837866088514, 0.2759835057337091, 0.07768808032799643, 0.9923154655780639, -0.08581189981049658, -0.2193417884235272, 0.13547674226865367, 0.30453791701747285, 0.12299155818241887, 0.11399913593456597, 1.072699090313891, 0.09643933095799859, 0.20005179120747452, -0.12546171258540212, 0.23225116932340864, 0.735483521767118, 0.0021090327086137057], \"y\": [-0.2234316601790285, -0.3165574030423903, 0.04006413192827539, -0.08269842312350775, -0.017357329883617083, -0.17499003743346578, -0.14066945344812265, 0.07603821147372959, 0.08626817743447358, -0.2286162685837227, -0.056747965344188155, -0.20217745743092888, -0.4719570425175733, 0.4499801704951627, -0.5029468391105544, -0.003464913756416405, 0.038214267829751666, -0.0706244377854891, 0.08012499762925965, 0.16224278696156835, -0.3983944778221754, 0.01851382159693222, -0.06640686458448053, -0.014872560637856658, -0.004205068466567559, -0.01663686330858125, -0.07027192503831411, 0.027768786322367588, -0.47082754514156966, 0.29863789318501643, -0.10896321156528405, -0.13793087494192582, 0.019768826567070238, 0.03268203551481581, 0.019066239930726557, 0.9309260800469986, -0.01558528536792924, 0.3388594609263228, -0.39121034459030496, -0.20062269769912922, 0.01859992581234261, -0.0018587222580798554, 0.09112002247061399, 0.006102334784097629, 0.5779879792490876, -0.34221019411288645, 0.006832517398943297, 0.3197144030348674, -0.17657000913937956, -0.16000874819982927, 0.03086895779520489, 0.0006706751136874523, -0.14415264990611174, -0.06343096963189432, -0.2372024629381796, 0.06194668540541818, -0.06378569121515104, -0.030379192499762283, -0.09875869790366712, -0.10719888497000295, 0.16787400587584728, 0.10506246283884804, 0.0392322277275468, 0.18443906306765945, 0.8527552727195127, -0.2605411358542985, -0.08668897910859974, 0.0646850681495403, -0.08611212302893914, -0.040385647410858726, -0.22887842165528074, 0.6783927149539305, -0.20115698333190876, -0.022207417618410517, 0.30759182997561857, -0.09119714496892628, -0.014327620816529451, -0.07876791917359406, 0.197972009254745, 0.1218417128370227, 0.1583813666157811, -0.15469795703457237, 0.11392830648810066, -0.17197836940182373, -0.029346014045796214, 0.13559904858718355, 0.19420121329742976, -0.12274831171674819, -0.10669268649914224, 0.018873608922781025, -0.09888192660968582, 0.08269010086296397, -0.031248970156690693, -0.16765149160255666, -0.09734576008525157, 0.41789834197876785, 0.04576336840415476, -0.09339069191639825, -0.060272478110168344, -0.08021160922795284, 0.35395716409773875, -0.1606272636238111, 0.9047812540990132, 0.24121456310928144, -0.169278395256004, -0.013953294591882883, 0.10055621979228069, 0.29156220473068756, 0.34393254865881356, 0.24276860975286066, -0.13157705195232713, 0.2893740371192717, 0.26376205746961195, -0.022856743834972937, -0.39994510475850625, 0.13298083352454343, 0.058081147620149806, 0.15602924689781902, 0.13510712547266843, 0.3228968228391215, 0.28325693161070037, -0.14209342247994633, -0.11969655507271655, -0.4228997692823082, 0.13050486671845715, -0.05783725028200669, -0.04360167143551618, 0.1724464613274135, -0.10969936986373631, -0.0906541980134993, 0.026041663401283065, -0.11392433901063163, 0.044994742309815934, -0.037860188917418505, 0.04187155278571114, -0.03671830062162369, -0.23494602135275838, 0.012982485148740674, -0.08503818716226552, 0.19792740230266967, -0.15160215304165192, -0.08692120824264223, -0.1309831925582066, 0.21403234008593702, -0.36024547169757104, 0.611443470780014, 0.061405708014892334, -0.08853736755822916, -0.20075785892568304, 0.16796452121451771, 0.6962941218964305, -0.05654329207450661, -0.06406464460101101, 0.3244304476512407, -0.276992302782768, -0.2480032215868834, 0.10341772896503247, -0.04615995906917613, -0.4654675106367247, -0.14665080983607548, -0.16375288315951525, -0.22909032045110642, 0.0875485570946635, -0.1833614024218431, 0.07047430154259621, 0.0959541346157962, -0.11849884796099229, -0.21948926815671493, 0.5078054889745525, 0.49959739336432885, -0.2721218319559954, 0.22002059162395285, -0.038344653674994345, -0.0399714022106588, -0.053086515005248046, -0.14120988540452642, -0.09919664304784871, -0.025196415685746747, -0.14648765161331542, -0.3601300945031126, -0.14885538120832884, -0.2741918484776304, 0.3597353854214865, -0.3595088669302104, -0.513691042136827, -0.16363836615496413, -0.11541182887630919, -0.015231845651299616, 0.5767734000072519, 0.4736567092595447, -0.41508932087923356, -0.31529351722567406, -0.11077583051043051, -0.04394062825411059, 0.315358892289753, -0.2512599800141393, -0.1074107003668544, -0.16697533164663667, -0.06401666284749466, 0.004791094134209861, 0.05405734433058651, 0.04296267801988918, 0.0691365853578479, 0.09502599402013769, 0.029078702212971267, -0.32807960297547867, -0.04335441249498484, -0.0951377378584755, 0.4254565248141567, 0.18172205517635062, -0.35427501812120843, 0.042267678227017866, 0.1047340974470799, 0.4514781658518324, 0.4081040122788339, -0.02150654789873086, -0.1577772196529445, 0.04115254387441809, 0.11505734670676038, 0.6832255208018948, -0.04034189761434079, -0.22616343377959763, 0.24782784913003034, 0.08421200723449493, -0.0816006684186545, 0.01203697908111181, -0.04657345016332652, 0.09582769915700372, -0.06018478150222208, -0.08697087876452249, 0.055050774839492625, 0.2960138378361446, 0.00873242569914899, 0.3908263790356407, 0.3442079714008892, -0.011622189448307164, 1.1253212211539292, 0.22074353432413685, -0.12677545019938952, -0.3253964159845443, -0.044238709569271284, -0.00893697299977363, 0.23028904317416293, 0.18555052333976252, -0.14874009491459478, 0.31122371195116433, 0.10798057217504807, 0.25404537675082417, -0.15005296756610859, -0.1426387459841962, 0.010805621068288926, 0.018671837095393138, -0.2688638344815698, -0.18172107747088756, 0.4455669662536357, 0.2449138032989734, 0.6371850153794123, 0.10362765440518285, 0.05508565086517733, 0.626733686160695, -0.04569699942697469, 0.2509579444707511, -0.19422872740973354, 0.0055237171204227786, 0.19391146548639862, 0.2707170344826725, 0.5388276743718384, 0.0715428960001098, 0.5142896489622241, 0.07540441939067266, 0.09102554842909073, 0.068489093550815, 0.0009464706402773446, -0.12049842290237683, 0.14927338490619366, 0.49500278980021944, -0.0832234358326039, -0.11241524299060111, -0.03256246239145012, 0.2224573721602305, -0.00679689842028505, -0.016035222325253232, 0.6082419264876364, -0.1899732389566812, 0.02687422417267577, 0.38566702828451055, 0.086799095211074, 0.7180644377568468, 0.05030813982109774, -0.1318547137788211, 0.06535155178533836, -0.0612529577091386, -0.0726156805670732, -0.05268536374962873, 0.0303338793418014, 0.273092072059448, -0.06715749346756748, 0.14280772986359866, 0.5895692735057507, -0.32012402770598464, -0.04359878234630201, -0.050296518350394136, 0.2711620544660521, 0.05483071080877049, 0.046102242812473784, 0.07074542295200595, 0.11189327980575503, 0.019903768167099354, 0.13098500578629052, -0.2905283093775218, 0.7694302993603, -0.11985297497775887, -0.28849689137749257, 0.2584979571323257, -0.036889113114267895, -0.03821615890884167, -0.2122625084014289, 0.03747286738993594, -0.27272802395669804, -0.2580918552297744, -0.4568809942428466, 0.11699425861438405, 0.6477860656077651, -0.18249473025823518, -0.09784776989166923, -0.03308933338576568, -0.22004612943184024, -0.1316968739240932, 0.06632538627391502, -0.32336252210721594, -0.019907869061384014, 0.0311199104994417, 0.31188051610958184, -0.1245637002033785, -0.31946863530707614, -0.29653578402029607, 0.06385510378893067, -0.09231579548005889, -0.42248401950736236, 0.1815881722691624, -0.018132771510970872, 0.052972856297134926, -0.02632418103144619, -0.06741211156794263, -0.07244054114095515, 0.3123282309496177, -0.0008211226283024823, 0.06002810695972556, 0.02577205362907711, 0.45518415078405333, -0.2070646122017895, -0.12198520006803634, -0.0757787229651224, -0.1409473751508754, -0.37797949513889434, 0.49952329624838837, -0.0975636565690485, -0.3345116837193387, 0.13248171175810683, -0.06782971006616335, 0.03391049940889331, -0.3416754493848998, 0.01552399521329852, 0.09937651426730294, -0.20602520769678015, 0.6241560302726861, -0.293226377620823, -0.2945661346806416, -0.08565353019820225, -0.22248255971725067, 0.4736124195840479, -0.6361445605336655, -0.31971870117236434, 0.09657417683835054, -0.08617978060817026, -0.3041572011133079, 0.016670777539058827, -0.06913954329256325, 0.1335688670012528, 0.08301672066755676, -0.0733361058244927, -0.005304237107573623, -0.2255817298667643, -0.3564183227229395, -0.0020123573522702405, 0.06999528822600863, -0.06461005370430897, 0.17551394997874203, 0.04221329625040632, 0.4751441959753377, -0.3863757329236473, -0.22332024709887086, 0.017009074157221915, 0.0598095866675044, -0.005566640161106538, -0.07854402436496195, -0.08098496346213445, 0.1946752898971214, -0.41669187666674534, -0.16913896554695868, -0.008857476946622143, 0.0041143431535064535, -0.17149303465729868, -0.07806895487453536, 0.07059764800910434, -0.2886473260992788, -0.22242447281455902, 0.0712422406799725, 0.1712830795422898, -0.49948440793264864, -0.005175293487675548, 0.2106696892009, 0.7640626784969442, -0.15834277875094432, -0.13742012425433062, 0.037566569397716514, -0.34295368617458194, -0.5547364318451419, -0.12222276311112135, 0.027483308678525324, -0.055935381726849025, 0.22661481170127823, -0.11090393926964358, -0.005115253044081769, -0.07029749036252442, 0.40801712134152907, -0.14591465457495478, -0.026078934181425192, -0.05933913811990463, 0.24688309615548396, -0.06283197312550239, -0.28367231334911247, -0.13153374027724166, 0.03069631280306496, 0.2965410826353818, 0.13352348323927685, -0.1540806665808363, -0.05910224568685998, -0.22771976168174532, 0.49010733133883516, 0.10777788596608096, -0.0009844231212861106, -0.00786695037851183, 0.13874054277064873, 0.0754770394804069, -0.08917155478036778, 0.31632544535855256, -0.24487751908493172, 0.13001158411228322, -0.40198127264296546, 0.33391454044971647, -0.027874228863273044, -0.38215354355919456, -0.4459761049977959, -0.13579746782469065, 0.06509186547001043, 0.010712914801931782, 0.13558497924763385, -0.15280470172052876, -0.021446738020373963, 0.1563034529670181, 0.2712414289699583, -0.11020733751552687, -0.1593571474108718, -0.13113620576181517, 0.060791265391440384, 0.10676549101278794, -0.10838739270492294, 0.0319118234246299, -0.24943119743794537, -0.02655560837054141, -0.0048463894268353964, 0.31092057873082724, -0.059444152990318036, -0.03632099172056775, -0.07835469259510447, 0.09028637477433596, -0.05195953793635154, -0.1144473342168053, 0.21142390924653515, 0.03906891043731984, 0.15366845221864817, -0.010538536467923649, 0.17108864508822963, -0.08743202358900107, -0.16846805929428757, -0.35875952555204355, -0.07792745666931385, 0.20961978833122744, 0.18223818703012445, -0.17538969144458227, -0.09759492623960336, -0.259353667866539, 0.03256009582749085, 0.18786253587320623, 0.4383859501225534, -0.009565730045355497, -0.034431398659309394, 0.10970792293481768, 0.10745598980077548, -0.10656067952606112, -0.24985827093717933, -0.24118645875828276, -0.2855391183317253, -0.13283429892770474, -0.11252214630182632, -0.05030693841780584, -0.034589209841177214, -0.11972156005127929, 0.17147400527868553, 0.0797882751030977, 0.2706314545929957, 0.05840119591157056, -0.12403444311488107, -0.34734217631204073, -0.00060864254207802, 0.08684273412773878, -0.46359631138856056, -0.1635478885788571, -0.1868695681769846, 0.01427743049593849, -0.031115063501893594, -0.033762520105419906, -0.2140354395166316, 0.22193031759787787, 0.2519133414167297, -0.024098544091574796, 0.03692446593079015, -0.026249705493299184, -0.5566820145474235, -0.21766380417421927, -0.006432078211980205, -0.6011800148790416, -0.610036743776474, 0.7498029613026618, -0.08032295384280903, 0.10339480795031744, -0.2432831564347175, 0.20869344956538674, -0.02239707846135639, -0.2817010083575129, 0.04298177089470469, -0.028943179961672134, 0.023276436500316605, 0.15542322577742093, -0.1883296435592157, 0.30233798487428215, -0.024329373553455075, 0.0760254762663508, -0.41960178801077164, 0.03832610791513362, -0.3550214049850318, -0.2419518703431779, -0.5401180245577423, 0.03377467095777469, 0.07578142774500908, 0.04491846762446339, -0.08373099715555254, 0.06553496122404381, 0.304998207117519, 0.5134243904295673, -0.12597124900009044, -0.08017949573127375, 0.019349101682979184, 0.37855160473729677, -0.10310705678824494, -0.16526260476489302, 0.3938089490559739, 0.7218104004765734, -0.20061375134042123, -0.06982138887469816, 0.24530864959095966, 0.09128733182209874, -0.18345876338641776, -0.2735607262772515, 0.08166780518232851, -0.05568085397800127, 0.15516775153466525, 0.14991577482725185, 0.04473630120741912, -0.012497000292103955, -0.14509735138981797, -0.18649755591720257, 0.1949365717852822, -0.12607811573431804, 0.31949032137351013, -0.042077934096998594, 0.40954961923938643, -0.2238562420674027, -0.1546700704487887, 0.3333339762923025, -0.07642415797052614, -0.04684046566563263, -0.15598021635911413, -0.14013924196855038, -0.10676813408230333, -0.08651434148418333, 0.06183082449592064, -0.06930306602313528, -0.19501118556739871, -0.12930919174855937, -0.05720960237848936, 0.15867817621413316, 0.04399323381328391, 0.17580204533514807, 0.10238974944493401, 0.23434838575304714, -0.051154356834424874, 0.07429329195264779, -0.05158949026370388, 0.0808242879981513, -0.2414021341352631, -0.19210881251450715, -0.25093524101911074, -0.14261201816248523, 0.32140678174214715, -0.3278349864090456, -0.0840406789747227, -0.14445352109388873, -0.29719579038055677, -0.462778232471605, -0.647121967411215, 0.07570428438266509, 0.6142817151377793, -0.23092520603268443, -0.22655702247934129, -0.28674233356278556, -0.3970099776358312, -0.5121644683620503, -0.3313786156800364, -0.14161037307195934, 0.1536885068547573, 0.12129929293470756, -0.09505427445178412, -0.004817544891102827, 0.5819811058169773, 0.27676678706606284, -0.1500874086989776, 0.41535599391145556, -0.10197337359081222, 0.03556820408865793, -0.25639098481429706, 0.11877322857869883, -0.0974977503811659, -0.3242277830660006], \"z\": [-0.22368309642060016, -0.03420031322685452, 0.07677350549898844, -0.23867087704979864, -0.09615986187198984, -0.04775751794620247, -0.31855265007349626, 0.09401209152076531, -0.038072275594537214, -0.1282332191666492, 0.3469780452680915, 0.03708863830416118, 0.029531999325356224, 0.6417150508369621, -0.024907221876814593, -0.18138207697813236, 0.21077073730969342, 0.10360293136523602, -0.020864529650673622, 0.15399825418798951, -0.03873357561955587, -0.028863621886037645, 0.15216743597010488, -0.26417770889954273, 0.14369043515162386, 0.11237675533492719, -0.08983617814990537, -0.006074558571593293, -0.1870510909262013, -0.291515827481872, -0.024972346829006065, 0.10196477437465304, -0.10882585381857247, -0.10721789860126202, -0.01395127793488277, 0.2747477396118545, -0.21467996634598044, -0.5312596438281328, -0.01500172996065022, -0.13267029289714805, -0.11598609660879403, 0.1662319376126804, 0.44813518333297214, 0.07179530363847982, -0.15361908587026887, -0.0584533369168232, -0.20947471094969905, -0.255652384312119, -0.1477105172125626, 0.13772260494625999, 0.16614631244023834, -0.12960289279896556, -0.007156362290319453, 0.38411021321553757, -0.03239775415377161, -0.06940165432458466, -0.1313942005399594, 0.014132251752266269, 0.010036730977127498, -0.024515549560478127, -0.2564337139744764, -0.11351517044176448, -0.21986711229564673, 0.0922474204453242, 0.6676227139064124, 0.05342449963373057, -0.0009925618666487585, -0.09724585281360729, -0.017931329521737847, 0.4010105637533881, -0.037049566001279566, -0.05392426643010031, -0.02796764858787694, -0.0955065048302744, -0.1485172501629822, 0.19148106669961334, 0.09442312883528635, 0.02007156797469084, 0.04032488615263821, 0.1363965083993008, 0.1191524953758217, 0.6835933340804302, 0.16463293987643024, -0.02212129383557576, 0.22884918476871974, -0.3066545186993351, -0.21215084879930327, 0.08560744918037852, 0.17342656261588438, -0.08621055818817153, 0.133562020868994, 0.047983138551369924, -0.07229315514875176, 0.3524627450549843, 0.08327252576010032, 0.3259893656052569, -0.13695941534815562, -0.18394939787233597, -0.1404769080272321, -0.14902303014300353, -0.024965233881109005, 0.018520813121076004, 0.6336262947582811, 0.05515046896003666, 0.0002460362257029373, -0.021846446842633482, -0.07804747506560034, -0.10758096937988523, -0.0714940071659288, -0.18310832855246237, 0.093953687653879, -0.19739554665560194, 0.10999563497981925, -0.014112926280787527, -0.023169496873382524, 0.2939822390299574, -0.0859331171551074, -0.10717061352652045, 0.06284015567823711, -0.23528816866728883, -0.1173182090983108, -0.2307757089393816, -0.10049188669385758, 0.003669978327859355, 0.0038524357109009305, -0.24981409913400077, 0.02187289692878638, -0.038752956918722985, -0.12560860786834507, 0.09348114854579369, 0.1139027187263942, 0.09957057161807198, 0.076242958224845, 0.02981305438126112, 0.4536224450659135, 0.08641930076063518, 0.33553924668432944, 0.08216556600467573, -0.07577677389350035, 0.4587214900202268, 0.17214524646844523, 0.023365448599925988, 0.20999664270324792, 0.04013307781234234, 0.037576349434166705, -0.13781758873934338, 0.14150918831144277, 0.13350879837030216, 0.04556180851188746, -0.057181418538372025, 0.2392749268015555, -0.20796762423214746, 0.058781476628394995, 0.059509796002878236, 0.18334332250004381, -0.3088835718343612, 0.13376336373383602, 0.016827988307470232, -0.020401800370300885, 0.22817964290929502, -0.20843588972715543, -0.19417788503918057, 0.1129929525580323, -0.12598459090029512, -0.0982942658640361, 0.28847861014665566, 0.14679968461889886, -0.02701875951013378, 0.007990130686987562, -0.4354669511717606, -0.05157396992614282, 0.24422726735658948, -0.19878788314355278, 0.1185913160010549, 0.18198586533061506, -0.06867371697504962, 0.09616784838489388, -0.08281948234349401, -0.12111923112361905, -0.034653493130063155, -0.28179307930215247, 0.14669002761930933, -0.09395647823643316, -0.05086278517600822, -0.0416886677287518, 0.02381569363902039, 0.022689107454326642, -0.06145686351367861, -0.2698703644745363, -0.3510813283595347, 0.0006488484459705891, -0.055983986945415384, -0.17182754580215967, 0.18310075270209702, 0.9837614266485435, -0.004638705595761273, 0.0345941527428385, 0.004997439093787285, 0.007418833630936125, 0.2540175510657186, -0.01828271415098801, -0.22188740191849948, 0.008116955591525801, 0.030486943545070786, 0.1762462681222233, -0.07811474923958144, 0.04892148176241877, -0.11481811881963401, -0.13998325878229023, -0.0999963224232381, -0.023246938859458374, 0.048171621803215166, 0.1754217734806671, -0.09432393207904913, 0.012377760590381764, 0.019523502686945107, 0.05454081419074127, -0.06061399363496128, 0.20757072618147304, 0.014061443234159539, 0.15034493361468862, -0.026662956151582876, -0.03435231993901635, 0.20954872040048914, -0.04606584830862297, 0.10968592880905914, -0.04162902763843849, -0.2662136783179605, 0.1329434255781177, -0.03530044374706844, 0.10170727065984222, -0.44117850151148114, 0.028753695964328172, -0.4692748984706524, -0.2625849184791416, -0.2037321220641371, 0.2215057490642668, 0.15638272079353646, -0.21630831258966496, -0.22421988049609, 0.06540805509896208, 0.0753875877143962, 0.04227040187419408, 0.2763441369070868, 0.0809795242565125, -0.2542038885770286, 0.03403354940003667, 0.26004904425069875, 0.05832366281569614, -0.14134002211855837, -0.03697076808803048, 0.10239803667974143, 0.04770662058724882, 0.17331091815132224, -0.4756060013295611, -0.3617042090966238, -0.3277753402344141, -0.04672438470567104, -0.06078071395359108, 0.09102289530360504, -0.08829922804731208, -0.24935763711765027, 0.009706338594785379, -0.1753640430286995, 0.16292937615679767, -0.22058523473684552, -0.16672306117241595, -0.05300791100794444, -0.319430570786518, 0.14010917908836173, 0.12877216391889276, 0.17316373394369117, -0.012245297251306124, -0.010370170548308908, 0.04198350720843864, 0.3499279942981083, -0.06512410825041058, -0.03884497628025739, 0.023959571110783322, 0.032596400715077245, 0.013059923320170655, -0.009996779933607846, 0.6323187584024457, -0.251926046672049, 0.19477594039545093, 0.1269815071898773, 0.04227591935787891, -0.17951568708573987, -0.12253967925882034, 0.1840439859831338, -0.25589967728035434, 0.20516777048019705, 0.0014483809503465874, -0.055215734133197705, 0.22338885760441438, 0.08443439989324605, -0.008390496311224049, -0.27228433108472555, -0.5987221550849376, -0.19398531748053147, 0.05729167246595796, 0.18496127424268, -0.11731073597808725, 0.06311153789009953, 0.10768208408291832, 0.01840196502938379, -0.07643269797957705, -0.11413335762087606, -0.07749864063505929, -0.004632183651220637, 0.7547128069224374, -0.09145186793478778, 0.1594752945855271, 0.5362366430313971, 0.11255715695714803, 0.06763624598816834, -0.029994811277656557, 0.083667619537546, -0.0842255893447868, -0.21469716918467582, 0.07679822932541482, -0.02550224984824986, -0.5438730536938852, 0.0053405384819600835, 0.1704782044646838, -0.04998768271357095, 0.300868263296983, -0.024278564459861394, -0.26116110886187804, -0.001127817769088038, -0.10790592036047096, 0.015411305482779082, -0.013504345426445529, 0.170530335689307, 0.26434525418655186, 0.14495176272713106, -0.04273062349106841, 0.0188180490014522, -0.037885042457369116, -0.19645793938925676, -0.1575867286629645, -0.1613009917505599, -0.08482400677964032, 0.013193358252266595, -0.017671774622998362, -0.2288947004124634, 0.010915922777932232, -0.025392471852635042, 0.14245604799733314, -0.4238535682374052, -0.33537200923424526, -0.03227532575062038, -0.12577578980888324, 0.006232094364382736, -0.08772605582214349, -0.016166177106302547, -0.17799154636882122, 0.28055292594814996, 0.23286835894601018, 0.12174671189179347, -0.040766905630480535, -0.21805268695280558, 0.3442979490314156, 0.08447282136820067, -0.06462726406576769, -0.5277537685512824, -0.12971058907952707, -0.18445462868718923, 0.22215102932124792, 0.05451546041372634, 0.02627437965612169, -0.10166525760743245, 0.35422356329747645, 0.23768953097698048, -0.05413088080803715, -0.2357115676345785, 0.21080246916229886, 0.161185189334695, 0.1476592819856482, 0.14354063140860662, 0.021705667746333552, 0.20966511413217628, 0.03014194307868706, -0.09880290102475972, -0.048771299422857795, 0.2319381594903123, -0.20843493377226466, 0.506350795842931, 0.07221260908791322, 0.20882127440802298, -0.017780966791082146, -0.1804785632897847, -0.07933196008658798, -0.11695509442401228, 0.13286405340771376, -0.09823495655359976, 0.07180726177639218, 0.09804663827739504, -0.13181852384494716, -0.04999354265376749, -0.034477310156090735, 0.0579174028177219, -0.1050603429968959, 0.20636380739399862, 0.11161710699318637, 0.06842463584773664, 0.0003818511466216565, 0.10680492564039366, -0.4332007978646235, 0.08717835993694142, 0.2728678197868343, -0.10158060349602809, 0.910707041046816, 0.08506785220138957, 0.11958198130643652, 0.1877039151055155, -0.14401059605578573, -0.01748853215460639, 0.1357805707843986, 0.044465644933549195, -0.05362720798326065, -0.20984030700131343, -0.17042003848236084, -0.04888599750734603, 0.015806609309595928, -0.45705815343304934, -0.01984746664606388, -0.28685064419008, -0.00846922293265558, 0.021757577687210726, -0.007211127146622597, -0.08227358103851311, -0.09913945115258593, -0.18846474083490805, -0.3819527745599272, 0.09758980713707435, -0.10137318815707913, -0.18194789255792543, -0.0005006036141630763, -0.06769554797224588, -0.12607898277812385, -0.02744570733311918, -0.27416230884200526, 0.2026541841278426, 0.5088065826452318, 0.1777557332837971, -0.10887723343415298, -0.04971871998600311, 0.12328696648677238, -0.15454391916583118, 0.32652526492433465, 0.12157705430626033, 0.4793116715148205, 0.03029458080307787, -0.207675144581829, 0.09889446072188456, 0.11887280739702505, 0.1307152126826728, 0.055094008402773155, 0.14493467082297534, 0.4435685655255391, -0.15178014877229856, 0.31965781831881274, -0.013843662894236265, -0.34497381441716585, -0.19571220950591772, -0.3211874445833376, -0.22296640090319816, -0.00045364020122264066, 0.1398494077898372, 0.1387913672183483, 0.46318767653471266, -0.06038394478696381, -0.0024989517847629926, 0.1808846317461607, -0.04812289878699064, -0.18998080590581037, -0.02844591514701332, 0.10231312491052716, -0.23561909267438524, 0.2092465283600738, -0.30241088131854144, 0.15356025312015367, -0.12134239466423354, 0.21042001393285098, -0.06745076017193632, -0.05962848252499502, -0.0923337591739669, -0.19908750805729314, -0.1631216327175753, 0.030890260096559135, 0.05626753728825083, -0.0635295402114459, 0.014405745126144901, 0.24646938190151332, -0.18435463249258643, 0.15134066273423674, -0.1899049996530533, -0.08802340766466403, 0.04621821414023623, 0.21985274981398623, -0.2543535111260933, 0.05273564968217589, -0.11128851332135943, -0.0761092249687739, 0.01493492724367278, -0.17322752528121563, -0.0606271801590122, 0.07838185538143948, 0.10431305157346642, 0.013004703696473024, -0.29767344695056697, 0.4867451376069008, 0.028277328108955065, 0.19352544078730446, 0.02121065489832258, -0.17257949328708644, 0.21346043356746433, 0.11264648021819233, -0.009192649124788458, 0.12882610948199355, -0.015669145888635848, 0.08647556413664759, -0.16434343103732416, 0.43876243885589694, -0.2177109727219437, 0.09440376741433408, 0.12055446774117266, -0.14590287329000498, -0.08502022388516828, -0.3332689069337069, -0.02588470658291531, 0.05708135833146368, -0.022360428266805163, -0.13893203362177053, -0.21337138214021845, -0.21869423657244094, -0.00922303559232795, 0.14558134563472816, 0.048526665311287936, 0.047667432983421416, -0.3014041808146532, -0.2888696371467408, 0.07364260160458996, -0.21953075717911819, -0.1736390396358493, 0.009572991399526111, -0.07668966989446199, 0.0022095215877563123, -0.0064786828006986935, -0.1171679342705782, 0.02007028540093196, 0.10589444862720868, -0.11786030055453273, 0.08606812239980265, 0.07520389778835361, -0.035982511219077744, -0.1370117807517654, -0.2744627814756823, -0.01208033592898253, -0.5005414409548762, -0.14321624534523217, 0.07024814200869126, -0.05082198386881291, -0.10136136249975856, -0.14656041150563234, 0.09506460533937944, -0.304292815238141, -0.08807465529224805, 0.05350640800665962, 0.02606990210406759, -0.11316853381303768, -0.10671023611349457, -0.0661408226148515, 0.3674602816423575, 0.0906476298750918, -0.2975145308143038, 0.22793297666857382, 0.14055559729006084, -0.08209969661812079, 0.2040619708075793, -0.07050889231365731, -0.19505875506723627, -0.03089213483823079, 0.10793103004612907, 0.2045061640092883, 0.35924790721805805, -0.20301141928086988, -0.005353417858486973, 0.048362022344432334, -0.039352920005787585, 0.024197469247955853, 0.15443531089243068, 0.08700816258897902, -0.01636304278190218, -0.02653273755600455, -0.08857293270525991, -0.14286651040719456, 0.02560591406550242, 0.05539278511916905, -0.039370450988068274, 0.020634722941944253, 0.12397380781415253, -0.05149061623343025, 0.24916750576972002, -0.008061668603214956, -0.1024150789902732, 0.09280331898372962, -0.10072077011168978, -0.0272712212247439, 0.03721048753585497, -0.038911282237888374, 0.010450225646293054, -0.033409213369503796, 0.22190572048517862, -0.2721358672634643, -0.07372752929655031, -0.20329293818548014, -0.3542621519959718, -0.2917440858794275, -0.05073634683179197, 0.11447154758235634, 0.3580824152966602, -0.40350491071118144, -0.05007169650244918, -0.011650162736031073, 0.14195595688814766, -0.11373130750804117, 0.004184354027671947, 0.009427495636667897, 0.11356279259440183, 0.0017348303274582553, 0.17617010031668964, -0.13603710955630055, -0.04237403020457986, -0.21485675925726133, 0.016081130681168978, -0.16976963702953526, 0.2038626087855972, 0.02536747909243012, 0.4228386140406028, 0.20057926515099156, -0.0036737761963557595, -0.1569571958427554, 0.21296439108917156]}],\n",
              "                        {\"scene\": {\"xaxis\": {\"title\": {\"text\": \"Componente 1\"}}, \"yaxis\": {\"title\": {\"text\": \"Componente 2\"}}, \"zaxis\": {\"title\": {\"text\": \"Componente 3\"}}}, \"template\": {\"data\": {\"bar\": [{\"error_x\": {\"color\": \"#2a3f5f\"}, \"error_y\": {\"color\": \"#2a3f5f\"}, \"marker\": {\"line\": {\"color\": \"#E5ECF6\", \"width\": 0.5}}, \"type\": \"bar\"}], \"barpolar\": [{\"marker\": {\"line\": {\"color\": \"#E5ECF6\", \"width\": 0.5}}, \"type\": \"barpolar\"}], \"carpet\": [{\"aaxis\": {\"endlinecolor\": \"#2a3f5f\", \"gridcolor\": \"white\", \"linecolor\": \"white\", \"minorgridcolor\": \"white\", \"startlinecolor\": \"#2a3f5f\"}, \"baxis\": {\"endlinecolor\": \"#2a3f5f\", \"gridcolor\": \"white\", \"linecolor\": \"white\", \"minorgridcolor\": \"white\", \"startlinecolor\": \"#2a3f5f\"}, \"type\": \"carpet\"}], \"choropleth\": [{\"colorbar\": {\"outlinewidth\": 0, \"ticks\": \"\"}, \"type\": \"choropleth\"}], \"contour\": [{\"colorbar\": {\"outlinewidth\": 0, \"ticks\": \"\"}, \"colorscale\": [[0.0, \"#0d0887\"], [0.1111111111111111, \"#46039f\"], [0.2222222222222222, \"#7201a8\"], [0.3333333333333333, \"#9c179e\"], [0.4444444444444444, \"#bd3786\"], [0.5555555555555556, \"#d8576b\"], [0.6666666666666666, \"#ed7953\"], [0.7777777777777778, \"#fb9f3a\"], [0.8888888888888888, \"#fdca26\"], [1.0, \"#f0f921\"]], \"type\": \"contour\"}], \"contourcarpet\": [{\"colorbar\": {\"outlinewidth\": 0, \"ticks\": \"\"}, \"type\": \"contourcarpet\"}], \"heatmap\": [{\"colorbar\": {\"outlinewidth\": 0, \"ticks\": \"\"}, \"colorscale\": [[0.0, \"#0d0887\"], [0.1111111111111111, \"#46039f\"], [0.2222222222222222, \"#7201a8\"], [0.3333333333333333, \"#9c179e\"], [0.4444444444444444, \"#bd3786\"], [0.5555555555555556, \"#d8576b\"], [0.6666666666666666, \"#ed7953\"], [0.7777777777777778, \"#fb9f3a\"], [0.8888888888888888, \"#fdca26\"], [1.0, \"#f0f921\"]], \"type\": \"heatmap\"}], \"heatmapgl\": [{\"colorbar\": {\"outlinewidth\": 0, \"ticks\": \"\"}, \"colorscale\": [[0.0, \"#0d0887\"], [0.1111111111111111, \"#46039f\"], [0.2222222222222222, \"#7201a8\"], [0.3333333333333333, \"#9c179e\"], [0.4444444444444444, \"#bd3786\"], [0.5555555555555556, \"#d8576b\"], [0.6666666666666666, \"#ed7953\"], [0.7777777777777778, \"#fb9f3a\"], [0.8888888888888888, \"#fdca26\"], [1.0, \"#f0f921\"]], \"type\": \"heatmapgl\"}], \"histogram\": [{\"marker\": {\"colorbar\": {\"outlinewidth\": 0, \"ticks\": \"\"}}, \"type\": \"histogram\"}], \"histogram2d\": [{\"colorbar\": {\"outlinewidth\": 0, \"ticks\": \"\"}, \"colorscale\": [[0.0, \"#0d0887\"], [0.1111111111111111, \"#46039f\"], [0.2222222222222222, \"#7201a8\"], [0.3333333333333333, \"#9c179e\"], [0.4444444444444444, \"#bd3786\"], [0.5555555555555556, \"#d8576b\"], [0.6666666666666666, \"#ed7953\"], [0.7777777777777778, \"#fb9f3a\"], [0.8888888888888888, \"#fdca26\"], [1.0, \"#f0f921\"]], \"type\": \"histogram2d\"}], \"histogram2dcontour\": [{\"colorbar\": {\"outlinewidth\": 0, \"ticks\": \"\"}, \"colorscale\": [[0.0, \"#0d0887\"], [0.1111111111111111, \"#46039f\"], [0.2222222222222222, \"#7201a8\"], [0.3333333333333333, \"#9c179e\"], [0.4444444444444444, \"#bd3786\"], [0.5555555555555556, \"#d8576b\"], [0.6666666666666666, \"#ed7953\"], [0.7777777777777778, \"#fb9f3a\"], [0.8888888888888888, \"#fdca26\"], [1.0, \"#f0f921\"]], \"type\": \"histogram2dcontour\"}], \"mesh3d\": [{\"colorbar\": {\"outlinewidth\": 0, \"ticks\": \"\"}, \"type\": \"mesh3d\"}], \"parcoords\": [{\"line\": {\"colorbar\": {\"outlinewidth\": 0, \"ticks\": \"\"}}, \"type\": \"parcoords\"}], \"pie\": [{\"automargin\": true, \"type\": \"pie\"}], \"scatter\": [{\"marker\": {\"colorbar\": {\"outlinewidth\": 0, \"ticks\": \"\"}}, \"type\": \"scatter\"}], \"scatter3d\": [{\"line\": {\"colorbar\": {\"outlinewidth\": 0, \"ticks\": \"\"}}, \"marker\": {\"colorbar\": {\"outlinewidth\": 0, \"ticks\": \"\"}}, \"type\": \"scatter3d\"}], \"scattercarpet\": [{\"marker\": {\"colorbar\": {\"outlinewidth\": 0, \"ticks\": \"\"}}, \"type\": \"scattercarpet\"}], \"scattergeo\": [{\"marker\": {\"colorbar\": {\"outlinewidth\": 0, \"ticks\": \"\"}}, \"type\": \"scattergeo\"}], \"scattergl\": [{\"marker\": {\"colorbar\": {\"outlinewidth\": 0, \"ticks\": \"\"}}, \"type\": \"scattergl\"}], \"scattermapbox\": [{\"marker\": {\"colorbar\": {\"outlinewidth\": 0, \"ticks\": \"\"}}, \"type\": \"scattermapbox\"}], \"scatterpolar\": [{\"marker\": {\"colorbar\": {\"outlinewidth\": 0, \"ticks\": \"\"}}, \"type\": \"scatterpolar\"}], \"scatterpolargl\": [{\"marker\": {\"colorbar\": {\"outlinewidth\": 0, \"ticks\": \"\"}}, \"type\": \"scatterpolargl\"}], \"scatterternary\": [{\"marker\": {\"colorbar\": {\"outlinewidth\": 0, \"ticks\": \"\"}}, \"type\": \"scatterternary\"}], \"surface\": [{\"colorbar\": {\"outlinewidth\": 0, \"ticks\": \"\"}, \"colorscale\": [[0.0, \"#0d0887\"], [0.1111111111111111, \"#46039f\"], [0.2222222222222222, \"#7201a8\"], [0.3333333333333333, \"#9c179e\"], [0.4444444444444444, \"#bd3786\"], [0.5555555555555556, \"#d8576b\"], [0.6666666666666666, \"#ed7953\"], [0.7777777777777778, \"#fb9f3a\"], [0.8888888888888888, \"#fdca26\"], [1.0, \"#f0f921\"]], \"type\": \"surface\"}], \"table\": [{\"cells\": {\"fill\": {\"color\": \"#EBF0F8\"}, \"line\": {\"color\": \"white\"}}, \"header\": {\"fill\": {\"color\": \"#C8D4E3\"}, \"line\": {\"color\": \"white\"}}, \"type\": \"table\"}]}, \"layout\": {\"annotationdefaults\": {\"arrowcolor\": \"#2a3f5f\", \"arrowhead\": 0, \"arrowwidth\": 1}, \"coloraxis\": {\"colorbar\": {\"outlinewidth\": 0, \"ticks\": \"\"}}, \"colorscale\": {\"diverging\": [[0, \"#8e0152\"], [0.1, \"#c51b7d\"], [0.2, \"#de77ae\"], [0.3, \"#f1b6da\"], [0.4, \"#fde0ef\"], [0.5, \"#f7f7f7\"], [0.6, \"#e6f5d0\"], [0.7, \"#b8e186\"], [0.8, \"#7fbc41\"], [0.9, \"#4d9221\"], [1, \"#276419\"]], \"sequential\": [[0.0, \"#0d0887\"], [0.1111111111111111, \"#46039f\"], [0.2222222222222222, \"#7201a8\"], [0.3333333333333333, \"#9c179e\"], [0.4444444444444444, \"#bd3786\"], [0.5555555555555556, \"#d8576b\"], [0.6666666666666666, \"#ed7953\"], [0.7777777777777778, \"#fb9f3a\"], [0.8888888888888888, \"#fdca26\"], [1.0, \"#f0f921\"]], \"sequentialminus\": [[0.0, \"#0d0887\"], [0.1111111111111111, \"#46039f\"], [0.2222222222222222, \"#7201a8\"], [0.3333333333333333, \"#9c179e\"], [0.4444444444444444, \"#bd3786\"], [0.5555555555555556, \"#d8576b\"], [0.6666666666666666, \"#ed7953\"], [0.7777777777777778, \"#fb9f3a\"], [0.8888888888888888, \"#fdca26\"], [1.0, \"#f0f921\"]]}, \"colorway\": [\"#636efa\", \"#EF553B\", \"#00cc96\", \"#ab63fa\", \"#FFA15A\", \"#19d3f3\", \"#FF6692\", \"#B6E880\", \"#FF97FF\", \"#FECB52\"], \"font\": {\"color\": \"#2a3f5f\"}, \"geo\": {\"bgcolor\": \"white\", \"lakecolor\": \"white\", \"landcolor\": \"#E5ECF6\", \"showlakes\": true, \"showland\": true, \"subunitcolor\": \"white\"}, \"hoverlabel\": {\"align\": \"left\"}, \"hovermode\": \"closest\", \"mapbox\": {\"style\": \"light\"}, \"paper_bgcolor\": \"white\", \"plot_bgcolor\": \"#E5ECF6\", \"polar\": {\"angularaxis\": {\"gridcolor\": \"white\", \"linecolor\": \"white\", \"ticks\": \"\"}, \"bgcolor\": \"#E5ECF6\", \"radialaxis\": {\"gridcolor\": \"white\", \"linecolor\": \"white\", \"ticks\": \"\"}}, \"scene\": {\"xaxis\": {\"backgroundcolor\": \"#E5ECF6\", \"gridcolor\": \"white\", \"gridwidth\": 2, \"linecolor\": \"white\", \"showbackground\": true, \"ticks\": \"\", \"zerolinecolor\": \"white\"}, \"yaxis\": {\"backgroundcolor\": \"#E5ECF6\", \"gridcolor\": \"white\", \"gridwidth\": 2, \"linecolor\": \"white\", \"showbackground\": true, \"ticks\": \"\", \"zerolinecolor\": \"white\"}, \"zaxis\": {\"backgroundcolor\": \"#E5ECF6\", \"gridcolor\": \"white\", \"gridwidth\": 2, \"linecolor\": \"white\", \"showbackground\": true, \"ticks\": \"\", \"zerolinecolor\": \"white\"}}, \"shapedefaults\": {\"line\": {\"color\": \"#2a3f5f\"}}, \"ternary\": {\"aaxis\": {\"gridcolor\": \"white\", \"linecolor\": \"white\", \"ticks\": \"\"}, \"baxis\": {\"gridcolor\": \"white\", \"linecolor\": \"white\", \"ticks\": \"\"}, \"bgcolor\": \"#E5ECF6\", \"caxis\": {\"gridcolor\": \"white\", \"linecolor\": \"white\", \"ticks\": \"\"}}, \"title\": {\"x\": 0.05}, \"xaxis\": {\"automargin\": true, \"gridcolor\": \"white\", \"linecolor\": \"white\", \"ticks\": \"\", \"title\": {\"standoff\": 15}, \"zerolinecolor\": \"white\", \"zerolinewidth\": 2}, \"yaxis\": {\"automargin\": true, \"gridcolor\": \"white\", \"linecolor\": \"white\", \"ticks\": \"\", \"title\": {\"standoff\": 15}, \"zerolinecolor\": \"white\", \"zerolinewidth\": 2}}}},\n",
              "                        {\"responsive\": true}\n",
              "                    ).then(function(){\n",
              "                            \n",
              "var gd = document.getElementById('c25594f4-38d8-4125-8032-2bcc562ecbf1');\n",
              "var x = new MutationObserver(function (mutations, observer) {{\n",
              "        var display = window.getComputedStyle(gd).display;\n",
              "        if (!display || display === 'none') {{\n",
              "            console.log([gd, 'removed!']);\n",
              "            Plotly.purge(gd);\n",
              "            observer.disconnect();\n",
              "        }}\n",
              "}});\n",
              "\n",
              "// Listen for the removal of the full notebook cells\n",
              "var notebookContainer = gd.closest('#notebook-container');\n",
              "if (notebookContainer) {{\n",
              "    x.observe(notebookContainer, {childList: true});\n",
              "}}\n",
              "\n",
              "// Listen for the clearing of the current output cell\n",
              "var outputEl = gd.closest('.output');\n",
              "if (outputEl) {{\n",
              "    x.observe(outputEl, {childList: true});\n",
              "}}\n",
              "\n",
              "                        })\n",
              "                };\n",
              "                \n",
              "            </script>\n",
              "        </div>\n",
              "</body>\n",
              "</html>"
            ]
          },
          "metadata": {
            "tags": []
          }
        }
      ]
    },
    {
      "cell_type": "code",
      "metadata": {
        "colab": {
          "base_uri": "https://localhost:8080/",
          "height": 414
        },
        "id": "cjdNHf9io-95",
        "outputId": "c0098177-b783-4124-989c-dd250de380cf"
      },
      "source": [
        "Y"
      ],
      "execution_count": null,
      "outputs": [
        {
          "output_type": "execute_result",
          "data": {
            "text/html": [
              "<div>\n",
              "<style scoped>\n",
              "    .dataframe tbody tr th:only-of-type {\n",
              "        vertical-align: middle;\n",
              "    }\n",
              "\n",
              "    .dataframe tbody tr th {\n",
              "        vertical-align: top;\n",
              "    }\n",
              "\n",
              "    .dataframe thead th {\n",
              "        text-align: right;\n",
              "    }\n",
              "</style>\n",
              "<table border=\"1\" class=\"dataframe\">\n",
              "  <thead>\n",
              "    <tr style=\"text-align: right;\">\n",
              "      <th></th>\n",
              "      <th>IncidCovid%</th>\n",
              "      <th>LetalidCovid%</th>\n",
              "      <th>MortalidCovid%</th>\n",
              "    </tr>\n",
              "  </thead>\n",
              "  <tbody>\n",
              "    <tr>\n",
              "      <th>0</th>\n",
              "      <td>8.249248</td>\n",
              "      <td>3.040057</td>\n",
              "      <td>0.250782</td>\n",
              "    </tr>\n",
              "    <tr>\n",
              "      <th>1</th>\n",
              "      <td>13.025820</td>\n",
              "      <td>2.449889</td>\n",
              "      <td>0.319118</td>\n",
              "    </tr>\n",
              "    <tr>\n",
              "      <th>2</th>\n",
              "      <td>7.144462</td>\n",
              "      <td>3.144654</td>\n",
              "      <td>0.224669</td>\n",
              "    </tr>\n",
              "    <tr>\n",
              "      <th>3</th>\n",
              "      <td>6.374247</td>\n",
              "      <td>4.225352</td>\n",
              "      <td>0.269334</td>\n",
              "    </tr>\n",
              "    <tr>\n",
              "      <th>4</th>\n",
              "      <td>8.533798</td>\n",
              "      <td>2.232143</td>\n",
              "      <td>0.190487</td>\n",
              "    </tr>\n",
              "    <tr>\n",
              "      <th>...</th>\n",
              "      <td>...</td>\n",
              "      <td>...</td>\n",
              "      <td>...</td>\n",
              "    </tr>\n",
              "    <tr>\n",
              "      <th>640</th>\n",
              "      <td>8.173197</td>\n",
              "      <td>1.526718</td>\n",
              "      <td>0.124782</td>\n",
              "    </tr>\n",
              "    <tr>\n",
              "      <th>641</th>\n",
              "      <td>10.170455</td>\n",
              "      <td>3.910615</td>\n",
              "      <td>0.397727</td>\n",
              "    </tr>\n",
              "    <tr>\n",
              "      <th>642</th>\n",
              "      <td>7.065363</td>\n",
              "      <td>4.382235</td>\n",
              "      <td>0.309621</td>\n",
              "    </tr>\n",
              "    <tr>\n",
              "      <th>643</th>\n",
              "      <td>12.938099</td>\n",
              "      <td>2.872305</td>\n",
              "      <td>0.371622</td>\n",
              "    </tr>\n",
              "    <tr>\n",
              "      <th>644</th>\n",
              "      <td>9.101562</td>\n",
              "      <td>3.433476</td>\n",
              "      <td>0.312500</td>\n",
              "    </tr>\n",
              "  </tbody>\n",
              "</table>\n",
              "<p>645 rows × 3 columns</p>\n",
              "</div>"
            ],
            "text/plain": [
              "     IncidCovid%  LetalidCovid%  MortalidCovid%\n",
              "0       8.249248       3.040057        0.250782\n",
              "1      13.025820       2.449889        0.319118\n",
              "2       7.144462       3.144654        0.224669\n",
              "3       6.374247       4.225352        0.269334\n",
              "4       8.533798       2.232143        0.190487\n",
              "..           ...            ...             ...\n",
              "640     8.173197       1.526718        0.124782\n",
              "641    10.170455       3.910615        0.397727\n",
              "642     7.065363       4.382235        0.309621\n",
              "643    12.938099       2.872305        0.371622\n",
              "644     9.101562       3.433476        0.312500\n",
              "\n",
              "[645 rows x 3 columns]"
            ]
          },
          "metadata": {
            "tags": []
          },
          "execution_count": 34
        }
      ]
    },
    {
      "cell_type": "code",
      "metadata": {
        "colab": {
          "base_uri": "https://localhost:8080/",
          "height": 698
        },
        "id": "VSpU-kk8m_cy",
        "outputId": "22e4e909-935a-402d-854b-c5ae9fe9ced9"
      },
      "source": [
        "Y['Localidade'] = localidades\n",
        "Y['Classe'] = labels\n",
        "Y"
      ],
      "execution_count": null,
      "outputs": [
        {
          "output_type": "stream",
          "text": [
            "/usr/local/lib/python3.7/dist-packages/ipykernel_launcher.py:1: SettingWithCopyWarning:\n",
            "\n",
            "\n",
            "A value is trying to be set on a copy of a slice from a DataFrame.\n",
            "Try using .loc[row_indexer,col_indexer] = value instead\n",
            "\n",
            "See the caveats in the documentation: https://pandas.pydata.org/pandas-docs/stable/user_guide/indexing.html#returning-a-view-versus-a-copy\n",
            "\n",
            "/usr/local/lib/python3.7/dist-packages/ipykernel_launcher.py:2: SettingWithCopyWarning:\n",
            "\n",
            "\n",
            "A value is trying to be set on a copy of a slice from a DataFrame.\n",
            "Try using .loc[row_indexer,col_indexer] = value instead\n",
            "\n",
            "See the caveats in the documentation: https://pandas.pydata.org/pandas-docs/stable/user_guide/indexing.html#returning-a-view-versus-a-copy\n",
            "\n"
          ],
          "name": "stderr"
        },
        {
          "output_type": "execute_result",
          "data": {
            "text/html": [
              "<div>\n",
              "<style scoped>\n",
              "    .dataframe tbody tr th:only-of-type {\n",
              "        vertical-align: middle;\n",
              "    }\n",
              "\n",
              "    .dataframe tbody tr th {\n",
              "        vertical-align: top;\n",
              "    }\n",
              "\n",
              "    .dataframe thead th {\n",
              "        text-align: right;\n",
              "    }\n",
              "</style>\n",
              "<table border=\"1\" class=\"dataframe\">\n",
              "  <thead>\n",
              "    <tr style=\"text-align: right;\">\n",
              "      <th></th>\n",
              "      <th>IncidCovid%</th>\n",
              "      <th>LetalidCovid%</th>\n",
              "      <th>MortalidCovid%</th>\n",
              "      <th>Localidade</th>\n",
              "      <th>Classe</th>\n",
              "    </tr>\n",
              "  </thead>\n",
              "  <tbody>\n",
              "    <tr>\n",
              "      <th>0</th>\n",
              "      <td>8.249248</td>\n",
              "      <td>3.040057</td>\n",
              "      <td>0.250782</td>\n",
              "      <td>Adamantina</td>\n",
              "      <td>1</td>\n",
              "    </tr>\n",
              "    <tr>\n",
              "      <th>1</th>\n",
              "      <td>13.025820</td>\n",
              "      <td>2.449889</td>\n",
              "      <td>0.319118</td>\n",
              "      <td>Adolfo</td>\n",
              "      <td>1</td>\n",
              "    </tr>\n",
              "    <tr>\n",
              "      <th>2</th>\n",
              "      <td>7.144462</td>\n",
              "      <td>3.144654</td>\n",
              "      <td>0.224669</td>\n",
              "      <td>Aguaí</td>\n",
              "      <td>0</td>\n",
              "    </tr>\n",
              "    <tr>\n",
              "      <th>3</th>\n",
              "      <td>6.374247</td>\n",
              "      <td>4.225352</td>\n",
              "      <td>0.269334</td>\n",
              "      <td>Águas da Prata</td>\n",
              "      <td>1</td>\n",
              "    </tr>\n",
              "    <tr>\n",
              "      <th>4</th>\n",
              "      <td>8.533798</td>\n",
              "      <td>2.232143</td>\n",
              "      <td>0.190487</td>\n",
              "      <td>Águas de Lindóia</td>\n",
              "      <td>1</td>\n",
              "    </tr>\n",
              "    <tr>\n",
              "      <th>...</th>\n",
              "      <td>...</td>\n",
              "      <td>...</td>\n",
              "      <td>...</td>\n",
              "      <td>...</td>\n",
              "      <td>...</td>\n",
              "    </tr>\n",
              "    <tr>\n",
              "      <th>640</th>\n",
              "      <td>8.173197</td>\n",
              "      <td>1.526718</td>\n",
              "      <td>0.124782</td>\n",
              "      <td>Vista Alegre do Alto</td>\n",
              "      <td>1</td>\n",
              "    </tr>\n",
              "    <tr>\n",
              "      <th>641</th>\n",
              "      <td>10.170455</td>\n",
              "      <td>3.910615</td>\n",
              "      <td>0.397727</td>\n",
              "      <td>Vitória Brasil</td>\n",
              "      <td>0</td>\n",
              "    </tr>\n",
              "    <tr>\n",
              "      <th>642</th>\n",
              "      <td>7.065363</td>\n",
              "      <td>4.382235</td>\n",
              "      <td>0.309621</td>\n",
              "      <td>Votorantim</td>\n",
              "      <td>1</td>\n",
              "    </tr>\n",
              "    <tr>\n",
              "      <th>643</th>\n",
              "      <td>12.938099</td>\n",
              "      <td>2.872305</td>\n",
              "      <td>0.371622</td>\n",
              "      <td>Votuporanga</td>\n",
              "      <td>1</td>\n",
              "    </tr>\n",
              "    <tr>\n",
              "      <th>644</th>\n",
              "      <td>9.101562</td>\n",
              "      <td>3.433476</td>\n",
              "      <td>0.312500</td>\n",
              "      <td>Zacarias</td>\n",
              "      <td>1</td>\n",
              "    </tr>\n",
              "  </tbody>\n",
              "</table>\n",
              "<p>645 rows × 5 columns</p>\n",
              "</div>"
            ],
            "text/plain": [
              "     IncidCovid%  LetalidCovid%  MortalidCovid%            Localidade  Classe\n",
              "0       8.249248       3.040057        0.250782            Adamantina       1\n",
              "1      13.025820       2.449889        0.319118                Adolfo       1\n",
              "2       7.144462       3.144654        0.224669                 Aguaí       0\n",
              "3       6.374247       4.225352        0.269334        Águas da Prata       1\n",
              "4       8.533798       2.232143        0.190487      Águas de Lindóia       1\n",
              "..           ...            ...             ...                   ...     ...\n",
              "640     8.173197       1.526718        0.124782  Vista Alegre do Alto       1\n",
              "641    10.170455       3.910615        0.397727        Vitória Brasil       0\n",
              "642     7.065363       4.382235        0.309621            Votorantim       1\n",
              "643    12.938099       2.872305        0.371622           Votuporanga       1\n",
              "644     9.101562       3.433476        0.312500              Zacarias       1\n",
              "\n",
              "[645 rows x 5 columns]"
            ]
          },
          "metadata": {
            "tags": []
          },
          "execution_count": 35
        }
      ]
    },
    {
      "cell_type": "code",
      "metadata": {
        "colab": {
          "base_uri": "https://localhost:8080/",
          "height": 392
        },
        "id": "pcyiV_FDnpmq",
        "outputId": "9ab1b831-193b-4e39-ff6e-07af0353e3a3"
      },
      "source": [
        "dfbp = Y[['Classe', 'IncidCovid%']].copy()\n",
        "dfbp.boxplot(by='Classe');"
      ],
      "execution_count": null,
      "outputs": [
        {
          "output_type": "stream",
          "text": [
            "/usr/local/lib/python3.7/dist-packages/numpy/core/_asarray.py:83: VisibleDeprecationWarning:\n",
            "\n",
            "Creating an ndarray from ragged nested sequences (which is a list-or-tuple of lists-or-tuples-or ndarrays with different lengths or shapes) is deprecated. If you meant to do this, you must specify 'dtype=object' when creating the ndarray\n",
            "\n"
          ],
          "name": "stderr"
        },
        {
          "output_type": "display_data",
          "data": {
            "image/png": "[encoded data removed]",
            "text/plain": [
              "<Figure size 432x288 with 1 Axes>"
            ]
          },
          "metadata": {
            "tags": [],
            "needs_background": "light"
          }
        }
      ]
    },
    {
      "cell_type": "code",
      "metadata": {
        "colab": {
          "base_uri": "https://localhost:8080/"
        },
        "id": "xhXC9TZksAg6",
        "outputId": "373b4a78-cd30-4d39-f52c-c009392c707a"
      },
      "source": [
        "grouped_df = Y.groupby(\"Classe\")\n",
        "mean_df = grouped_df.mean()\n",
        "mean_df = mean_df.reset_index()\n",
        "print(mean_df)"
      ],
      "execution_count": null,
      "outputs": [
        {
          "output_type": "stream",
          "text": [
            "   Classe  IncidCovid%  LetalidCovid%  MortalidCovid%\n",
            "0       0     7.224066       2.942076        0.190099\n",
            "1       1     8.770984       3.005861        0.246368\n"
          ],
          "name": "stdout"
        }
      ]
    }
  ]
}