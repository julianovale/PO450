{
  "nbformat": 4,
  "nbformat_minor": 0,
  "metadata": {
    "colab": {
      "name": "Semana14_PO450.ipynb",
      "provenance": [],
      "authorship_tag": "ABX9TyMFGPD5I5mXpwW+oMYTGUKb",
      "include_colab_link": true
    },
    "kernelspec": {
      "name": "python3",
      "display_name": "Python 3"
    },
    "language_info": {
      "name": "python"
    }
  },
  "cells": [
    {
      "cell_type": "markdown",
      "metadata": {
        "id": "view-in-github",
        "colab_type": "text"
      },
      "source": [
        "<a href=\"https://colab.research.google.com/github/julianovale/PO450/blob/main/Semana14_PO450.ipynb\" target=\"_parent\"><img src=\"https://colab.research.google.com/assets/colab-badge.svg\" alt=\"Open In Colab\"/></a>"
      ]
    },
    {
      "cell_type": "code",
      "metadata": {
        "colab": {
          "base_uri": "https://localhost:8080/",
          "height": 381
        },
        "id": "butyCCBi_ItR",
        "outputId": "1bc92689-6d4a-4fee-9d7f-5958da45422a"
      },
      "source": [
        "\"\"\"\n",
        "FT043\n",
        "Preenchimento de matrizes\n",
        "Leonardo T. Duarte\n",
        "\"\"\"\n",
        "\n",
        "import numpy as np\n",
        "import matplotlib.pyplot as plt\n",
        "from soft_impute_functions import *\n",
        "from PIL import Image\n",
        "\n",
        "\n",
        "n, m, k = 100, 100, 10\n",
        "\n",
        "A = np.random.normal(size=(n,k))\n",
        "B = np.random.normal(size=(k,n))\n",
        "\n",
        "X = np.dot(A,B)\n",
        "\n",
        "\n",
        "plt.imshow(X)\n",
        "plt.colorbar()\n",
        "plt.show()\n",
        "\n",
        "missing_data = 5000\n",
        "idx = list(np.random.randint(X.shape[0], size=missing_data))\n",
        "idy = list(np.random.randint(X.shape[1], size=missing_data))\n",
        "\n",
        "Xfloat =  X.astype(np.float64)\n",
        "Xmissing = X.astype(np.float64)\n",
        "\n",
        "for kk in range(missing_data):\n",
        "    Xmissing[idx[kk],idy[kk]] = np.nan\n",
        "    \n",
        "\n",
        "clf = SoftImpute(J=10)\n",
        "fit = clf.fit(Xmissing)\n",
        "Xest = clf.predict(Xmissing)\n",
        "\n",
        "\n",
        "plt.imshow(Xmissing)\n",
        "plt.colorbar()\n",
        "plt.show()\n",
        "\n",
        "\n",
        "plt.imshow(Xest)\n",
        "plt.colorbar()\n",
        "plt.show()\n",
        "\n",
        "\n",
        "\n",
        "plt.imshow(Xest-X)\n",
        "plt.colorbar()\n",
        "plt.show()\n",
        "\n",
        "\n",
        "\n",
        "qwqwq\n",
        "\n",
        "#X = np.array(Image.open('foto_fca_gray.png').convert('L'))\n",
        "\n",
        "plt.imshow(X,cmap='gray', vmin=0, vmax=255)\n",
        "plt.show()\n",
        "\n",
        "n = 2  # for 2 random indices\n",
        "#index = np.random.choice(X.shape[0], n, replace=False)\n",
        "\n",
        "# row_indices = [4,2,18,16,7,19,4]\n",
        "# col_indices = [1,2]\n",
        "# x_rows = x[row_indices,:]\n",
        "# x_indexed = x_rows[:,column_indices]\n",
        "\n",
        "\n",
        "# X = np.random.random((10,3)) + (np.arange(10).reshape(10,1) ** 2)\n",
        "\n",
        "# X.shape[0]\n",
        "\n",
        "missing_data = 700*700\n",
        "idx = list(np.random.randint(X.shape[0], size=missing_data))\n",
        "idy = list(np.random.randint(X.shape[1], size=missing_data))\n",
        "\n",
        "Xfloat =  X.astype(np.float64)\n",
        "Xmissing = X.astype(np.float64)\n",
        "\n",
        "for kk in range(missing_data):\n",
        "    Xmissing[idx[kk],idy[kk]] = np.nan\n",
        "    \n",
        "\n",
        "clf = SoftImpute(J=200)\n",
        "fit = clf.fit(Xmissing)\n",
        "X_imp = clf.predict(Xmissing)\n",
        "\n",
        "plt.imshow(Xmissing,cmap='gray')\n",
        "plt.show()\n",
        "\n",
        "plt.imshow(X_imp,cmap='gray')\n",
        "plt.show()\n"
      ],
      "execution_count": 1,
      "outputs": [
        {
          "output_type": "error",
          "ename": "ModuleNotFoundError",
          "evalue": "ignored",
          "traceback": [
            "\u001b[0;31m---------------------------------------------------------------------------\u001b[0m",
            "\u001b[0;31mModuleNotFoundError\u001b[0m                       Traceback (most recent call last)",
            "\u001b[0;32m<ipython-input-1-3d9591be8029>\u001b[0m in \u001b[0;36m<module>\u001b[0;34m()\u001b[0m\n\u001b[1;32m      7\u001b[0m \u001b[0;32mimport\u001b[0m \u001b[0mnumpy\u001b[0m \u001b[0;32mas\u001b[0m \u001b[0mnp\u001b[0m\u001b[0;34m\u001b[0m\u001b[0;34m\u001b[0m\u001b[0m\n\u001b[1;32m      8\u001b[0m \u001b[0;32mimport\u001b[0m \u001b[0mmatplotlib\u001b[0m\u001b[0;34m.\u001b[0m\u001b[0mpyplot\u001b[0m \u001b[0;32mas\u001b[0m \u001b[0mplt\u001b[0m\u001b[0;34m\u001b[0m\u001b[0;34m\u001b[0m\u001b[0m\n\u001b[0;32m----> 9\u001b[0;31m \u001b[0;32mfrom\u001b[0m \u001b[0msoft_impute_functions\u001b[0m \u001b[0;32mimport\u001b[0m \u001b[0;34m*\u001b[0m\u001b[0;34m\u001b[0m\u001b[0;34m\u001b[0m\u001b[0m\n\u001b[0m\u001b[1;32m     10\u001b[0m \u001b[0;32mfrom\u001b[0m \u001b[0mPIL\u001b[0m \u001b[0;32mimport\u001b[0m \u001b[0mImage\u001b[0m\u001b[0;34m\u001b[0m\u001b[0;34m\u001b[0m\u001b[0m\n\u001b[1;32m     11\u001b[0m \u001b[0;34m\u001b[0m\u001b[0m\n",
            "\u001b[0;31mModuleNotFoundError\u001b[0m: No module named 'soft_impute_functions'",
            "",
            "\u001b[0;31m---------------------------------------------------------------------------\u001b[0;32m\nNOTE: If your import is failing due to a missing package, you can\nmanually install dependencies using either !pip or !apt.\n\nTo view examples of installing some common dependencies, click the\n\"Open Examples\" button below.\n\u001b[0;31m---------------------------------------------------------------------------\u001b[0m\n"
          ]
        }
      ]
    }
  ]
}