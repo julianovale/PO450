{
  "nbformat": 4,
  "nbformat_minor": 0,
  "metadata": {
    "colab": {
      "name": "ProjetoPO450_MLP.ipynb",
      "provenance": [],
      "collapsed_sections": [],
      "authorship_tag": "ABX9TyNxQiAcdG/P9MWnaiW+HS3A",
      "include_colab_link": true
    },
    "kernelspec": {
      "name": "python3",
      "display_name": "Python 3"
    },
    "language_info": {
      "name": "python"
    },
    "accelerator": "GPU"
  },
  "cells": [
    {
      "cell_type": "markdown",
      "metadata": {
        "id": "view-in-github",
        "colab_type": "text"
      },
      "source": [
        "<a href=\"https://colab.research.google.com/github/julianovale/PO450/blob/main/ProjetoPO450_MLP.ipynb\" target=\"_parent\"><img src=\"https://colab.research.google.com/assets/colab-badge.svg\" alt=\"Open In Colab\"/></a>"
      ]
    },
    {
      "cell_type": "markdown",
      "metadata": {
        "id": "JJ06AR2_Uma0"
      },
      "source": [
        "# Importações - Parâmetros - GPU"
      ]
    },
    {
      "cell_type": "code",
      "metadata": {
        "colab": {
          "base_uri": "https://localhost:8080/"
        },
        "id": "5eLTWVPZUagK",
        "outputId": "9392dfdc-59ba-407e-f720-741584ea885c"
      },
      "source": [
        "import torch\n",
        "from torch import nn, optim\n",
        "from torch.utils.data import DataLoader, Dataset\n",
        "\n",
        "from sklearn.preprocessing import StandardScaler\n",
        "\n",
        "import matplotlib.pyplot as plt\n",
        "import numpy as np\n",
        "import pandas as pd\n",
        "\n",
        "args = {\n",
        "    'batch_size': 20,\n",
        "    'num_workers': 2,\n",
        "    'num_classes': 10,\n",
        "    'lr': 1e-4,\n",
        "    'weight_decay': 5e-4,\n",
        "    'num_epochs': 60\n",
        "}\n",
        "\n",
        "if torch.cuda.is_available():\n",
        "  args['device'] = torch.device('cuda')\n",
        "else:\n",
        "  args['device'] = torch.device('cpu')\n",
        "\n",
        "print(args['device'])"
      ],
      "execution_count": 1,
      "outputs": [
        {
          "output_type": "stream",
          "text": [
            "cuda\n"
          ],
          "name": "stdout"
        }
      ]
    },
    {
      "cell_type": "markdown",
      "metadata": {
        "id": "tUp1lHjEUzep"
      },
      "source": [
        "# Importando o Dataset"
      ]
    },
    {
      "cell_type": "code",
      "metadata": {
        "id": "wnzJseX9Uywi"
      },
      "source": [
        "url = 'https://raw.githubusercontent.com/julianovale/PO450/main/seade/dados.csv'\n",
        "\n",
        "df = pd.read_csv(url, delimiter = ';', decimal=',', encoding= 'Windows-1252')"
      ],
      "execution_count": 2,
      "outputs": []
    },
    {
      "cell_type": "markdown",
      "metadata": {
        "id": "FFhGyaMKWm9U"
      },
      "source": [
        "# Separando Treinamento e Teste"
      ]
    },
    {
      "cell_type": "code",
      "metadata": {
        "colab": {
          "base_uri": "https://localhost:8080/",
          "height": 307
        },
        "id": "gdExbyaiW0-t",
        "outputId": "876ebf20-cd23-473a-c612-99aa5b9d144b"
      },
      "source": [
        "# torch.manual_seed(1)\n",
        "indices = torch.randperm(len(df)).tolist()\n",
        "\n",
        "train_size = int(0.8*len(df))\n",
        "df_train = df.iloc[indices[:train_size]]\n",
        "df_test = df.iloc[indices[train_size:]]\n",
        "\n",
        "print(len(df_train), len(df_test))\n",
        "display(df_train.head())\n",
        "\n",
        "df_train.to_csv('covid_train.csv', index=False)\n",
        "df_test.to_csv('covid_test.csv', index=False)\n",
        "\n",
        "! ls"
      ],
      "execution_count": 3,
      "outputs": [
        {
          "output_type": "stream",
          "text": [
            "516 129\n"
          ],
          "name": "stdout"
        },
        {
          "output_type": "display_data",
          "data": {
            "text/html": [
              "<div>\n",
              "<style scoped>\n",
              "    .dataframe tbody tr th:only-of-type {\n",
              "        vertical-align: middle;\n",
              "    }\n",
              "\n",
              "    .dataframe tbody tr th {\n",
              "        vertical-align: top;\n",
              "    }\n",
              "\n",
              "    .dataframe thead th {\n",
              "        text-align: right;\n",
              "    }\n",
              "</style>\n",
              "<table border=\"1\" class=\"dataframe\">\n",
              "  <thead>\n",
              "    <tr style=\"text-align: right;\">\n",
              "      <th></th>\n",
              "      <th>CodIBGE</th>\n",
              "      <th>Localidade</th>\n",
              "      <th>Populacao</th>\n",
              "      <th>Pop60mais%</th>\n",
              "      <th>DensDem</th>\n",
              "      <th>RazaoSexos</th>\n",
              "      <th>GrauUrb</th>\n",
              "      <th>TxMortalidade</th>\n",
              "      <th>PIBPerCapita</th>\n",
              "      <th>VlAdTPop</th>\n",
              "      <th>VlAdAPPop</th>\n",
              "      <th>VlAdIndPop</th>\n",
              "      <th>VlAdSrvPop</th>\n",
              "      <th>VlAdAgrPop</th>\n",
              "      <th>ImpostosPop</th>\n",
              "      <th>ConsEElTPop</th>\n",
              "      <th>ConsEEIndPop</th>\n",
              "      <th>ConsEECSPop</th>\n",
              "      <th>ConsEERurPop</th>\n",
              "      <th>ConsEEResPop</th>\n",
              "      <th>ConsEEIlPubPop</th>\n",
              "      <th>FrotaVeículosPop</th>\n",
              "      <th>AutomóveisPop</th>\n",
              "      <th>LeitosMilHab</th>\n",
              "      <th>LeitosSUSMilHab</th>\n",
              "      <th>AuxEnfMilHab</th>\n",
              "      <th>EnfMilHab</th>\n",
              "      <th>MedMilHab</th>\n",
              "      <th>TecEnfMilHab</th>\n",
              "      <th>EmpFormPop</th>\n",
              "      <th>RazaoEmpSexo</th>\n",
              "      <th>RendMedEmpregos</th>\n",
              "      <th>IDH-M</th>\n",
              "      <th>IDH-Long</th>\n",
              "      <th>IDH-Educ</th>\n",
              "      <th>IDH-Renda</th>\n",
              "      <th>RendaPCapita</th>\n",
              "      <th>DomMeioSMPC%</th>\n",
              "      <th>DomQuarSMPC%</th>\n",
              "      <th>Agua%</th>\n",
              "      <th>Lixo%</th>\n",
              "      <th>Esgoto%</th>\n",
              "      <th>CasosCovid</th>\n",
              "      <th>ObitosCovid</th>\n",
              "      <th>IncidCovid%</th>\n",
              "      <th>LetalidCovid%</th>\n",
              "      <th>MortalidCovid%</th>\n",
              "    </tr>\n",
              "  </thead>\n",
              "  <tbody>\n",
              "    <tr>\n",
              "      <th>227</th>\n",
              "      <td>3519709</td>\n",
              "      <td>Ibiúna</td>\n",
              "      <td>76867</td>\n",
              "      <td>14.227172</td>\n",
              "      <td>0.722346</td>\n",
              "      <td>101.47</td>\n",
              "      <td>37.09</td>\n",
              "      <td>7.31</td>\n",
              "      <td>22574.94</td>\n",
              "      <td>20.413258</td>\n",
              "      <td>3.864276</td>\n",
              "      <td>3.614141</td>\n",
              "      <td>13.339535</td>\n",
              "      <td>3.459582</td>\n",
              "      <td>1.727900</td>\n",
              "      <td>2.990776</td>\n",
              "      <td>0.317431</td>\n",
              "      <td>0.258485</td>\n",
              "      <td>1.067493</td>\n",
              "      <td>0.487778</td>\n",
              "      <td>0.859589</td>\n",
              "      <td>0.679420</td>\n",
              "      <td>0.381841</td>\n",
              "      <td>2.27</td>\n",
              "      <td>0.83</td>\n",
              "      <td>2.81</td>\n",
              "      <td>0.97</td>\n",
              "      <td>0.45</td>\n",
              "      <td>2.85</td>\n",
              "      <td>0.184448</td>\n",
              "      <td>1.162929</td>\n",
              "      <td>2205.95</td>\n",
              "      <td>0.710</td>\n",
              "      <td>0.832</td>\n",
              "      <td>0.614</td>\n",
              "      <td>0.700</td>\n",
              "      <td>504.51</td>\n",
              "      <td>30.31</td>\n",
              "      <td>10.19</td>\n",
              "      <td>90.33</td>\n",
              "      <td>98.57</td>\n",
              "      <td>54.54</td>\n",
              "      <td>3863</td>\n",
              "      <td>112</td>\n",
              "      <td>5.054298</td>\n",
              "      <td>2.899301</td>\n",
              "      <td>0.146539</td>\n",
              "    </tr>\n",
              "    <tr>\n",
              "      <th>643</th>\n",
              "      <td>3557105</td>\n",
              "      <td>Votuporanga</td>\n",
              "      <td>92193</td>\n",
              "      <td>18.659768</td>\n",
              "      <td>21.811267</td>\n",
              "      <td>94.82</td>\n",
              "      <td>97.20</td>\n",
              "      <td>7.59</td>\n",
              "      <td>32385.52</td>\n",
              "      <td>28.988452</td>\n",
              "      <td>3.760738</td>\n",
              "      <td>5.489286</td>\n",
              "      <td>23.014159</td>\n",
              "      <td>0.485007</td>\n",
              "      <td>2.778467</td>\n",
              "      <td>2.643151</td>\n",
              "      <td>0.318180</td>\n",
              "      <td>0.693654</td>\n",
              "      <td>0.341837</td>\n",
              "      <td>1.000390</td>\n",
              "      <td>0.289089</td>\n",
              "      <td>0.969759</td>\n",
              "      <td>0.465198</td>\n",
              "      <td>2.25</td>\n",
              "      <td>1.26</td>\n",
              "      <td>2.74</td>\n",
              "      <td>3.33</td>\n",
              "      <td>3.28</td>\n",
              "      <td>4.69</td>\n",
              "      <td>0.313733</td>\n",
              "      <td>1.331453</td>\n",
              "      <td>2244.17</td>\n",
              "      <td>0.790</td>\n",
              "      <td>0.857</td>\n",
              "      <td>0.744</td>\n",
              "      <td>0.772</td>\n",
              "      <td>808.00</td>\n",
              "      <td>12.51</td>\n",
              "      <td>3.95</td>\n",
              "      <td>99.50</td>\n",
              "      <td>99.79</td>\n",
              "      <td>98.95</td>\n",
              "      <td>11872</td>\n",
              "      <td>341</td>\n",
              "      <td>12.938099</td>\n",
              "      <td>2.872305</td>\n",
              "      <td>0.371622</td>\n",
              "    </tr>\n",
              "    <tr>\n",
              "      <th>514</th>\n",
              "      <td>3545704</td>\n",
              "      <td>Santa Albertina</td>\n",
              "      <td>5657</td>\n",
              "      <td>23.051087</td>\n",
              "      <td>0.208002</td>\n",
              "      <td>100.46</td>\n",
              "      <td>89.43</td>\n",
              "      <td>10.21</td>\n",
              "      <td>32196.95</td>\n",
              "      <td>30.148777</td>\n",
              "      <td>5.257918</td>\n",
              "      <td>9.239903</td>\n",
              "      <td>16.412397</td>\n",
              "      <td>4.496479</td>\n",
              "      <td>2.207534</td>\n",
              "      <td>2.187202</td>\n",
              "      <td>0.027223</td>\n",
              "      <td>0.495316</td>\n",
              "      <td>0.371575</td>\n",
              "      <td>0.987626</td>\n",
              "      <td>0.305462</td>\n",
              "      <td>0.783808</td>\n",
              "      <td>0.411349</td>\n",
              "      <td>0.00</td>\n",
              "      <td>0.00</td>\n",
              "      <td>0.18</td>\n",
              "      <td>2.82</td>\n",
              "      <td>0.70</td>\n",
              "      <td>6.87</td>\n",
              "      <td>0.350893</td>\n",
              "      <td>3.760192</td>\n",
              "      <td>2646.12</td>\n",
              "      <td>0.728</td>\n",
              "      <td>0.809</td>\n",
              "      <td>0.665</td>\n",
              "      <td>0.716</td>\n",
              "      <td>624.47</td>\n",
              "      <td>16.95</td>\n",
              "      <td>3.64</td>\n",
              "      <td>99.53</td>\n",
              "      <td>99.77</td>\n",
              "      <td>97.90</td>\n",
              "      <td>555</td>\n",
              "      <td>19</td>\n",
              "      <td>9.784908</td>\n",
              "      <td>3.423423</td>\n",
              "      <td>0.334979</td>\n",
              "    </tr>\n",
              "    <tr>\n",
              "      <th>257</th>\n",
              "      <td>3522307</td>\n",
              "      <td>Itapetininga</td>\n",
              "      <td>161509</td>\n",
              "      <td>14.302609</td>\n",
              "      <td>0.895018</td>\n",
              "      <td>99.06</td>\n",
              "      <td>92.14</td>\n",
              "      <td>6.72</td>\n",
              "      <td>30286.41</td>\n",
              "      <td>26.342698</td>\n",
              "      <td>3.638111</td>\n",
              "      <td>6.479236</td>\n",
              "      <td>18.343113</td>\n",
              "      <td>1.520349</td>\n",
              "      <td>3.093113</td>\n",
              "      <td>3.226285</td>\n",
              "      <td>1.802544</td>\n",
              "      <td>0.294120</td>\n",
              "      <td>0.166975</td>\n",
              "      <td>0.740083</td>\n",
              "      <td>0.222563</td>\n",
              "      <td>0.655753</td>\n",
              "      <td>0.351819</td>\n",
              "      <td>0.90</td>\n",
              "      <td>0.63</td>\n",
              "      <td>2.25</td>\n",
              "      <td>1.74</td>\n",
              "      <td>1.55</td>\n",
              "      <td>5.78</td>\n",
              "      <td>0.225065</td>\n",
              "      <td>1.403783</td>\n",
              "      <td>2171.76</td>\n",
              "      <td>0.763</td>\n",
              "      <td>0.864</td>\n",
              "      <td>0.705</td>\n",
              "      <td>0.728</td>\n",
              "      <td>629.40</td>\n",
              "      <td>21.92</td>\n",
              "      <td>6.61</td>\n",
              "      <td>98.78</td>\n",
              "      <td>99.71</td>\n",
              "      <td>95.22</td>\n",
              "      <td>13918</td>\n",
              "      <td>155</td>\n",
              "      <td>8.690603</td>\n",
              "      <td>1.113666</td>\n",
              "      <td>0.096784</td>\n",
              "    </tr>\n",
              "    <tr>\n",
              "      <th>378</th>\n",
              "      <td>3533403</td>\n",
              "      <td>Nova Odessa</td>\n",
              "      <td>58490</td>\n",
              "      <td>14.964951</td>\n",
              "      <td>7.865429</td>\n",
              "      <td>97.70</td>\n",
              "      <td>98.37</td>\n",
              "      <td>6.29</td>\n",
              "      <td>62369.32</td>\n",
              "      <td>51.197527</td>\n",
              "      <td>4.226202</td>\n",
              "      <td>17.045392</td>\n",
              "      <td>33.938369</td>\n",
              "      <td>0.213766</td>\n",
              "      <td>9.334511</td>\n",
              "      <td>6.733219</td>\n",
              "      <td>4.861805</td>\n",
              "      <td>0.588955</td>\n",
              "      <td>0.020414</td>\n",
              "      <td>0.987382</td>\n",
              "      <td>0.274662</td>\n",
              "      <td>0.772542</td>\n",
              "      <td>0.481330</td>\n",
              "      <td>0.92</td>\n",
              "      <td>0.92</td>\n",
              "      <td>3.35</td>\n",
              "      <td>1.32</td>\n",
              "      <td>0.56</td>\n",
              "      <td>4.11</td>\n",
              "      <td>0.334416</td>\n",
              "      <td>1.707641</td>\n",
              "      <td>3039.47</td>\n",
              "      <td>0.791</td>\n",
              "      <td>0.861</td>\n",
              "      <td>0.762</td>\n",
              "      <td>0.755</td>\n",
              "      <td>733.41</td>\n",
              "      <td>10.48</td>\n",
              "      <td>3.67</td>\n",
              "      <td>98.57</td>\n",
              "      <td>99.87</td>\n",
              "      <td>96.88</td>\n",
              "      <td>5107</td>\n",
              "      <td>148</td>\n",
              "      <td>8.799256</td>\n",
              "      <td>2.897983</td>\n",
              "      <td>0.255001</td>\n",
              "    </tr>\n",
              "  </tbody>\n",
              "</table>\n",
              "</div>"
            ],
            "text/plain": [
              "     CodIBGE       Localidade  ...  LetalidCovid%  MortalidCovid%\n",
              "227  3519709           Ibiúna  ...       2.899301        0.146539\n",
              "643  3557105      Votuporanga  ...       2.872305        0.371622\n",
              "514  3545704  Santa Albertina  ...       3.423423        0.334979\n",
              "257  3522307     Itapetininga  ...       1.113666        0.096784\n",
              "378  3533403      Nova Odessa  ...       2.897983        0.255001\n",
              "\n",
              "[5 rows x 47 columns]"
            ]
          },
          "metadata": {
            "tags": []
          }
        },
        {
          "output_type": "stream",
          "text": [
            "covid_test.csv\tcovid_train.csv  sample_data\n"
          ],
          "name": "stdout"
        }
      ]
    },
    {
      "cell_type": "markdown",
      "metadata": {
        "id": "-jRDmgPZe_tg"
      },
      "source": [
        "# Construindo classe dataset"
      ]
    },
    {
      "cell_type": "code",
      "metadata": {
        "id": "gKwHvryJfDMB"
      },
      "source": [
        "\n",
        "class Covid(Dataset):\n",
        "  def __init__(self, csv_path):\n",
        "    self.dados = pd.read_csv(csv_path).to_numpy()\n",
        "\n",
        "  def __getitem__(self, idx):\n",
        "    sample = self.dados[idx][3:-5]\n",
        "    label = self.dados[idx][-2:-1] \n",
        "\n",
        "    # converte para tensor\n",
        "    sample = torch.from_numpy(sample.astype(np.float32))\n",
        "    label = torch.from_numpy(label.astype(np.float32))\n",
        "\n",
        "    return sample, label\n",
        "\n",
        "  def __len__(self):\n",
        "    return len(self.dados)"
      ],
      "execution_count": 4,
      "outputs": []
    },
    {
      "cell_type": "code",
      "metadata": {
        "colab": {
          "base_uri": "https://localhost:8080/"
        },
        "id": "aqtGkZ0IfIO5",
        "outputId": "aa474bfc-1827-4cee-8e07-e0294b3655dd"
      },
      "source": [
        "train_set = Covid('covid_train.csv')\n",
        "test_set = Covid('covid_test.csv')\n",
        "\n",
        "dado, rotulo = train_set[0]\n",
        "print(rotulo)\n",
        "print(dado)"
      ],
      "execution_count": 5,
      "outputs": [
        {
          "output_type": "stream",
          "text": [
            "tensor([2.8993])\n",
            "tensor([1.4227e+01, 7.2235e-01, 1.0147e+02, 3.7090e+01, 7.3100e+00, 2.2575e+04,\n",
            "        2.0413e+01, 3.8643e+00, 3.6141e+00, 1.3340e+01, 3.4596e+00, 1.7279e+00,\n",
            "        2.9908e+00, 3.1743e-01, 2.5849e-01, 1.0675e+00, 4.8778e-01, 8.5959e-01,\n",
            "        6.7942e-01, 3.8184e-01, 2.2700e+00, 8.3000e-01, 2.8100e+00, 9.7000e-01,\n",
            "        4.5000e-01, 2.8500e+00, 1.8445e-01, 1.1629e+00, 2.2059e+03, 7.1000e-01,\n",
            "        8.3200e-01, 6.1400e-01, 7.0000e-01, 5.0451e+02, 3.0310e+01, 1.0190e+01,\n",
            "        9.0330e+01, 9.8570e+01, 5.4540e+01])\n"
          ],
          "name": "stdout"
        }
      ]
    },
    {
      "cell_type": "markdown",
      "metadata": {
        "id": "Or1OO688gW5o"
      },
      "source": [
        "# Dataloader"
      ]
    },
    {
      "cell_type": "code",
      "metadata": {
        "id": "jDpxlh-WgaLY"
      },
      "source": [
        "train_loader = DataLoader(train_set,\n",
        "                          batch_size=args['batch_size'],\n",
        "                          shuffle=True,\n",
        "                          num_workers=args['num_workers']\n",
        "                          ) \n",
        "\n",
        "test_loader = DataLoader(test_set,\n",
        "                          batch_size=args['batch_size'],\n",
        "                          shuffle=True,\n",
        "                          num_workers=args['num_workers']\n",
        "                          )"
      ],
      "execution_count": 6,
      "outputs": []
    },
    {
      "cell_type": "code",
      "metadata": {
        "colab": {
          "base_uri": "https://localhost:8080/"
        },
        "id": "RLh9oSfjg1IB",
        "outputId": "0c4dc3bb-3aa0-4e94-fdc8-25e26348b91b"
      },
      "source": [
        "for batch in train_loader:\n",
        "  \n",
        "  dado, rotulo = batch\n",
        "  print(dado.size(), rotulo.size())\n",
        "\n",
        "  break"
      ],
      "execution_count": 7,
      "outputs": [
        {
          "output_type": "stream",
          "text": [
            "torch.Size([20, 39]) torch.Size([20, 1])\n"
          ],
          "name": "stdout"
        }
      ]
    },
    {
      "cell_type": "markdown",
      "metadata": {
        "id": "SWYfjgjzg8E2"
      },
      "source": [
        "# Implementando MLP"
      ]
    },
    {
      "cell_type": "code",
      "metadata": {
        "id": "W7pBBTQyg-jw"
      },
      "source": [
        "class MLP(nn.Module):\n",
        "\n",
        "  def __init__(self, input_size, hidden_size, out_size):\n",
        "    super(MLP, self).__init__()\n",
        "\n",
        "    self.features  = nn.Sequential(\n",
        "                      nn.Linear(input_size, hidden_size),\n",
        "                      nn.ReLU(),\n",
        "                      nn.Linear(hidden_size, hidden_size),\n",
        "                      nn.ReLU()\n",
        "                    )\n",
        "    self.out     = nn.Linear(hidden_size, out_size)\n",
        "\n",
        "  def forward(self, X):\n",
        "\n",
        "    feature = self.features(X)\n",
        "    output  = self.out(feature)\n",
        "\n",
        "    return output\n",
        "\n",
        "input_size  = len(train_set[0][0])\n",
        "hidden_size = 128\n",
        "out_size    = 1 # para regressão é \"um\" \n",
        "\n",
        "net = MLP(input_size, hidden_size, out_size).to(args['device']) #cast na GPU"
      ],
      "execution_count": 8,
      "outputs": []
    },
    {
      "cell_type": "code",
      "metadata": {
        "colab": {
          "base_uri": "https://localhost:8080/"
        },
        "id": "3ymVMymthEc4",
        "outputId": "8e8e2f81-c83d-4c56-e63f-d100529ef4ef"
      },
      "source": [
        "net"
      ],
      "execution_count": 9,
      "outputs": [
        {
          "output_type": "execute_result",
          "data": {
            "text/plain": [
              "MLP(\n",
              "  (features): Sequential(\n",
              "    (0): Linear(in_features=39, out_features=128, bias=True)\n",
              "    (1): ReLU()\n",
              "    (2): Linear(in_features=128, out_features=128, bias=True)\n",
              "    (3): ReLU()\n",
              "  )\n",
              "  (out): Linear(in_features=128, out_features=1, bias=True)\n",
              ")"
            ]
          },
          "metadata": {
            "tags": []
          },
          "execution_count": 9
        }
      ]
    },
    {
      "cell_type": "markdown",
      "metadata": {
        "id": "vOJcIcnfhNp4"
      },
      "source": [
        "# Definindo função-objetivo (Loss) e otimizador"
      ]
    },
    {
      "cell_type": "code",
      "metadata": {
        "id": "9tXgbPm0hPNU"
      },
      "source": [
        "criterion = nn.L1Loss().to(args['device'])\n",
        "optimizer = optim.Adam(net.parameters(), lr=args['lr'], weight_decay=args['weight_decay'])"
      ],
      "execution_count": 10,
      "outputs": []
    },
    {
      "cell_type": "markdown",
      "metadata": {
        "id": "lA7Hwke-hUZP"
      },
      "source": [
        "# Fluxo de treinamento e validação"
      ]
    },
    {
      "cell_type": "code",
      "metadata": {
        "id": "Fz25jI6IhVwG"
      },
      "source": [
        "def train(train_loader, net, epoch):\n",
        "\n",
        "  net.train()\n",
        "\n",
        "  epoch_loss = []\n",
        "\n",
        "  for batch in train_loader:\n",
        "    \n",
        "    dado, rotulo = batch\n",
        "\n",
        "    # Cast na GPU\n",
        "    dado = dado.to(args['device']) \n",
        "    rotulo = rotulo.to(args['device']) \n",
        "\n",
        "    # Foward\n",
        "    pred = net(dado)\n",
        "    loss = criterion(pred, rotulo)\n",
        "    epoch_loss.append(loss.cpu().data)\n",
        "\n",
        "    # Backward\n",
        "    loss.backward()\n",
        "    optimizer.step()\n",
        "\n",
        "  epoch_loss = np.asarray(epoch_loss)\n",
        "\n",
        "  print(\"*************** TREINAMENTO ***************\")\n",
        "  print(\"Época: %d, Função de perda: %.4f +\\- %.4f\" % (epoch, epoch_loss.mean(), epoch_loss.std()))\n",
        "\n",
        "  return epoch_loss.mean()"
      ],
      "execution_count": 11,
      "outputs": []
    },
    {
      "cell_type": "code",
      "metadata": {
        "id": "z0AUdWVthYZ-"
      },
      "source": [
        "def test(test_loader, net, epoch):\n",
        "\n",
        "  net.eval()\n",
        "  with torch.no_grad():\n",
        "\n",
        "    epoch_loss = []\n",
        "    \n",
        "    for batch in test_loader:\n",
        "      \n",
        "      dado, rotulo = batch\n",
        "\n",
        "      # Cast na GPU\n",
        "      dado = dado.to(args['device']) \n",
        "      rotulo = rotulo.to(args['device']) \n",
        "\n",
        "      # Foward\n",
        "      pred = net(dado)\n",
        "      loss = criterion(pred, rotulo)\n",
        "      epoch_loss.append(loss.cpu().data)\n",
        "\n",
        "    epoch_loss = np.asarray(epoch_loss)\n",
        "    \n",
        "    print(\"*************** VALIDAÇÃO ***************\")\n",
        "    print(\"Época: %d, Função de perda: %.4f +\\- %.4f\" % (epoch, epoch_loss.mean(), epoch_loss.std()))\n",
        "\n",
        "  return epoch_loss.mean()"
      ],
      "execution_count": 12,
      "outputs": []
    },
    {
      "cell_type": "code",
      "metadata": {
        "colab": {
          "base_uri": "https://localhost:8080/"
        },
        "id": "shJMzssEhixo",
        "outputId": "5f6dd43f-b6c3-4e3a-dd6a-3287532c1d52"
      },
      "source": [
        "train_losses, test_losses = [], []\n",
        "\n",
        "for epoch in range(args['num_epochs']):\n",
        "  train_losses.append(train(train_loader, net, epoch))\n",
        "  test_losses.append(test(test_loader, net, epoch))"
      ],
      "execution_count": 13,
      "outputs": [
        {
          "output_type": "stream",
          "text": [
            "*************** TREINAMENTO ***************\n",
            "Época: 0, Função de perda: 476.2785 +\\- 275.4799\n",
            "*************** VALIDAÇÃO ***************\n",
            "Época: 0, Função de perda: 985.6123 +\\- 211.5506\n",
            "*************** TREINAMENTO ***************\n",
            "Época: 1, Função de perda: 664.0908 +\\- 375.6882\n",
            "*************** VALIDAÇÃO ***************\n",
            "Época: 1, Função de perda: 250.1176 +\\- 50.9224\n",
            "*************** TREINAMENTO ***************\n",
            "Época: 2, Função de perda: 1113.5979 +\\- 472.2031\n",
            "*************** VALIDAÇÃO ***************\n",
            "Época: 2, Função de perda: 1748.2069 +\\- 379.4308\n",
            "*************** TREINAMENTO ***************\n",
            "Época: 3, Função de perda: 1502.6941 +\\- 270.2719\n",
            "*************** VALIDAÇÃO ***************\n",
            "Época: 3, Função de perda: 1053.9746 +\\- 280.1407\n",
            "*************** TREINAMENTO ***************\n",
            "Época: 4, Função de perda: 445.3295 +\\- 264.0272\n",
            "*************** VALIDAÇÃO ***************\n",
            "Época: 4, Função de perda: 830.1431 +\\- 276.2753\n",
            "*************** TREINAMENTO ***************\n",
            "Época: 5, Função de perda: 1271.4578 +\\- 305.1332\n",
            "*************** VALIDAÇÃO ***************\n",
            "Época: 5, Função de perda: 1689.8151 +\\- 442.3021\n",
            "*************** TREINAMENTO ***************\n",
            "Época: 6, Função de perda: 1611.6073 +\\- 298.6376\n",
            "*************** VALIDAÇÃO ***************\n",
            "Época: 6, Função de perda: 1548.9591 +\\- 434.1630\n",
            "*************** TREINAMENTO ***************\n",
            "Época: 7, Função de perda: 1180.3694 +\\- 334.6445\n",
            "*************** VALIDAÇÃO ***************\n",
            "Época: 7, Função de perda: 842.2709 +\\- 168.6633\n",
            "*************** TREINAMENTO ***************\n",
            "Época: 8, Função de perda: 466.2253 +\\- 204.4455\n",
            "*************** VALIDAÇÃO ***************\n",
            "Época: 8, Função de perda: 104.0127 +\\- 21.4095\n",
            "*************** TREINAMENTO ***************\n",
            "Época: 9, Função de perda: 227.8555 +\\- 168.1277\n",
            "*************** VALIDAÇÃO ***************\n",
            "Época: 9, Função de perda: 439.9686 +\\- 99.5312\n",
            "*************** TREINAMENTO ***************\n",
            "Época: 10, Função de perda: 497.8528 +\\- 108.2902\n",
            "*************** VALIDAÇÃO ***************\n",
            "Época: 10, Função de perda: 540.7913 +\\- 93.1017\n",
            "*************** TREINAMENTO ***************\n",
            "Época: 11, Função de perda: 492.5015 +\\- 98.8101\n",
            "*************** VALIDAÇÃO ***************\n",
            "Época: 11, Função de perda: 447.8484 +\\- 60.3044\n",
            "*************** TREINAMENTO ***************\n",
            "Época: 12, Função de perda: 367.5261 +\\- 90.6640\n",
            "*************** VALIDAÇÃO ***************\n",
            "Época: 12, Função de perda: 287.0414 +\\- 76.5519\n",
            "*************** TREINAMENTO ***************\n",
            "Época: 13, Função de perda: 202.2564 +\\- 93.7291\n",
            "*************** VALIDAÇÃO ***************\n",
            "Época: 13, Função de perda: 103.9140 +\\- 37.9512\n",
            "*************** TREINAMENTO ***************\n",
            "Época: 14, Função de perda: 51.9246 +\\- 36.9216\n",
            "*************** VALIDAÇÃO ***************\n",
            "Época: 14, Função de perda: 103.1624 +\\- 21.1457\n",
            "*************** TREINAMENTO ***************\n",
            "Época: 15, Função de perda: 163.3455 +\\- 47.4514\n",
            "*************** VALIDAÇÃO ***************\n",
            "Época: 15, Função de perda: 213.1230 +\\- 47.1481\n",
            "*************** TREINAMENTO ***************\n",
            "Época: 16, Função de perda: 203.0988 +\\- 35.1350\n",
            "*************** VALIDAÇÃO ***************\n",
            "Época: 16, Função de perda: 195.4118 +\\- 42.3522\n",
            "*************** TREINAMENTO ***************\n",
            "Época: 17, Função de perda: 146.8152 +\\- 31.5640\n",
            "*************** VALIDAÇÃO ***************\n",
            "Época: 17, Função de perda: 97.6099 +\\- 20.1701\n",
            "*************** TREINAMENTO ***************\n",
            "Época: 18, Função de perda: 43.8877 +\\- 30.7358\n",
            "*************** VALIDAÇÃO ***************\n",
            "Época: 18, Função de perda: 36.1291 +\\- 11.5445\n",
            "*************** TREINAMENTO ***************\n",
            "Época: 19, Função de perda: 81.2179 +\\- 27.3766\n",
            "*************** VALIDAÇÃO ***************\n",
            "Época: 19, Função de perda: 123.9559 +\\- 32.2583\n",
            "*************** TREINAMENTO ***************\n",
            "Época: 20, Função de perda: 130.2104 +\\- 29.9357\n",
            "*************** VALIDAÇÃO ***************\n",
            "Época: 20, Função de perda: 123.7150 +\\- 43.8213\n",
            "*************** TREINAMENTO ***************\n",
            "Época: 21, Função de perda: 93.1867 +\\- 34.3313\n",
            "*************** VALIDAÇÃO ***************\n",
            "Época: 21, Função de perda: 57.7496 +\\- 11.0719\n",
            "*************** TREINAMENTO ***************\n",
            "Época: 22, Função de perda: 23.8640 +\\- 17.3070\n",
            "*************** VALIDAÇÃO ***************\n",
            "Época: 22, Função de perda: 16.5845 +\\- 1.8514\n",
            "*************** TREINAMENTO ***************\n",
            "Época: 23, Função de perda: 41.0359 +\\- 18.4728\n",
            "*************** VALIDAÇÃO ***************\n",
            "Época: 23, Função de perda: 61.0617 +\\- 15.4712\n",
            "*************** TREINAMENTO ***************\n",
            "Época: 24, Função de perda: 64.5083 +\\- 14.2209\n",
            "*************** VALIDAÇÃO ***************\n",
            "Época: 24, Função de perda: 63.9246 +\\- 16.1931\n",
            "*************** TREINAMENTO ***************\n",
            "Época: 25, Função de perda: 47.3632 +\\- 13.5085\n",
            "*************** VALIDAÇÃO ***************\n",
            "Época: 25, Função de perda: 24.8882 +\\- 5.8703\n",
            "*************** TREINAMENTO ***************\n",
            "Época: 26, Função de perda: 16.3928 +\\- 10.5181\n",
            "*************** VALIDAÇÃO ***************\n",
            "Época: 26, Função de perda: 36.6478 +\\- 7.8136\n",
            "*************** TREINAMENTO ***************\n",
            "Época: 27, Função de perda: 48.2700 +\\- 12.4534\n",
            "*************** VALIDAÇÃO ***************\n",
            "Época: 27, Função de perda: 51.8067 +\\- 14.3644\n",
            "*************** TREINAMENTO ***************\n",
            "Época: 28, Função de perda: 38.8779 +\\- 14.7456\n",
            "*************** VALIDAÇÃO ***************\n",
            "Época: 28, Função de perda: 26.1026 +\\- 7.1483\n",
            "*************** TREINAMENTO ***************\n",
            "Época: 29, Função de perda: 10.6185 +\\- 7.3379\n",
            "*************** VALIDAÇÃO ***************\n",
            "Época: 29, Função de perda: 2.9372 +\\- 0.5151\n",
            "*************** TREINAMENTO ***************\n",
            "Época: 30, Função de perda: 6.8768 +\\- 1.8161\n",
            "*************** VALIDAÇÃO ***************\n",
            "Época: 30, Função de perda: 6.9725 +\\- 1.1163\n",
            "*************** TREINAMENTO ***************\n",
            "Época: 31, Função de perda: 4.0652 +\\- 1.6422\n",
            "*************** VALIDAÇÃO ***************\n",
            "Época: 31, Função de perda: 6.8966 +\\- 2.2935\n",
            "*************** TREINAMENTO ***************\n",
            "Época: 32, Função de perda: 8.8841 +\\- 3.0476\n",
            "*************** VALIDAÇÃO ***************\n",
            "Época: 32, Função de perda: 9.9640 +\\- 2.2977\n",
            "*************** TREINAMENTO ***************\n",
            "Época: 33, Função de perda: 4.8654 +\\- 2.3232\n",
            "*************** VALIDAÇÃO ***************\n",
            "Época: 33, Função de perda: 2.5584 +\\- 0.6584\n",
            "*************** TREINAMENTO ***************\n",
            "Época: 34, Função de perda: 5.3742 +\\- 2.0783\n",
            "*************** VALIDAÇÃO ***************\n",
            "Época: 34, Função de perda: 8.7721 +\\- 3.1650\n",
            "*************** TREINAMENTO ***************\n",
            "Época: 35, Função de perda: 7.4345 +\\- 1.0718\n",
            "*************** VALIDAÇÃO ***************\n",
            "Época: 35, Função de perda: 5.5996 +\\- 1.1116\n",
            "*************** TREINAMENTO ***************\n",
            "Época: 36, Função de perda: 4.1374 +\\- 2.0093\n",
            "*************** VALIDAÇÃO ***************\n",
            "Época: 36, Função de perda: 6.6439 +\\- 2.3124\n",
            "*************** TREINAMENTO ***************\n",
            "Época: 37, Função de perda: 4.6906 +\\- 2.0671\n",
            "*************** VALIDAÇÃO ***************\n",
            "Época: 37, Função de perda: 2.4512 +\\- 0.6050\n",
            "*************** TREINAMENTO ***************\n",
            "Época: 38, Função de perda: 4.2278 +\\- 1.5539\n",
            "*************** VALIDAÇÃO ***************\n",
            "Época: 38, Função de perda: 6.1947 +\\- 1.5506\n",
            "*************** TREINAMENTO ***************\n",
            "Época: 39, Função de perda: 3.9554 +\\- 1.4659\n",
            "*************** VALIDAÇÃO ***************\n",
            "Época: 39, Função de perda: 2.1062 +\\- 0.7203\n",
            "*************** TREINAMENTO ***************\n",
            "Época: 40, Função de perda: 2.5283 +\\- 0.7791\n",
            "*************** VALIDAÇÃO ***************\n",
            "Época: 40, Função de perda: 4.1533 +\\- 0.8437\n",
            "*************** TREINAMENTO ***************\n",
            "Época: 41, Função de perda: 2.5907 +\\- 1.0508\n",
            "*************** VALIDAÇÃO ***************\n",
            "Época: 41, Função de perda: 1.5624 +\\- 0.4194\n",
            "*************** TREINAMENTO ***************\n",
            "Época: 42, Função de perda: 3.2530 +\\- 1.4378\n",
            "*************** VALIDAÇÃO ***************\n",
            "Época: 42, Função de perda: 4.4225 +\\- 1.4418\n",
            "*************** TREINAMENTO ***************\n",
            "Época: 43, Função de perda: 3.8983 +\\- 0.7365\n",
            "*************** VALIDAÇÃO ***************\n",
            "Época: 43, Função de perda: 2.8059 +\\- 0.5898\n",
            "*************** TREINAMENTO ***************\n",
            "Época: 44, Função de perda: 2.3723 +\\- 0.8494\n",
            "*************** VALIDAÇÃO ***************\n",
            "Época: 44, Função de perda: 2.1911 +\\- 1.1112\n",
            "*************** TREINAMENTO ***************\n",
            "Época: 45, Função de perda: 1.9796 +\\- 1.0589\n",
            "*************** VALIDAÇÃO ***************\n",
            "Época: 45, Função de perda: 2.9772 +\\- 0.7025\n",
            "*************** TREINAMENTO ***************\n",
            "Época: 46, Função de perda: 2.3629 +\\- 0.9448\n",
            "*************** VALIDAÇÃO ***************\n",
            "Época: 46, Função de perda: 2.4251 +\\- 0.7200\n",
            "*************** TREINAMENTO ***************\n",
            "Época: 47, Função de perda: 1.6132 +\\- 0.7613\n",
            "*************** VALIDAÇÃO ***************\n",
            "Época: 47, Função de perda: 1.9986 +\\- 0.8052\n",
            "*************** TREINAMENTO ***************\n",
            "Época: 48, Função de perda: 1.8083 +\\- 0.5369\n",
            "*************** VALIDAÇÃO ***************\n",
            "Época: 48, Função de perda: 2.2322 +\\- 0.4708\n",
            "*************** TREINAMENTO ***************\n",
            "Época: 49, Função de perda: 2.2764 +\\- 0.3754\n",
            "*************** VALIDAÇÃO ***************\n",
            "Época: 49, Função de perda: 2.4053 +\\- 0.6376\n",
            "*************** TREINAMENTO ***************\n",
            "Época: 50, Função de perda: 2.6530 +\\- 0.4132\n",
            "*************** VALIDAÇÃO ***************\n",
            "Época: 50, Função de perda: 2.7112 +\\- 0.5372\n",
            "*************** TREINAMENTO ***************\n",
            "Época: 51, Função de perda: 2.9083 +\\- 0.3489\n",
            "*************** VALIDAÇÃO ***************\n",
            "Época: 51, Função de perda: 2.8498 +\\- 0.7459\n",
            "*************** TREINAMENTO ***************\n",
            "Época: 52, Função de perda: 2.9572 +\\- 0.3134\n",
            "*************** VALIDAÇÃO ***************\n",
            "Época: 52, Função de perda: 2.8439 +\\- 0.2933\n",
            "*************** TREINAMENTO ***************\n",
            "Época: 53, Função de perda: 2.9619 +\\- 0.4759\n",
            "*************** VALIDAÇÃO ***************\n",
            "Época: 53, Função de perda: 2.7944 +\\- 0.5166\n",
            "*************** TREINAMENTO ***************\n",
            "Época: 54, Função de perda: 2.9475 +\\- 0.4495\n",
            "*************** VALIDAÇÃO ***************\n",
            "Época: 54, Função de perda: 2.8017 +\\- 0.6630\n",
            "*************** TREINAMENTO ***************\n",
            "Época: 55, Função de perda: 2.9413 +\\- 0.5071\n",
            "*************** VALIDAÇÃO ***************\n",
            "Época: 55, Função de perda: 2.8154 +\\- 0.2910\n",
            "*************** TREINAMENTO ***************\n",
            "Época: 56, Função de perda: 2.9262 +\\- 0.4529\n",
            "*************** VALIDAÇÃO ***************\n",
            "Época: 56, Função de perda: 2.7668 +\\- 0.5067\n",
            "*************** TREINAMENTO ***************\n",
            "Época: 57, Função de perda: 2.9009 +\\- 0.4013\n",
            "*************** VALIDAÇÃO ***************\n",
            "Época: 57, Função de perda: 2.7592 +\\- 0.4569\n",
            "*************** TREINAMENTO ***************\n",
            "Época: 58, Função de perda: 2.8957 +\\- 0.3776\n",
            "*************** VALIDAÇÃO ***************\n",
            "Época: 58, Função de perda: 2.7992 +\\- 0.3674\n",
            "*************** TREINAMENTO ***************\n",
            "Época: 59, Função de perda: 2.9132 +\\- 0.4416\n",
            "*************** VALIDAÇÃO ***************\n",
            "Época: 59, Função de perda: 2.6938 +\\- 0.6342\n"
          ],
          "name": "stdout"
        }
      ]
    },
    {
      "cell_type": "code",
      "metadata": {
        "colab": {
          "base_uri": "https://localhost:8080/",
          "height": 53
        },
        "id": "Tvx9qBiKhnA_",
        "outputId": "8c6e9114-7a24-4f21-d792-2d71267ba068"
      },
      "source": [
        "'''\n",
        "Xtest = torch.stack([tup[0] for tup in test_set])\n",
        "Xtest = Xtest.to(args['device'])\n",
        "\n",
        "ytest = torch.stack([tup[1] for tup in test_set])\n",
        "ypred = net(Xtest).cpu().data\n",
        "\n",
        "data = torch.cat((ytest, ypred), axis=1)\n",
        "\n",
        "df_results = pd.DataFrame(data, columns=['ypred', 'ytest'])\n",
        "df_results.head(20)\n",
        "'''"
      ],
      "execution_count": 14,
      "outputs": [
        {
          "output_type": "execute_result",
          "data": {
            "application/vnd.google.colaboratory.intrinsic+json": {
              "type": "string"
            },
            "text/plain": [
              "\"\\nXtest = torch.stack([tup[0] for tup in test_set])\\nXtest = Xtest.to(args['device'])\\n\\nytest = torch.stack([tup[1] for tup in test_set])\\nypred = net(Xtest).cpu().data\\n\\ndata = torch.cat((ytest, ypred), axis=1)\\n\\ndf_results = pd.DataFrame(data, columns=['ypred', 'ytest'])\\ndf_results.head(20)\\n\""
            ]
          },
          "metadata": {
            "tags": []
          },
          "execution_count": 14
        }
      ]
    },
    {
      "cell_type": "code",
      "metadata": {
        "colab": {
          "base_uri": "https://localhost:8080/",
          "height": 581
        },
        "id": "vp0MpOcZhqG7",
        "outputId": "27cf07c2-3d01-4e67-bc30-478e290e5e6f"
      },
      "source": [
        "plt.figure(figsize=(20,9))\n",
        "plt.plot(train_losses, label=\"Treinamento\")\n",
        "plt.plot(test_losses, label=\"Teste\", linewidth=3, alpha=0.5)\n",
        "plt.xlabel(\"Época\", fontsize=16)\n",
        "plt.ylabel(\"Função de perda\", fontsize=16)\n",
        "plt.title(\"Convergência\", fontsize=20)\n",
        "plt.legend()\n",
        "plt.show()"
      ],
      "execution_count": 15,
      "outputs": [
        {
          "output_type": "display_data",
          "data": {
            "image/png": "[encoded data removed]",
            "text/plain": [
              "<Figure size 1440x648 with 1 Axes>"
            ]
          },
          "metadata": {
            "tags": [],
            "needs_background": "light"
          }
        }
      ]
    }
  ]
}