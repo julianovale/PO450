{
  "nbformat": 4,
  "nbformat_minor": 0,
  "metadata": {
    "colab": {
      "name": "Semana04_PO450.ipynb",
      "provenance": [],
      "collapsed_sections": [],
      "authorship_tag": "ABX9TyP00hO940SdBe455rrkOx6G",
      "include_colab_link": true
    },
    "kernelspec": {
      "name": "python3",
      "display_name": "Python 3"
    },
    "language_info": {
      "name": "python"
    }
  },
  "cells": [
    {
      "cell_type": "markdown",
      "metadata": {
        "id": "view-in-github",
        "colab_type": "text"
      },
      "source": [
        "<a href=\"https://colab.research.google.com/github/julianovale/PO450/blob/main/Semana04_PO450.ipynb\" target=\"_parent\"><img src=\"https://colab.research.google.com/assets/colab-badge.svg\" alt=\"Open In Colab\"/></a>"
      ]
    },
    {
      "cell_type": "markdown",
      "metadata": {
        "id": "v_FDb3FnRPXH"
      },
      "source": [
        "# Tema da aula: Regressão\n",
        "## Notas\n",
        "\n",
        "**Previsão**: tem a ver com tempo; <br/>\n",
        "**Predição**: Não tem a ver com tempo.<br/>\n",
        "\n",
        "\n",
        "\n"
      ]
    },
    {
      "cell_type": "code",
      "metadata": {
        "id": "7zZXja7-uofI"
      },
      "source": [
        "import numpy as np\n",
        "import matplotlib.pyplot as plt\n",
        "from scipy.optimize import minimize\n",
        "from numpy.linalg import inv"
      ],
      "execution_count": null,
      "outputs": []
    },
    {
      "cell_type": "code",
      "metadata": {
        "id": "d5hicQVweApO",
        "colab": {
          "base_uri": "https://localhost:8080/",
          "height": 287
        },
        "outputId": "7538e54f-77d1-462b-f437-c8774fb052ba"
      },
      "source": [
        "N = 1000\n",
        "x = 5*np.random.rand(N, 1)\n",
        "noise = np.random.randn(N, 1)\n",
        "y = 1*np.ones((N, 1))+2*x+np.sin(5*x)+1*noise\n",
        "\n",
        "X_ext = np.concatenate((np.ones((N,1)),x,np.sin(5*x)), axis=1)\n",
        "\n",
        "Aux_1 = inv(np.dot(np.transpose(X_ext),X_ext))\n",
        "Aux_2 = np.dot(Aux_1,np.transpose(X_ext))\n",
        "w = np.dot(Aux_2, y)\n",
        "\n",
        "y_hat = np.dot(X_ext, w)\n",
        "residual = y_hat-y\n",
        "mse_error = np.power(residual,2).mean()\n",
        "\n",
        "x_aux = np.linspace(0,5,200)\n",
        "x_aux.resize(200,1)\n",
        "X_aux = np.concatenate((np.ones((200,1)),x_aux, np.sin(5*x_aux)), axis=1)\n",
        "y_aux = np.dot(X_aux,w)\n",
        "\n",
        "plt.plot(x, y, 'ro')\n",
        "plt.plot(x_aux, y_aux, 'k')\n",
        "plt.xlabel('x', fontsize = 18)\n",
        "plt.ylabel('y', fontsize = 16)\n",
        "plt.show()"
      ],
      "execution_count": null,
      "outputs": [
        {
          "output_type": "display_data",
          "data": {
            "image/png": "[encoded data removed]",
            "text/plain": [
              "<Figure size 432x288 with 1 Axes>"
            ]
          },
          "metadata": {
            "tags": [],
            "needs_background": "light"
          }
        }
      ]
    },
    {
      "cell_type": "code",
      "metadata": {
        "id": "4fv_snAtZWhH"
      },
      "source": [
        "from sklearn.linear_model import LinearRegression"
      ],
      "execution_count": null,
      "outputs": []
    },
    {
      "cell_type": "code",
      "metadata": {
        "colab": {
          "base_uri": "https://localhost:8080/"
        },
        "id": "kmSLdYbbbtvy",
        "outputId": "0ef74029-b7f8-4c5e-d073-4df2b48c4ac0"
      },
      "source": [
        "N = 1000\n",
        "x = 5*np.random.rand(N, 1)\n",
        "noise = np.random.randn(N, 1)\n",
        "y = 1*np.ones((N, 1))+2*x+np.sin(5*x)+1*noise\n",
        "\n",
        "X = np.concatenate((np.ones((N,1)),x,np.sin(5*x)), axis=1)\n",
        "\n",
        "reg = LinearRegression().fit(X,y)\n",
        "reg.score(X, y)\n",
        "print(reg.coef_)\n",
        "print(reg.intercept_)"
      ],
      "execution_count": null,
      "outputs": [
        {
          "output_type": "stream",
          "text": [
            "[[0.         2.01074643 0.95540267]]\n",
            "[0.96082928]\n"
          ],
          "name": "stdout"
        }
      ]
    },
    {
      "cell_type": "code",
      "metadata": {
        "colab": {
          "base_uri": "https://localhost:8080/",
          "height": 287
        },
        "id": "IkAdtISoenkG",
        "outputId": "4c9cce4c-dfaf-4a53-b0d7-4d73a5111354"
      },
      "source": [
        "\"\"\"\n",
        "PO450 - Introducao ao Aprendizado de Maquina\n",
        "Exemplo de Regressao Nao-linear\n",
        "\"\"\"\n",
        "\n",
        "# Importanto pacotes\n",
        "import matplotlib.pyplot as plt\n",
        "import numpy as np\n",
        "from numpy.linalg import inv\n",
        "\n",
        "# Geracao de dados sinteticos\n",
        "N = 1000 # Numero de amostras\n",
        "x = 5*np.random.rand(N,1) # Geracao de amostras de uma uniforme no intervalo [0,5] - Variavel independente (entrada)\n",
        "noise = np.random.randn(N, 1) # Geracao de ruido Gaussiano\n",
        "y = 1.*np.ones((N, 1)) +  2*x + np.sin(5*x) + 0.3*noise # Variavel dependente (saida)\n",
        "\n",
        "# Regressao LS\n",
        "Z = np.concatenate((np.ones((N, 1)),x,np.sin(5*x)), axis=1) # Formacao da matrix de dados Z\n",
        "\n",
        "# Estimacao de w pela pseudo-inversa (solucao de LS)\n",
        "Aux_1 = inv(np.dot(np.transpose(Z),Z))\n",
        "Pseudo_Z = np.dot(Aux_1,np.transpose(Z))\n",
        "w = np.dot(Pseudo_Z,y) \n",
        "\n",
        "# Calculando saida predita, residuo e erro quadratico medio (MSE)\n",
        "y_hat = np.dot(Z,w) # saida predita\n",
        "residual = y_hat-y # calculo do residuo \n",
        "mse_error = np.power(residual,2).mean() # calculo do MSE\n",
        "\n",
        "# Obtendo a curva referente ao modelo de regressao\n",
        "x_aux = np.linspace(0,5,200)\n",
        "x_aux.resize(200,1)\n",
        "X_aux = np.concatenate((np.ones((200, 1)),x_aux,np.sin(5*x_aux)), axis=1)\n",
        "y_aux = np.dot(X_aux,w)\n",
        "\n",
        "# Plot da curva de regressao e das saidas observadas\n",
        "plt.plot(x, y, 'ro')\n",
        "plt.plot(x_aux, y_aux,'k')\n",
        "plt.xlabel('x', fontsize=18)\n",
        "plt.ylabel('y', fontsize=16)\n",
        "plt.show()"
      ],
      "execution_count": 1,
      "outputs": [
        {
          "output_type": "display_data",
          "data": {
            "image/png": "[encoded data removed]",
            "text/plain": [
              "<Figure size 432x288 with 1 Axes>"
            ]
          },
          "metadata": {
            "tags": [],
            "needs_background": "light"
          }
        }
      ]
    }
  ]
}