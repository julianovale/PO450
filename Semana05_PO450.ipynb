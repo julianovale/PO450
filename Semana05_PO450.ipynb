{
  "nbformat": 4,
  "nbformat_minor": 0,
  "metadata": {
    "colab": {
      "name": "Semana05_PO450.ipynb",
      "provenance": [],
      "collapsed_sections": [],
      "authorship_tag": "ABX9TyNSHqRFQ814uW1znCwDMSZR",
      "include_colab_link": true
    },
    "kernelspec": {
      "name": "python3",
      "display_name": "Python 3"
    },
    "language_info": {
      "name": "python"
    }
  },
  "cells": [
    {
      "cell_type": "markdown",
      "metadata": {
        "id": "view-in-github",
        "colab_type": "text"
      },
      "source": [
        "<a href=\"https://colab.research.google.com/github/julianovale/PO450/blob/main/Semana05_PO450.ipynb\" target=\"_parent\"><img src=\"https://colab.research.google.com/assets/colab-badge.svg\" alt=\"Open In Colab\"/></a>"
      ]
    },
    {
      "cell_type": "code",
      "metadata": {
        "id": "NObtCKpbhiWT"
      },
      "source": [
        "import matplotlib.pyplot as plt\n",
        "import numpy as np\n",
        "from sklearn.model_selection import train_test_split\n",
        "from sklearn.linear_model import LinearRegression\n",
        "from sklearn.metrics import mean_squared_error\n",
        "from sklearn.metrics import r2_score"
      ],
      "execution_count": 196,
      "outputs": []
    },
    {
      "cell_type": "code",
      "metadata": {
        "id": "IsTA9ru3mLpC"
      },
      "source": [
        "# Definição da função\n",
        "def model_f(x):\n",
        "  y = 1 + 2*x - x**2 - x**3 + 3*np.sin(5*x)\n",
        "  return y"
      ],
      "execution_count": 197,
      "outputs": []
    },
    {
      "cell_type": "code",
      "metadata": {
        "id": "qMTMiec2m02J"
      },
      "source": [
        "# Geração de dados\n",
        "n = 300 # número de amostras\n",
        "x = 5*np.random.rand(n, 1)\n",
        "noise = np.random.randn(n, 1)\n",
        "y = model_f(x)+5*noise"
      ],
      "execution_count": 198,
      "outputs": []
    },
    {
      "cell_type": "code",
      "metadata": {
        "colab": {
          "base_uri": "https://localhost:8080/",
          "height": 267
        },
        "id": "sTkTg7T-nDsa",
        "outputId": "bfd781e3-0d6f-4bc4-a80b-526f172e12a9"
      },
      "source": [
        "# Plotando a distribuição\n",
        "plt.plot(x,y,'ro')\n",
        "plt.show()"
      ],
      "execution_count": 199,
      "outputs": [
        {
          "output_type": "display_data",
          "data": {
            "image/png": "[encoded data removed]",
            "text/plain": [
              "<Figure size 432x288 with 1 Axes>"
            ]
          },
          "metadata": {
            "tags": [],
            "needs_background": "light"
          }
        }
      ]
    },
    {
      "cell_type": "code",
      "metadata": {
        "id": "YwA1GOZkod9b"
      },
      "source": [
        "# Regressão\n",
        "\n",
        "prop_test = 0.3\n",
        "x_train, x_test, y_train, y_test = train_test_split(x, y, test_size=prop_test)\n",
        "\n",
        "def concat_model(x):\n",
        "  z = np.concatenate((x, x**2, x**3, np.sin(5*x)), axis = 1)\n",
        "  return z\n",
        "\n",
        "z_train = concat_model(x_train)\n",
        "z_test =  concat_model(x_test)"
      ],
      "execution_count": 200,
      "outputs": []
    },
    {
      "cell_type": "code",
      "metadata": {
        "colab": {
          "base_uri": "https://localhost:8080/"
        },
        "id": "oipniLL4rK6p",
        "outputId": "4cc4b6a0-3c3c-4d90-e971-3e58f79949c5"
      },
      "source": [
        "model_reg_lin = LinearRegression()\n",
        "model_reg_lin.fit(z_train, y_train)"
      ],
      "execution_count": 201,
      "outputs": [
        {
          "output_type": "execute_result",
          "data": {
            "text/plain": [
              "LinearRegression(copy_X=True, fit_intercept=True, n_jobs=None, normalize=False)"
            ]
          },
          "metadata": {
            "tags": []
          },
          "execution_count": 201
        }
      ]
    },
    {
      "cell_type": "code",
      "metadata": {
        "colab": {
          "base_uri": "https://localhost:8080/"
        },
        "id": "vXvFRn0orr6c",
        "outputId": "38409362-ce76-4536-d744-5f552092c8bd"
      },
      "source": [
        "model_reg_lin.coef_"
      ],
      "execution_count": 202,
      "outputs": [
        {
          "output_type": "execute_result",
          "data": {
            "text/plain": [
              "array([[ 2.25978507, -1.18439964, -0.96537067,  3.08337874]])"
            ]
          },
          "metadata": {
            "tags": []
          },
          "execution_count": 202
        }
      ]
    },
    {
      "cell_type": "code",
      "metadata": {
        "colab": {
          "base_uri": "https://localhost:8080/"
        },
        "id": "BJ9z8gFCs6G5",
        "outputId": "6bc32d82-a4a4-49d3-8b6c-dbaee267d5b5"
      },
      "source": [
        "y_pred_train = model_reg_lin.predict(z_train)\n",
        "y_pred_test = model_reg_lin.predict(z_test)\n",
        "res_train = y_train - y_pred_train\n",
        "res_test = y_test - y_pred_test \n",
        "\n",
        "MSE_train = mean_squared_error(y_train, y_pred_train)\n",
        "MSE_test = mean_squared_error(y_test, y_pred_test)\n",
        "\n",
        "print(MSE_train)\n",
        "print(MSE_test)"
      ],
      "execution_count": 203,
      "outputs": [
        {
          "output_type": "stream",
          "text": [
            "23.765434008396376\n",
            "19.451357401808664\n"
          ],
          "name": "stdout"
        }
      ]
    },
    {
      "cell_type": "code",
      "metadata": {
        "colab": {
          "base_uri": "https://localhost:8080/"
        },
        "id": "0uJMkG2Rw-Mo",
        "outputId": "1f393ad1-8cee-4cc1-db98-ba8b61ddb434"
      },
      "source": [
        "r2_score_train = r2_score(y_train, y_pred_train)\n",
        "r2_score_test = r2_score(y_test, y_pred_test)\n",
        "\n",
        "print(r2_score_train)\n",
        "print(r2_score_test)"
      ],
      "execution_count": 204,
      "outputs": [
        {
          "output_type": "stream",
          "text": [
            "0.9878538039343157\n",
            "0.9915080507371612\n"
          ],
          "name": "stdout"
        }
      ]
    },
    {
      "cell_type": "code",
      "metadata": {
        "colab": {
          "base_uri": "https://localhost:8080/",
          "height": 601
        },
        "id": "WxlnCblg0rT5",
        "outputId": "1d770b28-9f01-44c5-e19c-f6bda6d736bd"
      },
      "source": [
        "# figuras\n",
        "plt.plot(x_train, y_train, 'ro')\n",
        "plt.xlabel('x', fontsize=20)\n",
        "plt.ylabel('y', fontsize=20)\n",
        "x_grid = np.arange(0, 5, 0.01)\n",
        "x_grid.resize(x_grid.size,1)\n",
        "Z_grid = concat_model(x_grid)\n",
        "y_pred_grid = model_reg_lin.predict(Z_grid)\n",
        "plt.title('Treinamento', fontsize=20)\n",
        "plt.plot(x_grid, y_pred_grid,'k')\n",
        "plt.plot(x_grid, model_f(x_grid),'b')\n",
        "plt.show()\n",
        "\n",
        "plt.plot(x_test, y_test, 'ro')\n",
        "plt.xlabel('x', fontsize=20)\n",
        "plt.ylabel('y', fontsize=20)\n",
        "plt.title('Teste', fontsize=20)\n",
        "plt.plot(x_grid, y_pred_grid,'k')\n",
        "plt.plot(x_grid, model_f(x_grid),'b')\n",
        "plt.show()"
      ],
      "execution_count": 205,
      "outputs": [
        {
          "output_type": "display_data",
          "data": {
            "image/png": "[encoded data removed]",
            "text/plain": [
              "<Figure size 432x288 with 1 Axes>"
            ]
          },
          "metadata": {
            "tags": [],
            "needs_background": "light"
          }
        },
        {
          "output_type": "display_data",
          "data": {
            "image/png": "[encoded data removed]",
            "text/plain": [
              "<Figure size 432x288 with 1 Axes>"
            ]
          },
          "metadata": {
            "tags": [],
            "needs_background": "light"
          }
        }
      ]
    }
  ]
}